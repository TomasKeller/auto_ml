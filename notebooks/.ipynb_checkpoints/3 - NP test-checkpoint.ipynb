{
 "cells": [
  {
   "cell_type": "code",
   "execution_count": 1,
   "metadata": {},
   "outputs": [],
   "source": [
    "import pandas as pd"
   ]
  },
  {
   "cell_type": "code",
   "execution_count": 87,
   "metadata": {},
   "outputs": [
    {
     "name": "stdout",
     "output_type": "stream",
     "text": [
      "/Users/tomas/OneDrive - C Finance Oy/analytics/auto_ml/notebooks\n"
     ]
    }
   ],
   "source": [
    "!pwd"
   ]
  },
  {
   "cell_type": "code",
   "execution_count": 88,
   "metadata": {},
   "outputs": [
    {
     "name": "stderr",
     "output_type": "stream",
     "text": [
      "/Users/tomas/miniconda3/envs/py36/lib/python3.6/site-packages/IPython/core/interactiveshell.py:3063: DtypeWarning: Columns (11,12,18) have mixed types. Specify dtype option on import or set low_memory=False.\n",
      "  interactivity=interactivity, compiler=compiler, result=result)\n"
     ]
    }
   ],
   "source": [
    "#df=pd.read_csv('/Users/tomas/OneDrive - C Finance Oy/analytics/SE/Marketing/MarketingAnalytics/analyticsweek_sep_2019/data/all_V6.csv')\n",
    "df=pd.read_csv('/Users/tomas/Downloads/NP_ready_to_train_1_0.csv')"
   ]
  },
  {
   "cell_type": "code",
   "execution_count": 96,
   "metadata": {},
   "outputs": [],
   "source": [
    "drop_cols = [\n",
    "    'processFinishedTime',\n",
    "    'processStartTime',\n",
    "    'processStatus',\n",
    "    'reportNumber',\n",
    "    'instantor_request',\n",
    "    'brand_currency',\n",
    "    'application_id',\n",
    "    'customer_ssn',\n",
    "    'customer_id',\n",
    "    'application_receivedtime',\n",
    "    'application_grantedloanamount',\n",
    "    'application_accepted',\n",
    "    'terminated_time',\n",
    "    'terminated',\n",
    "    'old_flex_customer',\n",
    "    'old_medde_customer',\n",
    "    'sold_inv_count',\n",
    "    'paid_inv_count',\n",
    "    'inv_count',\n",
    "    'termination_reason',\n",
    "    'termination_type','Unnamed: 0'\n",
    "]"
   ]
  },
  {
   "cell_type": "code",
   "execution_count": 97,
   "metadata": {},
   "outputs": [],
   "source": [
    "df_dr=df.drop(columns=drop_cols)"
   ]
  },
  {
   "cell_type": "code",
   "execution_count": 98,
   "metadata": {},
   "outputs": [
    {
     "data": {
      "text/plain": [
       "Index(['brand_name', 'application_appliedloanamount',\n",
       "       'first7d_new_cat__mac__[Alcohol]_outgoing_sum',\n",
       "       'first7d_new_cat__mac__[Beijer Byggmaterial]_outgoing_sum',\n",
       "       'first7d_new_cat__mac__[Biltema]_incoming_sum',\n",
       "       'first7d_new_cat__mac__[Biltema]_outgoing_sum',\n",
       "       'first7d_new_cat__mac__[Byggmax]_outgoing_sum',\n",
       "       'first7d_new_cat__mac__[Byggnads]_outgoing_sum',\n",
       "       'first7d_new_cat__mac__[Circle-K]_incoming_sum',\n",
       "       'first7d_new_cat__mac__[Circle-K]_outgoing_sum',\n",
       "       ...\n",
       "       'insightsRiskFeatures__atmWithdrawals__atmExpensesRatio12M',\n",
       "       'insightsRiskFeatures__monthlyPaymentVariance__numMonthlyExpenseStreams',\n",
       "       'insightsRiskFeatures__monthlyPaymentVariance__maxNormStdMonthlyExpenseStreams',\n",
       "       'insightsRiskFeatures__monthlyPaymentVariance__maxStdMonthlyExpenseStreams',\n",
       "       'insightsRiskFeatures__monthlyPaymentVariance__avgNormStdMonthlyExpenseStreams',\n",
       "       'insightsRiskFeatures__monthlyPaymentVariance__avgStdMonthlyExpenseStreams',\n",
       "       'insightsRiskFeatures__monthlyPaymentVariance__avgStdTiming',\n",
       "       'insightsRiskFeatures__monthlyPaymentVariance__version',\n",
       "       'insightsRiskFeatures__monthlyPaymentVariance__maxStdTiming', 'is_NP'],\n",
       "      dtype='object', length=1034)"
      ]
     },
     "execution_count": 98,
     "metadata": {},
     "output_type": "execute_result"
    }
   ],
   "source": [
    "df_train, df_test = train_test_split(df_dr, test_size=0.3)\n",
    "df_train.columns"
   ]
  },
  {
   "cell_type": "code",
   "execution_count": 99,
   "metadata": {},
   "outputs": [
    {
     "name": "stdout",
     "output_type": "stream",
     "text": [
      "Welcome to auto_ml! We're about to go through and make sense of your data using machine learning, and give you a production-ready pipeline to get predictions with.\n",
      "\n",
      "If you have any issues, or new feature ideas, let us know at http://auto.ml\n",
      "You are running on version 2.9.10\n",
      "Now using the model training_params that you passed in:\n",
      "{}\n",
      "After overwriting our defaults with your values, here are the final params that will be used to initialize the model:\n",
      "{'presort': False, 'learning_rate': 0.1, 'warm_start': True}\n"
     ]
    },
    {
     "name": "stderr",
     "output_type": "stream",
     "text": [
      "/Users/tomas/miniconda3/envs/py36/lib/python3.6/site-packages/sklearn/base.py:197: FutureWarning: From version 0.24, get_params will raise an AttributeError if a parameter cannot be retrieved as an instance attribute. Previously it would return None.\n",
      "  FutureWarning)\n"
     ]
    },
    {
     "name": "stdout",
     "output_type": "stream",
     "text": [
      "Running basic data cleaning\n",
      "Fitting DataFrameVectorizer\n",
      "Now using the model training_params that you passed in:\n",
      "{}\n",
      "After overwriting our defaults with your values, here are the final params that will be used to initialize the model:\n",
      "{'presort': False, 'learning_rate': 0.1, 'warm_start': True}\n",
      "\n",
      "\n",
      "********************************************************************************************\n",
      "About to fit the pipeline for the model GradientBoostingClassifier to predict is_NP\n",
      "Started at:\n",
      "2020-03-25 15:41:24\n"
     ]
    },
    {
     "name": "stderr",
     "output_type": "stream",
     "text": [
      "/Users/tomas/miniconda3/envs/py36/lib/python3.6/site-packages/sklearn/ensemble/_gb.py:1342: FutureWarning: The parameter 'presort' is deprecated and has no effect. It will be removed in v0.24. You can suppress this warning by not passing any value to the 'presort' parameter. We also recommend using HistGradientBoosting models instead.\n",
      "  FutureWarning)\n",
      "/Users/tomas/miniconda3/envs/py36/lib/python3.6/site-packages/sklearn/ensemble/_gb.py:1342: FutureWarning: The parameter 'presort' is deprecated and has no effect. It will be removed in v0.24. You can suppress this warning by not passing any value to the 'presort' parameter. We also recommend using HistGradientBoosting models instead.\n",
      "  FutureWarning)\n"
     ]
    },
    {
     "name": "stdout",
     "output_type": "stream",
     "text": [
      "[1] random_holdout_set_from_training_data's score is: -0.175\n",
      "[2] random_holdout_set_from_training_data's score is: -0.172\n"
     ]
    },
    {
     "name": "stderr",
     "output_type": "stream",
     "text": [
      "/Users/tomas/miniconda3/envs/py36/lib/python3.6/site-packages/sklearn/ensemble/_gb.py:1342: FutureWarning: The parameter 'presort' is deprecated and has no effect. It will be removed in v0.24. You can suppress this warning by not passing any value to the 'presort' parameter. We also recommend using HistGradientBoosting models instead.\n",
      "  FutureWarning)\n",
      "/Users/tomas/miniconda3/envs/py36/lib/python3.6/site-packages/sklearn/ensemble/_gb.py:1342: FutureWarning: The parameter 'presort' is deprecated and has no effect. It will be removed in v0.24. You can suppress this warning by not passing any value to the 'presort' parameter. We also recommend using HistGradientBoosting models instead.\n",
      "  FutureWarning)\n"
     ]
    },
    {
     "name": "stdout",
     "output_type": "stream",
     "text": [
      "[3] random_holdout_set_from_training_data's score is: -0.171\n",
      "[4] random_holdout_set_from_training_data's score is: -0.169\n"
     ]
    },
    {
     "name": "stderr",
     "output_type": "stream",
     "text": [
      "/Users/tomas/miniconda3/envs/py36/lib/python3.6/site-packages/sklearn/ensemble/_gb.py:1342: FutureWarning: The parameter 'presort' is deprecated and has no effect. It will be removed in v0.24. You can suppress this warning by not passing any value to the 'presort' parameter. We also recommend using HistGradientBoosting models instead.\n",
      "  FutureWarning)\n",
      "/Users/tomas/miniconda3/envs/py36/lib/python3.6/site-packages/sklearn/ensemble/_gb.py:1342: FutureWarning: The parameter 'presort' is deprecated and has no effect. It will be removed in v0.24. You can suppress this warning by not passing any value to the 'presort' parameter. We also recommend using HistGradientBoosting models instead.\n",
      "  FutureWarning)\n"
     ]
    },
    {
     "name": "stdout",
     "output_type": "stream",
     "text": [
      "[5] random_holdout_set_from_training_data's score is: -0.167\n",
      "[6] random_holdout_set_from_training_data's score is: -0.167\n"
     ]
    },
    {
     "name": "stderr",
     "output_type": "stream",
     "text": [
      "/Users/tomas/miniconda3/envs/py36/lib/python3.6/site-packages/sklearn/ensemble/_gb.py:1342: FutureWarning: The parameter 'presort' is deprecated and has no effect. It will be removed in v0.24. You can suppress this warning by not passing any value to the 'presort' parameter. We also recommend using HistGradientBoosting models instead.\n",
      "  FutureWarning)\n",
      "/Users/tomas/miniconda3/envs/py36/lib/python3.6/site-packages/sklearn/ensemble/_gb.py:1342: FutureWarning: The parameter 'presort' is deprecated and has no effect. It will be removed in v0.24. You can suppress this warning by not passing any value to the 'presort' parameter. We also recommend using HistGradientBoosting models instead.\n",
      "  FutureWarning)\n"
     ]
    },
    {
     "name": "stdout",
     "output_type": "stream",
     "text": [
      "[7] random_holdout_set_from_training_data's score is: -0.166\n",
      "[8] random_holdout_set_from_training_data's score is: -0.165\n"
     ]
    },
    {
     "name": "stderr",
     "output_type": "stream",
     "text": [
      "/Users/tomas/miniconda3/envs/py36/lib/python3.6/site-packages/sklearn/ensemble/_gb.py:1342: FutureWarning: The parameter 'presort' is deprecated and has no effect. It will be removed in v0.24. You can suppress this warning by not passing any value to the 'presort' parameter. We also recommend using HistGradientBoosting models instead.\n",
      "  FutureWarning)\n",
      "/Users/tomas/miniconda3/envs/py36/lib/python3.6/site-packages/sklearn/ensemble/_gb.py:1342: FutureWarning: The parameter 'presort' is deprecated and has no effect. It will be removed in v0.24. You can suppress this warning by not passing any value to the 'presort' parameter. We also recommend using HistGradientBoosting models instead.\n",
      "  FutureWarning)\n"
     ]
    },
    {
     "name": "stdout",
     "output_type": "stream",
     "text": [
      "[9] random_holdout_set_from_training_data's score is: -0.164\n",
      "[10] random_holdout_set_from_training_data's score is: -0.164\n"
     ]
    },
    {
     "name": "stderr",
     "output_type": "stream",
     "text": [
      "/Users/tomas/miniconda3/envs/py36/lib/python3.6/site-packages/sklearn/ensemble/_gb.py:1342: FutureWarning: The parameter 'presort' is deprecated and has no effect. It will be removed in v0.24. You can suppress this warning by not passing any value to the 'presort' parameter. We also recommend using HistGradientBoosting models instead.\n",
      "  FutureWarning)\n",
      "/Users/tomas/miniconda3/envs/py36/lib/python3.6/site-packages/sklearn/ensemble/_gb.py:1342: FutureWarning: The parameter 'presort' is deprecated and has no effect. It will be removed in v0.24. You can suppress this warning by not passing any value to the 'presort' parameter. We also recommend using HistGradientBoosting models instead.\n",
      "  FutureWarning)\n"
     ]
    },
    {
     "name": "stdout",
     "output_type": "stream",
     "text": [
      "[11] random_holdout_set_from_training_data's score is: -0.163\n",
      "[12] random_holdout_set_from_training_data's score is: -0.163\n"
     ]
    },
    {
     "name": "stderr",
     "output_type": "stream",
     "text": [
      "/Users/tomas/miniconda3/envs/py36/lib/python3.6/site-packages/sklearn/ensemble/_gb.py:1342: FutureWarning: The parameter 'presort' is deprecated and has no effect. It will be removed in v0.24. You can suppress this warning by not passing any value to the 'presort' parameter. We also recommend using HistGradientBoosting models instead.\n",
      "  FutureWarning)\n",
      "/Users/tomas/miniconda3/envs/py36/lib/python3.6/site-packages/sklearn/ensemble/_gb.py:1342: FutureWarning: The parameter 'presort' is deprecated and has no effect. It will be removed in v0.24. You can suppress this warning by not passing any value to the 'presort' parameter. We also recommend using HistGradientBoosting models instead.\n",
      "  FutureWarning)\n"
     ]
    },
    {
     "name": "stdout",
     "output_type": "stream",
     "text": [
      "[13] random_holdout_set_from_training_data's score is: -0.162\n",
      "[14] random_holdout_set_from_training_data's score is: -0.162\n"
     ]
    },
    {
     "name": "stderr",
     "output_type": "stream",
     "text": [
      "/Users/tomas/miniconda3/envs/py36/lib/python3.6/site-packages/sklearn/ensemble/_gb.py:1342: FutureWarning: The parameter 'presort' is deprecated and has no effect. It will be removed in v0.24. You can suppress this warning by not passing any value to the 'presort' parameter. We also recommend using HistGradientBoosting models instead.\n",
      "  FutureWarning)\n",
      "/Users/tomas/miniconda3/envs/py36/lib/python3.6/site-packages/sklearn/ensemble/_gb.py:1342: FutureWarning: The parameter 'presort' is deprecated and has no effect. It will be removed in v0.24. You can suppress this warning by not passing any value to the 'presort' parameter. We also recommend using HistGradientBoosting models instead.\n",
      "  FutureWarning)\n"
     ]
    },
    {
     "name": "stdout",
     "output_type": "stream",
     "text": [
      "[15] random_holdout_set_from_training_data's score is: -0.161\n",
      "[16] random_holdout_set_from_training_data's score is: -0.161\n"
     ]
    },
    {
     "name": "stderr",
     "output_type": "stream",
     "text": [
      "/Users/tomas/miniconda3/envs/py36/lib/python3.6/site-packages/sklearn/ensemble/_gb.py:1342: FutureWarning: The parameter 'presort' is deprecated and has no effect. It will be removed in v0.24. You can suppress this warning by not passing any value to the 'presort' parameter. We also recommend using HistGradientBoosting models instead.\n",
      "  FutureWarning)\n",
      "/Users/tomas/miniconda3/envs/py36/lib/python3.6/site-packages/sklearn/ensemble/_gb.py:1342: FutureWarning: The parameter 'presort' is deprecated and has no effect. It will be removed in v0.24. You can suppress this warning by not passing any value to the 'presort' parameter. We also recommend using HistGradientBoosting models instead.\n",
      "  FutureWarning)\n"
     ]
    },
    {
     "name": "stdout",
     "output_type": "stream",
     "text": [
      "[17] random_holdout_set_from_training_data's score is: -0.161\n",
      "[18] random_holdout_set_from_training_data's score is: -0.161\n"
     ]
    },
    {
     "name": "stderr",
     "output_type": "stream",
     "text": [
      "/Users/tomas/miniconda3/envs/py36/lib/python3.6/site-packages/sklearn/ensemble/_gb.py:1342: FutureWarning: The parameter 'presort' is deprecated and has no effect. It will be removed in v0.24. You can suppress this warning by not passing any value to the 'presort' parameter. We also recommend using HistGradientBoosting models instead.\n",
      "  FutureWarning)\n",
      "/Users/tomas/miniconda3/envs/py36/lib/python3.6/site-packages/sklearn/ensemble/_gb.py:1342: FutureWarning: The parameter 'presort' is deprecated and has no effect. It will be removed in v0.24. You can suppress this warning by not passing any value to the 'presort' parameter. We also recommend using HistGradientBoosting models instead.\n",
      "  FutureWarning)\n"
     ]
    },
    {
     "name": "stdout",
     "output_type": "stream",
     "text": [
      "[19] random_holdout_set_from_training_data's score is: -0.16\n",
      "[20] random_holdout_set_from_training_data's score is: -0.16\n"
     ]
    },
    {
     "name": "stderr",
     "output_type": "stream",
     "text": [
      "/Users/tomas/miniconda3/envs/py36/lib/python3.6/site-packages/sklearn/ensemble/_gb.py:1342: FutureWarning: The parameter 'presort' is deprecated and has no effect. It will be removed in v0.24. You can suppress this warning by not passing any value to the 'presort' parameter. We also recommend using HistGradientBoosting models instead.\n",
      "  FutureWarning)\n",
      "/Users/tomas/miniconda3/envs/py36/lib/python3.6/site-packages/sklearn/ensemble/_gb.py:1342: FutureWarning: The parameter 'presort' is deprecated and has no effect. It will be removed in v0.24. You can suppress this warning by not passing any value to the 'presort' parameter. We also recommend using HistGradientBoosting models instead.\n",
      "  FutureWarning)\n"
     ]
    },
    {
     "name": "stdout",
     "output_type": "stream",
     "text": [
      "[21] random_holdout_set_from_training_data's score is: -0.16\n",
      "[22] random_holdout_set_from_training_data's score is: -0.16\n"
     ]
    },
    {
     "name": "stderr",
     "output_type": "stream",
     "text": [
      "/Users/tomas/miniconda3/envs/py36/lib/python3.6/site-packages/sklearn/ensemble/_gb.py:1342: FutureWarning: The parameter 'presort' is deprecated and has no effect. It will be removed in v0.24. You can suppress this warning by not passing any value to the 'presort' parameter. We also recommend using HistGradientBoosting models instead.\n",
      "  FutureWarning)\n",
      "/Users/tomas/miniconda3/envs/py36/lib/python3.6/site-packages/sklearn/ensemble/_gb.py:1342: FutureWarning: The parameter 'presort' is deprecated and has no effect. It will be removed in v0.24. You can suppress this warning by not passing any value to the 'presort' parameter. We also recommend using HistGradientBoosting models instead.\n",
      "  FutureWarning)\n"
     ]
    },
    {
     "name": "stdout",
     "output_type": "stream",
     "text": [
      "[23] random_holdout_set_from_training_data's score is: -0.159\n",
      "[24] random_holdout_set_from_training_data's score is: -0.159\n"
     ]
    },
    {
     "name": "stderr",
     "output_type": "stream",
     "text": [
      "/Users/tomas/miniconda3/envs/py36/lib/python3.6/site-packages/sklearn/ensemble/_gb.py:1342: FutureWarning: The parameter 'presort' is deprecated and has no effect. It will be removed in v0.24. You can suppress this warning by not passing any value to the 'presort' parameter. We also recommend using HistGradientBoosting models instead.\n",
      "  FutureWarning)\n",
      "/Users/tomas/miniconda3/envs/py36/lib/python3.6/site-packages/sklearn/ensemble/_gb.py:1342: FutureWarning: The parameter 'presort' is deprecated and has no effect. It will be removed in v0.24. You can suppress this warning by not passing any value to the 'presort' parameter. We also recommend using HistGradientBoosting models instead.\n",
      "  FutureWarning)\n"
     ]
    },
    {
     "name": "stdout",
     "output_type": "stream",
     "text": [
      "[25] random_holdout_set_from_training_data's score is: -0.159\n",
      "[26] random_holdout_set_from_training_data's score is: -0.159\n"
     ]
    },
    {
     "name": "stderr",
     "output_type": "stream",
     "text": [
      "/Users/tomas/miniconda3/envs/py36/lib/python3.6/site-packages/sklearn/ensemble/_gb.py:1342: FutureWarning: The parameter 'presort' is deprecated and has no effect. It will be removed in v0.24. You can suppress this warning by not passing any value to the 'presort' parameter. We also recommend using HistGradientBoosting models instead.\n",
      "  FutureWarning)\n",
      "/Users/tomas/miniconda3/envs/py36/lib/python3.6/site-packages/sklearn/ensemble/_gb.py:1342: FutureWarning: The parameter 'presort' is deprecated and has no effect. It will be removed in v0.24. You can suppress this warning by not passing any value to the 'presort' parameter. We also recommend using HistGradientBoosting models instead.\n",
      "  FutureWarning)\n"
     ]
    },
    {
     "name": "stdout",
     "output_type": "stream",
     "text": [
      "[27] random_holdout_set_from_training_data's score is: -0.159\n",
      "[28] random_holdout_set_from_training_data's score is: -0.159\n"
     ]
    },
    {
     "name": "stderr",
     "output_type": "stream",
     "text": [
      "/Users/tomas/miniconda3/envs/py36/lib/python3.6/site-packages/sklearn/ensemble/_gb.py:1342: FutureWarning: The parameter 'presort' is deprecated and has no effect. It will be removed in v0.24. You can suppress this warning by not passing any value to the 'presort' parameter. We also recommend using HistGradientBoosting models instead.\n",
      "  FutureWarning)\n",
      "/Users/tomas/miniconda3/envs/py36/lib/python3.6/site-packages/sklearn/ensemble/_gb.py:1342: FutureWarning: The parameter 'presort' is deprecated and has no effect. It will be removed in v0.24. You can suppress this warning by not passing any value to the 'presort' parameter. We also recommend using HistGradientBoosting models instead.\n",
      "  FutureWarning)\n"
     ]
    },
    {
     "name": "stdout",
     "output_type": "stream",
     "text": [
      "[29] random_holdout_set_from_training_data's score is: -0.159\n",
      "[30] random_holdout_set_from_training_data's score is: -0.159\n"
     ]
    },
    {
     "name": "stderr",
     "output_type": "stream",
     "text": [
      "/Users/tomas/miniconda3/envs/py36/lib/python3.6/site-packages/sklearn/ensemble/_gb.py:1342: FutureWarning: The parameter 'presort' is deprecated and has no effect. It will be removed in v0.24. You can suppress this warning by not passing any value to the 'presort' parameter. We also recommend using HistGradientBoosting models instead.\n",
      "  FutureWarning)\n",
      "/Users/tomas/miniconda3/envs/py36/lib/python3.6/site-packages/sklearn/ensemble/_gb.py:1342: FutureWarning: The parameter 'presort' is deprecated and has no effect. It will be removed in v0.24. You can suppress this warning by not passing any value to the 'presort' parameter. We also recommend using HistGradientBoosting models instead.\n",
      "  FutureWarning)\n"
     ]
    },
    {
     "name": "stdout",
     "output_type": "stream",
     "text": [
      "[31] random_holdout_set_from_training_data's score is: -0.159\n",
      "[32] random_holdout_set_from_training_data's score is: -0.159\n"
     ]
    },
    {
     "name": "stderr",
     "output_type": "stream",
     "text": [
      "/Users/tomas/miniconda3/envs/py36/lib/python3.6/site-packages/sklearn/ensemble/_gb.py:1342: FutureWarning: The parameter 'presort' is deprecated and has no effect. It will be removed in v0.24. You can suppress this warning by not passing any value to the 'presort' parameter. We also recommend using HistGradientBoosting models instead.\n",
      "  FutureWarning)\n",
      "/Users/tomas/miniconda3/envs/py36/lib/python3.6/site-packages/sklearn/ensemble/_gb.py:1342: FutureWarning: The parameter 'presort' is deprecated and has no effect. It will be removed in v0.24. You can suppress this warning by not passing any value to the 'presort' parameter. We also recommend using HistGradientBoosting models instead.\n",
      "  FutureWarning)\n"
     ]
    },
    {
     "name": "stdout",
     "output_type": "stream",
     "text": [
      "[33] random_holdout_set_from_training_data's score is: -0.158\n",
      "[34] random_holdout_set_from_training_data's score is: -0.158\n"
     ]
    },
    {
     "name": "stderr",
     "output_type": "stream",
     "text": [
      "/Users/tomas/miniconda3/envs/py36/lib/python3.6/site-packages/sklearn/ensemble/_gb.py:1342: FutureWarning: The parameter 'presort' is deprecated and has no effect. It will be removed in v0.24. You can suppress this warning by not passing any value to the 'presort' parameter. We also recommend using HistGradientBoosting models instead.\n",
      "  FutureWarning)\n",
      "/Users/tomas/miniconda3/envs/py36/lib/python3.6/site-packages/sklearn/ensemble/_gb.py:1342: FutureWarning: The parameter 'presort' is deprecated and has no effect. It will be removed in v0.24. You can suppress this warning by not passing any value to the 'presort' parameter. We also recommend using HistGradientBoosting models instead.\n",
      "  FutureWarning)\n"
     ]
    },
    {
     "name": "stdout",
     "output_type": "stream",
     "text": [
      "[35] random_holdout_set_from_training_data's score is: -0.158\n",
      "[36] random_holdout_set_from_training_data's score is: -0.158\n"
     ]
    },
    {
     "name": "stderr",
     "output_type": "stream",
     "text": [
      "/Users/tomas/miniconda3/envs/py36/lib/python3.6/site-packages/sklearn/ensemble/_gb.py:1342: FutureWarning: The parameter 'presort' is deprecated and has no effect. It will be removed in v0.24. You can suppress this warning by not passing any value to the 'presort' parameter. We also recommend using HistGradientBoosting models instead.\n",
      "  FutureWarning)\n",
      "/Users/tomas/miniconda3/envs/py36/lib/python3.6/site-packages/sklearn/ensemble/_gb.py:1342: FutureWarning: The parameter 'presort' is deprecated and has no effect. It will be removed in v0.24. You can suppress this warning by not passing any value to the 'presort' parameter. We also recommend using HistGradientBoosting models instead.\n",
      "  FutureWarning)\n"
     ]
    },
    {
     "name": "stdout",
     "output_type": "stream",
     "text": [
      "[37] random_holdout_set_from_training_data's score is: -0.158\n",
      "[38] random_holdout_set_from_training_data's score is: -0.158\n"
     ]
    },
    {
     "name": "stderr",
     "output_type": "stream",
     "text": [
      "/Users/tomas/miniconda3/envs/py36/lib/python3.6/site-packages/sklearn/ensemble/_gb.py:1342: FutureWarning: The parameter 'presort' is deprecated and has no effect. It will be removed in v0.24. You can suppress this warning by not passing any value to the 'presort' parameter. We also recommend using HistGradientBoosting models instead.\n",
      "  FutureWarning)\n",
      "/Users/tomas/miniconda3/envs/py36/lib/python3.6/site-packages/sklearn/ensemble/_gb.py:1342: FutureWarning: The parameter 'presort' is deprecated and has no effect. It will be removed in v0.24. You can suppress this warning by not passing any value to the 'presort' parameter. We also recommend using HistGradientBoosting models instead.\n",
      "  FutureWarning)\n"
     ]
    },
    {
     "name": "stdout",
     "output_type": "stream",
     "text": [
      "[39] random_holdout_set_from_training_data's score is: -0.158\n",
      "[40] random_holdout_set_from_training_data's score is: -0.158\n"
     ]
    },
    {
     "name": "stderr",
     "output_type": "stream",
     "text": [
      "/Users/tomas/miniconda3/envs/py36/lib/python3.6/site-packages/sklearn/ensemble/_gb.py:1342: FutureWarning: The parameter 'presort' is deprecated and has no effect. It will be removed in v0.24. You can suppress this warning by not passing any value to the 'presort' parameter. We also recommend using HistGradientBoosting models instead.\n",
      "  FutureWarning)\n",
      "/Users/tomas/miniconda3/envs/py36/lib/python3.6/site-packages/sklearn/ensemble/_gb.py:1342: FutureWarning: The parameter 'presort' is deprecated and has no effect. It will be removed in v0.24. You can suppress this warning by not passing any value to the 'presort' parameter. We also recommend using HistGradientBoosting models instead.\n",
      "  FutureWarning)\n"
     ]
    },
    {
     "name": "stdout",
     "output_type": "stream",
     "text": [
      "[41] random_holdout_set_from_training_data's score is: -0.159\n",
      "[42] random_holdout_set_from_training_data's score is: -0.159\n"
     ]
    },
    {
     "name": "stderr",
     "output_type": "stream",
     "text": [
      "/Users/tomas/miniconda3/envs/py36/lib/python3.6/site-packages/sklearn/ensemble/_gb.py:1342: FutureWarning: The parameter 'presort' is deprecated and has no effect. It will be removed in v0.24. You can suppress this warning by not passing any value to the 'presort' parameter. We also recommend using HistGradientBoosting models instead.\n",
      "  FutureWarning)\n",
      "/Users/tomas/miniconda3/envs/py36/lib/python3.6/site-packages/sklearn/ensemble/_gb.py:1342: FutureWarning: The parameter 'presort' is deprecated and has no effect. It will be removed in v0.24. You can suppress this warning by not passing any value to the 'presort' parameter. We also recommend using HistGradientBoosting models instead.\n",
      "  FutureWarning)\n"
     ]
    },
    {
     "name": "stdout",
     "output_type": "stream",
     "text": [
      "[43] random_holdout_set_from_training_data's score is: -0.159\n",
      "[44] random_holdout_set_from_training_data's score is: -0.159\n"
     ]
    },
    {
     "name": "stderr",
     "output_type": "stream",
     "text": [
      "/Users/tomas/miniconda3/envs/py36/lib/python3.6/site-packages/sklearn/ensemble/_gb.py:1342: FutureWarning: The parameter 'presort' is deprecated and has no effect. It will be removed in v0.24. You can suppress this warning by not passing any value to the 'presort' parameter. We also recommend using HistGradientBoosting models instead.\n",
      "  FutureWarning)\n",
      "/Users/tomas/miniconda3/envs/py36/lib/python3.6/site-packages/sklearn/ensemble/_gb.py:1342: FutureWarning: The parameter 'presort' is deprecated and has no effect. It will be removed in v0.24. You can suppress this warning by not passing any value to the 'presort' parameter. We also recommend using HistGradientBoosting models instead.\n",
      "  FutureWarning)\n"
     ]
    },
    {
     "name": "stdout",
     "output_type": "stream",
     "text": [
      "[45] random_holdout_set_from_training_data's score is: -0.159\n",
      "[46] random_holdout_set_from_training_data's score is: -0.159\n"
     ]
    },
    {
     "name": "stderr",
     "output_type": "stream",
     "text": [
      "/Users/tomas/miniconda3/envs/py36/lib/python3.6/site-packages/sklearn/ensemble/_gb.py:1342: FutureWarning: The parameter 'presort' is deprecated and has no effect. It will be removed in v0.24. You can suppress this warning by not passing any value to the 'presort' parameter. We also recommend using HistGradientBoosting models instead.\n",
      "  FutureWarning)\n",
      "/Users/tomas/miniconda3/envs/py36/lib/python3.6/site-packages/sklearn/ensemble/_gb.py:1342: FutureWarning: The parameter 'presort' is deprecated and has no effect. It will be removed in v0.24. You can suppress this warning by not passing any value to the 'presort' parameter. We also recommend using HistGradientBoosting models instead.\n",
      "  FutureWarning)\n"
     ]
    },
    {
     "name": "stdout",
     "output_type": "stream",
     "text": [
      "[47] random_holdout_set_from_training_data's score is: -0.159\n",
      "[48] random_holdout_set_from_training_data's score is: -0.159\n"
     ]
    },
    {
     "name": "stderr",
     "output_type": "stream",
     "text": [
      "/Users/tomas/miniconda3/envs/py36/lib/python3.6/site-packages/sklearn/ensemble/_gb.py:1342: FutureWarning: The parameter 'presort' is deprecated and has no effect. It will be removed in v0.24. You can suppress this warning by not passing any value to the 'presort' parameter. We also recommend using HistGradientBoosting models instead.\n",
      "  FutureWarning)\n",
      "/Users/tomas/miniconda3/envs/py36/lib/python3.6/site-packages/sklearn/ensemble/_gb.py:1342: FutureWarning: The parameter 'presort' is deprecated and has no effect. It will be removed in v0.24. You can suppress this warning by not passing any value to the 'presort' parameter. We also recommend using HistGradientBoosting models instead.\n",
      "  FutureWarning)\n"
     ]
    },
    {
     "name": "stdout",
     "output_type": "stream",
     "text": [
      "[49] random_holdout_set_from_training_data's score is: -0.159\n",
      "[50] random_holdout_set_from_training_data's score is: -0.159\n"
     ]
    },
    {
     "name": "stderr",
     "output_type": "stream",
     "text": [
      "/Users/tomas/miniconda3/envs/py36/lib/python3.6/site-packages/sklearn/ensemble/_gb.py:1342: FutureWarning: The parameter 'presort' is deprecated and has no effect. It will be removed in v0.24. You can suppress this warning by not passing any value to the 'presort' parameter. We also recommend using HistGradientBoosting models instead.\n",
      "  FutureWarning)\n"
     ]
    },
    {
     "name": "stdout",
     "output_type": "stream",
     "text": [
      "[52] random_holdout_set_from_training_data's score is: -0.159\n"
     ]
    },
    {
     "name": "stderr",
     "output_type": "stream",
     "text": [
      "/Users/tomas/miniconda3/envs/py36/lib/python3.6/site-packages/sklearn/ensemble/_gb.py:1342: FutureWarning: The parameter 'presort' is deprecated and has no effect. It will be removed in v0.24. You can suppress this warning by not passing any value to the 'presort' parameter. We also recommend using HistGradientBoosting models instead.\n",
      "  FutureWarning)\n"
     ]
    },
    {
     "name": "stdout",
     "output_type": "stream",
     "text": [
      "[54] random_holdout_set_from_training_data's score is: -0.159\n"
     ]
    },
    {
     "name": "stderr",
     "output_type": "stream",
     "text": [
      "/Users/tomas/miniconda3/envs/py36/lib/python3.6/site-packages/sklearn/ensemble/_gb.py:1342: FutureWarning: The parameter 'presort' is deprecated and has no effect. It will be removed in v0.24. You can suppress this warning by not passing any value to the 'presort' parameter. We also recommend using HistGradientBoosting models instead.\n",
      "  FutureWarning)\n"
     ]
    },
    {
     "name": "stdout",
     "output_type": "stream",
     "text": [
      "[56] random_holdout_set_from_training_data's score is: -0.159\n"
     ]
    },
    {
     "name": "stderr",
     "output_type": "stream",
     "text": [
      "/Users/tomas/miniconda3/envs/py36/lib/python3.6/site-packages/sklearn/ensemble/_gb.py:1342: FutureWarning: The parameter 'presort' is deprecated and has no effect. It will be removed in v0.24. You can suppress this warning by not passing any value to the 'presort' parameter. We also recommend using HistGradientBoosting models instead.\n",
      "  FutureWarning)\n"
     ]
    },
    {
     "name": "stdout",
     "output_type": "stream",
     "text": [
      "[58] random_holdout_set_from_training_data's score is: -0.159\n"
     ]
    },
    {
     "name": "stderr",
     "output_type": "stream",
     "text": [
      "/Users/tomas/miniconda3/envs/py36/lib/python3.6/site-packages/sklearn/ensemble/_gb.py:1342: FutureWarning: The parameter 'presort' is deprecated and has no effect. It will be removed in v0.24. You can suppress this warning by not passing any value to the 'presort' parameter. We also recommend using HistGradientBoosting models instead.\n",
      "  FutureWarning)\n"
     ]
    },
    {
     "name": "stdout",
     "output_type": "stream",
     "text": [
      "[60] random_holdout_set_from_training_data's score is: -0.158\n"
     ]
    },
    {
     "name": "stderr",
     "output_type": "stream",
     "text": [
      "/Users/tomas/miniconda3/envs/py36/lib/python3.6/site-packages/sklearn/ensemble/_gb.py:1342: FutureWarning: The parameter 'presort' is deprecated and has no effect. It will be removed in v0.24. You can suppress this warning by not passing any value to the 'presort' parameter. We also recommend using HistGradientBoosting models instead.\n",
      "  FutureWarning)\n"
     ]
    },
    {
     "name": "stdout",
     "output_type": "stream",
     "text": [
      "[62] random_holdout_set_from_training_data's score is: -0.158\n",
      "The number of estimators that were the best for this training dataset: 36\n",
      "The best score on the holdout set: -0.15783327136639125\n",
      "Finished training the pipeline!\n",
      "Total training time:\n",
      "0:00:10\n",
      "\n",
      "\n",
      "Here are the results from our GradientBoostingClassifier\n",
      "predicting is_NP\n",
      "Calculating feature responses, for advanced analytics.\n",
      "The printed list will only contain at most the top 100 features.\n",
      "+----+-------------------------------------------------------------------------------+--------------+-------------+-------------------+-------------------+-----------+-----------+-----------+-----------+\n",
      "|    | Feature Name                                                                  |   Importance |       Delta |   FR_Decrementing |   FR_Incrementing |   FRD_abs |   FRI_abs |   FRD_MAD |   FRI_MAD |\n",
      "|----+-------------------------------------------------------------------------------+--------------+-------------+-------------------+-------------------+-----------+-----------+-----------+-----------|\n",
      "| 82 | insightsRiskFeatures__transactionStats__sumIncAmounts1W                       |       0.0025 |  30210.3232 |           -0.0028 |            0.0015 |    0.0028 |    0.0015 |    0.0000 |    0.0000 |\n",
      "| 27 | first180d_new_cat__mac__[LIDL]_outgoing_count                                 |       0.0026 |      4.9935 |            0.0000 |            0.0000 |    0.0000 |    0.0000 |    0.0000 |    0.0000 |\n",
      "|  7 | first30d_new_cat__mac__[McDonalds]_outgoing_count                             |       0.0026 |      0.9152 |           -0.0001 |            0.0000 |    0.0001 |    0.0000 |    0.0000 |    0.0000 |\n",
      "| 70 | insightsRiskFeatures__balances__minBalance1W                                  |       0.0027 |   9202.3110 |            0.0001 |           -0.0001 |    0.0001 |    0.0001 |    0.0000 |    0.0000 |\n",
      "| 33 | insightsRiskFeatures__cashFlow__positiveNegativeRatioTotal                    |       0.0027 |      0.2557 |            0.0000 |            0.0000 |    0.0000 |    0.0000 |    0.0000 |    0.0000 |\n",
      "| 22 | first180d_new_cat__mac__[Tanka]_outgoing_sum                                  |       0.0027 |    260.0130 |            0.0037 |            0.0000 |    0.0037 |    0.0000 |    0.0000 |    0.0000 |\n",
      "| 94 | insightsRiskFeatures__monthlyPaymentVariance__maxStdMonthlyExpenseStreams     |       0.0028 |   8130.0306 |           -0.0006 |            0.0005 |    0.0006 |    0.0005 |    0.0000 |    0.0000 |\n",
      "| 20 | first180d_new_cat__mac__[ICA Bank]_incoming_sum                               |       0.0028 |   6184.6185 |           -0.0001 |            0.0080 |    0.0001 |    0.0094 |    0.0000 |    0.0000 |\n",
      "| 15 | first90d_new_cat__nk__[transfer via internet]_incoming_sum                    |       0.0028 |  47005.1020 |           -0.0001 |            0.0003 |    0.0001 |    0.0003 |    0.0000 |    0.0000 |\n",
      "| 32 | insightsRiskFeatures__cashFlow__positiveNegativeRatio6M                       |       0.0028 |      0.1806 |            0.0001 |           -0.0002 |    0.0001 |    0.0002 |    0.0000 |    0.0000 |\n",
      "| 23 | first180d_new_cat__mac__[ÖoB]_outgoing_sum                                    |       0.0028 |    340.3256 |           -0.0003 |            0.0001 |    0.0003 |    0.0001 |    0.0000 |    0.0000 |\n",
      "| 13 | first90d_new_cat__nk__[loan]_outgoing_sum                                     |       0.0029 |   4770.7714 |            0.0043 |            0.0000 |    0.0043 |    0.0000 |    0.0000 |    0.0000 |\n",
      "| 86 | insightsRiskFeatures__transactionStats__meanIncAmountTotal                    |       0.0029 |   3049.2221 |            0.0000 |            0.0001 |    0.0000 |    0.0001 |    0.0000 |    0.0000 |\n",
      "| 43 | insightsRiskFeatures__lowBalances__daysBalanceBelow70_12M                     |       0.0030 |     10.5475 |            0.0000 |           -0.0001 |    0.0000 |    0.0001 |    0.0000 |    0.0000 |\n",
      "|  3 | first30d_new_cat__mac__[LIDL]_outgoing_sum                                    |       0.0030 |    165.1864 |            0.0001 |           -0.0001 |    0.0001 |    0.0001 |    0.0000 |    0.0000 |\n",
      "| 98 | insightsRiskFeatures__monthlyPaymentVariance__maxStdTiming                    |       0.0031 |      0.1482 |           -0.0002 |            0.0000 |    0.0002 |    0.0000 |    0.0000 |    0.0000 |\n",
      "| 64 | insightsRiskFeatures__balances__maxBalance12M                                 |       0.0033 |  88169.2429 |           -0.0001 |            0.0002 |    0.0001 |    0.0002 |    0.0000 |    0.0000 |\n",
      "| 92 | insightsRiskFeatures__atmWithdrawals__atmExpensesRatio6M                      |       0.0033 |      0.0324 |           -0.0001 |            0.0003 |    0.0001 |    0.0003 |    0.0000 |    0.0000 |\n",
      "| 37 | insightsRiskFeatures__accountActivity__daysSinceLastTrn                       |       0.0033 |      0.9838 |           -0.0000 |            0.0000 |    0.0001 |    0.0001 |    0.0000 |    0.0000 |\n",
      "| 29 | insightsRiskFeatures__incomeTrends__avg30dRollingRecent                       |       0.0033 |  49830.8321 |            0.0006 |           -0.0004 |    0.0006 |    0.0004 |    0.0000 |    0.0000 |\n",
      "| 36 | insightsRiskFeatures__accountActivity__activity3M                             |       0.0034 |      0.0724 |            0.0012 |           -0.0005 |    0.0012 |    0.0005 |    0.0000 |    0.0000 |\n",
      "|  4 | first30d_new_cat__mac__[Maxi ICA]_outgoing_sum                                |       0.0034 |    471.7922 |            0.0000 |            0.0000 |    0.0000 |    0.0000 |    0.0000 |    0.0000 |\n",
      "| 28 | first180d_new_cat__nk__[mostly collection but not only]_outgoing_count        |       0.0034 |      1.9852 |            0.0000 |           -0.0003 |    0.0000 |    0.0003 |    0.0000 |    0.0000 |\n",
      "| 26 | first180d_new_cat__mac__[Alcohol]_outgoing_count                              |       0.0035 |      6.7224 |           -0.0004 |            0.0012 |    0.0004 |    0.0012 |    0.0000 |    0.0000 |\n",
      "| 80 | insightsRiskFeatures__transactionStats__meanAmount6M                          |       0.0035 |     84.7831 |            0.0004 |           -0.0006 |    0.0006 |    0.0011 |    0.0000 |    0.0000 |\n",
      "| 47 | insightsRiskFeatures__loans__repaymentLoanRatio1M                             |       0.0036 |      1.9836 |            0.0011 |           -0.0065 |    0.0014 |    0.0073 |    0.0000 |    0.0074 |\n",
      "| 19 | first90d_new_cat__mac__[Tempo]_outgoing_count                                 |       0.0036 |      2.6502 |           -0.0001 |            0.0000 |    0.0001 |    0.0000 |    0.0000 |    0.0000 |\n",
      "| 54 | insightsRiskFeatures__spendingDistribution__trend(1000 to 2000)               |       0.0037 |      0.6116 |            0.0000 |            0.0002 |    0.0000 |    0.0002 |    0.0000 |    0.0000 |\n",
      "| 83 | insightsRiskFeatures__transactionStats__numUniqueTrns6M                       |       0.0037 |    146.6640 |            0.0005 |           -0.0011 |    0.0005 |    0.0016 |    0.0000 |    0.0000 |\n",
      "| 63 | insightsRiskFeatures__balances__stdBalance3M                                  |       0.0039 |   9627.3285 |            0.0058 |           -0.0004 |    0.0058 |    0.0004 |    0.0000 |    0.0000 |\n",
      "| 31 | insightsRiskFeatures__cashFlow__negativeCashflow3M                            |       0.0039 | 111513.6608 |           -0.0004 |            0.0007 |    0.0004 |    0.0007 |    0.0000 |    0.0000 |\n",
      "| 46 | insightsRiskFeatures__loans__sumLoans1M                                       |       0.0039 |  13640.2068 |            0.0003 |           -0.0014 |    0.0003 |    0.0014 |    0.0000 |    0.0000 |\n",
      "| 16 | first90d_new_cat__mac__[Circle-K]_outgoing_count                              |       0.0039 |      4.7233 |            0.0000 |            0.0000 |    0.0000 |    0.0000 |    0.0000 |    0.0000 |\n",
      "| 21 | first180d_new_cat__mac__[ICA Nära]_outgoing_sum                               |       0.0040 |   1212.8613 |           -0.0005 |            0.0003 |    0.0005 |    0.0003 |    0.0000 |    0.0000 |\n",
      "|  5 | first30d_new_cat__nk__[transfer via internet]_incoming_sum                    |       0.0041 |  28244.0222 |           -0.0004 |            0.0013 |    0.0004 |    0.0013 |    0.0000 |    0.0000 |\n",
      "| 96 | insightsRiskFeatures__monthlyPaymentVariance__avgStdMonthlyExpenseStreams     |       0.0042 |    462.9709 |            0.0000 |            0.0001 |    0.0000 |    0.0001 |    0.0000 |    0.0000 |\n",
      "| 89 | insightsRiskFeatures__transactionStats__numUniqueIncTrns6M                    |       0.0042 |     28.5255 |            0.0002 |           -0.0005 |    0.0002 |    0.0005 |    0.0000 |    0.0000 |\n",
      "|  8 | first90d_new_cat__mac__[Alcohol]_outgoing_sum                                 |       0.0043 |    885.5823 |           -0.0004 |            0.0002 |    0.0004 |    0.0002 |    0.0000 |    0.0000 |\n",
      "| 53 | insightsRiskFeatures__spendingDistribution__trend(-2000 to -1000)             |       0.0043 |      0.9359 |           -0.0003 |            0.0004 |    0.0003 |    0.0004 |    0.0000 |    0.0000 |\n",
      "| 68 | insightsRiskFeatures__balances__stdBalance6M                                  |       0.0043 |  10084.1299 |           -0.0002 |            0.0006 |    0.0002 |    0.0006 |    0.0000 |    0.0000 |\n",
      "| 42 | insightsRiskFeatures__lowBalances__daysBalanceBelow0_Total                    |       0.0043 |      6.7810 |            0.0000 |           -0.0001 |    0.0000 |    0.0001 |    0.0000 |    0.0000 |\n",
      "| 51 | insightsRiskFeatures__spendingDistribution__trend(-1000 to -500)              |       0.0044 |      0.8238 |           -0.0000 |            0.0004 |    0.0000 |    0.0004 |    0.0000 |    0.0000 |\n",
      "| 69 | insightsRiskFeatures__balances__maxBalanceTotal                               |       0.0044 |  88169.2429 |           -0.0001 |            0.0004 |    0.0001 |    0.0004 |    0.0000 |    0.0000 |\n",
      "| 18 | first90d_new_cat__mac__[McDonalds]_outgoing_count                             |       0.0045 |      2.3559 |           -0.0001 |            0.0000 |    0.0001 |    0.0000 |    0.0000 |    0.0000 |\n",
      "| 58 | insightsRiskFeatures__spendingDistribution__lastMonthSum(-10000 to -5000)     |       0.0046 |   7034.8341 |           -0.0002 |            0.0003 |    0.0002 |    0.0003 |    0.0000 |    0.0000 |\n",
      "| 61 | insightsRiskFeatures__spendingDistribution__trend(-10000 to -5000)            |       0.0046 |      0.7052 |            0.0006 |           -0.0004 |    0.0006 |    0.0004 |    0.0000 |    0.0000 |\n",
      "| 52 | insightsRiskFeatures__spendingDistribution__trend(-100 to -50)                |       0.0048 |      0.4036 |            0.0002 |           -0.0007 |    0.0002 |    0.0007 |    0.0000 |    0.0000 |\n",
      "| 25 | first180d_new_cat__nk__[peer-to-peer lending]_outgoing_sum                    |       0.0050 |   1383.9275 |            0.0000 |            0.0000 |    0.0000 |    0.0000 |    0.0000 |    0.0000 |\n",
      "| 79 | insightsRiskFeatures__transactionStats__numIncTrns3M                          |       0.0051 |     51.0282 |           -0.0002 |            0.0001 |    0.0002 |    0.0001 |    0.0000 |    0.0000 |\n",
      "|  6 | first30d_new_cat__nk__[transfer via internet]_outgoing_sum                    |       0.0051 |  36676.7432 |            0.0038 |           -0.0001 |    0.0038 |    0.0001 |    0.0000 |    0.0000 |\n",
      "|  2 | first7d_new_cat__mac__[Biltema]_outgoing_count                                |       0.0052 |      0.1853 |            0.0000 |            0.0000 |    0.0000 |    0.0000 |    0.0000 |    0.0000 |\n",
      "| 85 | insightsRiskFeatures__transactionStats__numUniqueOutTrns1M                    |       0.0053 |     26.5050 |            0.0007 |           -0.0014 |    0.0007 |    0.0014 |    0.0000 |    0.0000 |\n",
      "| 41 | insightsRiskFeatures__lowBalances__daysBalanceBelow0_12M                      |       0.0053 |      6.7810 |            0.0000 |           -0.0001 |    0.0000 |    0.0001 |    0.0000 |    0.0000 |\n",
      "| 55 | insightsRiskFeatures__spendingDistribution__trend(50 to 100)                  |       0.0057 |      0.4893 |            0.0000 |            0.0000 |    0.0000 |    0.0000 |    0.0000 |    0.0000 |\n",
      "| 74 | insightsRiskFeatures__transactionStats__meanAmountTotal                       |       0.0068 |     84.0832 |           -0.0007 |            0.0087 |    0.0007 |    0.0089 |    0.0000 |    0.0063 |\n",
      "| 75 | insightsRiskFeatures__transactionStats__maxIncAmount1W                        |       0.0068 |  14656.9738 |           -0.0010 |            0.0028 |    0.0010 |    0.0028 |    0.0000 |    0.0000 |\n",
      "|  9 | first90d_new_cat__mac__[Circle-K]_outgoing_sum                                |       0.0070 |    947.6829 |            0.0001 |            0.0001 |    0.0003 |    0.0001 |    0.0000 |    0.0000 |\n",
      "| 88 | insightsRiskFeatures__transactionStats__sumAmounts1W                          |       0.0072 |  10055.3658 |           -0.0044 |            0.0044 |    0.0056 |    0.0050 |    0.0000 |    0.0000 |\n",
      "| 95 | insightsRiskFeatures__monthlyPaymentVariance__avgNormStdMonthlyExpenseStreams |       0.0076 |      0.0649 |           -0.0014 |            0.0020 |    0.0017 |    0.0022 |    0.0000 |    0.0000 |\n",
      "| 59 | insightsRiskFeatures__spendingDistribution__lastMonthSum(-50 to 0)            |       0.0077 |    180.2933 |            0.0005 |           -0.0005 |    0.0005 |    0.0005 |    0.0000 |    0.0000 |\n",
      "| 17 | first90d_new_cat__mac__[LIDL]_outgoing_count                                  |       0.0077 |      2.9012 |           -0.0006 |            0.0023 |    0.0006 |    0.0024 |    0.0000 |    0.0000 |\n",
      "| 97 | insightsRiskFeatures__monthlyPaymentVariance__avgStdTiming                    |       0.0078 |      0.0700 |           -0.0002 |            0.0002 |    0.0002 |    0.0002 |    0.0000 |    0.0000 |\n",
      "| 30 | insightsRiskFeatures__incomeTrends__avgRollingTrend                           |       0.0081 |      0.7495 |           -0.0004 |            0.0017 |    0.0006 |    0.0020 |    0.0000 |    0.0000 |\n",
      "| 44 | insightsRiskFeatures__loans__sumLoans3M                                       |       0.0082 |  21897.6758 |           -0.0001 |            0.0001 |    0.0001 |    0.0001 |    0.0000 |    0.0000 |\n",
      "| 45 | insightsRiskFeatures__loans__sumRepayments3M                                  |       0.0082 |  15867.3286 |            0.0020 |           -0.0029 |    0.0020 |    0.0029 |    0.0000 |    0.0000 |\n",
      "| 10 | first90d_new_cat__mac__[EnforcementAgency]_outgoing_sum                       |       0.0084 |    540.8851 |            0.0000 |           -0.0006 |    0.0001 |    0.0006 |    0.0000 |    0.0000 |\n",
      "| 90 | insightsRiskFeatures__transactionStats__numTrns1M                             |       0.0084 |     60.6511 |            0.0012 |           -0.0006 |    0.0012 |    0.0006 |    0.0000 |    0.0000 |\n",
      "| 14 | first90d_new_cat__nk__[mostly collection but not only]_outgoing_sum           |       0.0084 |   2931.6202 |           -0.0026 |            0.0010 |    0.0033 |    0.0014 |    0.0000 |    0.0000 |\n",
      "| 73 | insightsRiskFeatures__transactionStats__meanAmount1W                          |       0.0085 |    309.7475 |           -0.0082 |            0.0019 |    0.0082 |    0.0019 |    0.0078 |    0.0000 |\n",
      "| 81 | insightsRiskFeatures__transactionStats__maxOutAmount1W                        |       0.0086 |   8046.9722 |           -0.0008 |            0.0059 |    0.0008 |    0.0060 |    0.0000 |    0.0000 |\n",
      "| 78 | insightsRiskFeatures__transactionStats__maxIncAmount3M                        |       0.0088 |  31370.6580 |            0.0008 |           -0.0002 |    0.0008 |    0.0002 |    0.0000 |    0.0000 |\n",
      "| 35 | insightsRiskFeatures__cashFlow__positiveNegativeRatio1M                       |       0.0089 |      1.2965 |            0.0009 |           -0.0023 |    0.0010 |    0.0030 |    0.0000 |    0.0000 |\n",
      "| 11 | first90d_new_cat__mac__[LIDL]_outgoing_sum                                    |       0.0089 |    459.0851 |            0.0017 |           -0.0004 |    0.0017 |    0.0004 |    0.0000 |    0.0000 |\n",
      "| 62 | insightsRiskFeatures__spendingDistribution__trend(2000 to 5000)               |       0.0094 |      0.8614 |            0.0021 |           -0.0046 |    0.0021 |    0.0046 |    0.0000 |    0.0000 |\n",
      "| 56 | insightsRiskFeatures__spendingDistribution__trend(-500 to -200)               |       0.0094 |      1.2531 |            0.0145 |           -0.0020 |    0.0182 |    0.0023 |    0.0083 |    0.0000 |\n",
      "| 39 | insightsRiskFeatures__accountActivity__activityOutTotal                       |       0.0096 |      0.0665 |            0.0010 |           -0.0003 |    0.0010 |    0.0003 |    0.0000 |    0.0000 |\n",
      "| 72 | insightsRiskFeatures__transactionStats__maxIncAmount1M                        |       0.0112 |  22886.9503 |            0.0050 |           -0.0053 |    0.0050 |    0.0054 |    0.0000 |    0.0000 |\n",
      "| 66 | insightsRiskFeatures__balances__meanBalance1M                                 |       0.0113 |  10558.3249 |            0.0086 |           -0.0009 |    0.0086 |    0.0009 |    0.0071 |    0.0000 |\n",
      "| 50 | insightsRiskFeatures__spendingDistribution__lastMonthSum(50 to 100)           |       0.0115 |    103.9467 |           -0.0004 |            0.0006 |    0.0004 |    0.0006 |    0.0000 |    0.0000 |\n",
      "| 49 | insightsRiskFeatures__loans__sumRepayments6M                                  |       0.0115 |  24369.5004 |            0.0085 |           -0.0020 |    0.0085 |    0.0020 |    0.0000 |    0.0000 |\n",
      "| 60 | insightsRiskFeatures__spendingDistribution__lastMonthSum(-inf to -20000)      |       0.0117 |  63778.1642 |            0.0008 |           -0.0003 |    0.0008 |    0.0003 |    0.0000 |    0.0000 |\n",
      "| 99 | brand_name=Meddelandelån-ST                                                   |       0.0119 |    nan      |          nan      |          nan      |  nan      |  nan      |  nan      |  nan      |\n",
      "|  1 | first7d_new_cat__mac__[Jula]_outgoing_sum                                     |       0.0131 |     45.9147 |            0.0000 |            0.0000 |    0.0000 |    0.0000 |    0.0000 |    0.0000 |\n",
      "| 76 | insightsRiskFeatures__transactionStats__numTrns12M                            |       0.0133 |    299.5150 |            0.0033 |            0.0012 |    0.0041 |    0.0025 |    0.0000 |    0.0000 |\n",
      "| 12 | first90d_new_cat__mac__[McDonalds]_outgoing_sum                               |       0.0139 |    238.0736 |           -0.0017 |           -0.0001 |    0.0017 |    0.0004 |    0.0000 |    0.0000 |\n",
      "| 87 | insightsRiskFeatures__transactionStats__maxOutAmount3M                        |       0.0163 |  23035.1916 |           -0.0016 |            0.0031 |    0.0019 |    0.0035 |    0.0000 |    0.0000 |\n",
      "| 38 | insightsRiskFeatures__accountActivity__activityOut3M                          |       0.0173 |      0.0734 |            0.0023 |           -0.0010 |    0.0030 |    0.0025 |    0.0000 |    0.0000 |\n",
      "| 24 | first180d_new_cat__mac__[Östenssons]_outgoing_sum                             |       0.0182 |    247.1774 |            0.0000 |            0.0000 |    0.0000 |    0.0000 |    0.0000 |    0.0000 |\n",
      "| 93 | insightsRiskFeatures__atmWithdrawals__sumAtmWithdrawals3M                     |       0.0186 |   6088.3149 |           -0.0029 |            0.0102 |    0.0031 |    0.0114 |    0.0000 |    0.0106 |\n",
      "| 34 | insightsRiskFeatures__cashFlow__positiveNegativeRatio3M                       |       0.0190 |      0.2919 |            0.0034 |           -0.0117 |    0.0043 |    0.0155 |    0.0000 |    0.0103 |\n",
      "| 77 | insightsRiskFeatures__transactionStats__maxOutAmount1M                        |       0.0204 |  18269.9147 |           -0.0005 |            0.0013 |    0.0005 |    0.0013 |    0.0000 |    0.0000 |\n",
      "| 71 | insightsRiskFeatures__transactionStats__meanAmount1M                          |       0.0224 |    269.1878 |            0.0439 |           -0.0019 |    0.0444 |    0.0019 |    0.0267 |    0.0000 |\n",
      "| 40 | insightsRiskFeatures__collections__sumCollections6M                           |       0.0259 |   6707.7845 |           -0.0054 |            0.0098 |    0.0054 |    0.0098 |    0.0000 |    0.0000 |\n",
      "| 65 | insightsRiskFeatures__balances__maxBalance1M                                  |       0.0263 |  39799.7916 |           -0.0002 |            0.0005 |    0.0002 |    0.0005 |    0.0000 |    0.0000 |\n",
      "| 84 | insightsRiskFeatures__transactionStats__meanIncAmount3M                       |       0.0288 |   3430.0118 |            0.0112 |           -0.0013 |    0.0113 |    0.0017 |    0.0079 |    0.0000 |\n",
      "| 91 | insightsRiskFeatures__atmWithdrawals__sumAtmWithdrawals6M                     |       0.0297 |   8817.5483 |           -0.0072 |            0.0140 |    0.0075 |    0.0144 |    0.0000 |    0.0083 |\n",
      "| 67 | insightsRiskFeatures__balances__stdBalance1M                                  |       0.0416 |   9501.3373 |            0.0278 |           -0.0011 |    0.0324 |    0.0030 |    0.0205 |    0.0000 |\n",
      "|  0 | application_appliedloanamount                                                 |       0.0428 |   3897.7203 |           -0.0171 |            0.0111 |    0.0214 |    0.0116 |    0.0158 |    0.0000 |\n",
      "| 48 | insightsRiskFeatures__loans__sumRepayments1M                                  |       0.0773 |  13769.5849 |            0.0456 |           -0.0197 |    0.0464 |    0.0245 |    0.0407 |    0.0084 |\n",
      "| 57 | insightsRiskFeatures__spendingDistribution__lastMonthSum(-500 to -200)        |       0.0833 |   3345.1706 |           -0.0083 |            0.0324 |    0.0100 |    0.0351 |    0.0000 |    0.0000 |\n",
      "+----+-------------------------------------------------------------------------------+--------------+-------------+-------------------+-------------------+-----------+-----------+-----------+-----------+\n",
      "\n",
      "\n",
      "*******\n",
      "Legend:\n",
      "Importance = Feature Importance\n",
      "     Explanation: A weighted measure of how much of the variance the model is able to explain is due to this column\n",
      "FR_delta = Feature Response Delta Amount\n",
      "     Explanation: Amount this column was incremented or decremented by to calculate the feature reponses\n",
      "FR_Decrementing = Feature Response From Decrementing Values In This Column By One FR_delta\n",
      "     Explanation: Represents how much the predicted output values respond to subtracting one FR_delta amount from every value in this column\n",
      "FR_Incrementing = Feature Response From Incrementing Values In This Column By One FR_delta\n",
      "     Explanation: Represents how much the predicted output values respond to adding one FR_delta amount to every value in this column\n",
      "FRD_MAD = Feature Response From Decrementing- Median Absolute Delta\n",
      "     Explanation: Takes the absolute value of all changes in predictions, then takes the median of those. Useful for seeing if decrementing this feature provokes strong changes that are both positive and negative\n",
      "FRI_MAD = Feature Response From Incrementing- Median Absolute Delta\n",
      "     Explanation: Takes the absolute value of all changes in predictions, then takes the median of those. Useful for seeing if incrementing this feature provokes strong changes that are both positive and negative\n",
      "FRD_abs = Feature Response From Decrementing Avg Absolute Change\n",
      "     Explanation: What is the average absolute change in predicted output values to subtracting one FR_delta amount to every value in this column. Useful for seeing if output is sensitive to a feature, but not in a uniformly positive or negative way\n",
      "FRI_abs = Feature Response From Incrementing Avg Absolute Change\n",
      "     Explanation: What is the average absolute change in predicted output values to adding one FR_delta amount to every value in this column. Useful for seeing if output is sensitive to a feature, but not in a uniformly positive or negative way\n",
      "*******\n",
      "\n"
     ]
    },
    {
     "name": "stderr",
     "output_type": "stream",
     "text": [
      "/Users/tomas/miniconda3/envs/py36/lib/python3.6/site-packages/sklearn/base.py:197: FutureWarning: From version 0.24, get_params will raise an AttributeError if a parameter cannot be retrieved as an instance attribute. Previously it would return None.\n",
      "  FutureWarning)\n"
     ]
    },
    {
     "data": {
      "text/plain": [
       "<auto_ml.predictor.Predictor at 0x12aa10128>"
      ]
     },
     "execution_count": 99,
     "metadata": {},
     "output_type": "execute_result"
    }
   ],
   "source": [
    "from auto_ml import Predictor\n",
    "from sklearn.model_selection import train_test_split\n",
    "\n",
    "\n",
    "column_descriptions = {\n",
    "    'is_NP': 'output',\n",
    "    'brand_name': 'categorical',\n",
    "    \n",
    "}\n",
    "\n",
    "ml_predictor = Predictor(type_of_estimator='classification', column_descriptions=column_descriptions)\n",
    "\n",
    "ml_predictor.train(df_train)\n",
    "\n",
    "#ml_predictor.score(df_test, df_test.MEDV)"
   ]
  },
  {
   "cell_type": "code",
   "execution_count": 103,
   "metadata": {},
   "outputs": [
    {
     "name": "stdout",
     "output_type": "stream",
     "text": [
      "Now using the model training_params that you passed in:\n",
      "{}\n",
      "After overwriting our defaults with your values, here are the final params that will be used to initialize the model:\n",
      "{'presort': False, 'learning_rate': 0.1, 'warm_start': True}\n"
     ]
    },
    {
     "name": "stderr",
     "output_type": "stream",
     "text": [
      "/Users/tomas/miniconda3/envs/py36/lib/python3.6/site-packages/sklearn/base.py:197: FutureWarning: From version 0.24, get_params will raise an AttributeError if a parameter cannot be retrieved as an instance attribute. Previously it would return None.\n",
      "  FutureWarning)\n"
     ]
    },
    {
     "name": "stdout",
     "output_type": "stream",
     "text": [
      "Running basic data cleaning\n",
      "Fitting DataFrameVectorizer\n",
      "Now using the model training_params that you passed in:\n",
      "{}\n",
      "After overwriting our defaults with your values, here are the final params that will be used to initialize the model:\n",
      "{'presort': False, 'learning_rate': 0.1, 'warm_start': True}\n",
      "\n",
      "\n",
      "********************************************************************************************\n",
      "About to fit the pipeline for the model GradientBoostingClassifier to predict is_NP\n",
      "Started at:\n",
      "2020-03-25 15:45:02\n"
     ]
    },
    {
     "name": "stderr",
     "output_type": "stream",
     "text": [
      "/Users/tomas/miniconda3/envs/py36/lib/python3.6/site-packages/sklearn/ensemble/_gb.py:1342: FutureWarning: The parameter 'presort' is deprecated and has no effect. It will be removed in v0.24. You can suppress this warning by not passing any value to the 'presort' parameter. We also recommend using HistGradientBoosting models instead.\n",
      "  FutureWarning)\n",
      "/Users/tomas/miniconda3/envs/py36/lib/python3.6/site-packages/sklearn/ensemble/_gb.py:1342: FutureWarning: The parameter 'presort' is deprecated and has no effect. It will be removed in v0.24. You can suppress this warning by not passing any value to the 'presort' parameter. We also recommend using HistGradientBoosting models instead.\n",
      "  FutureWarning)\n"
     ]
    },
    {
     "name": "stdout",
     "output_type": "stream",
     "text": [
      "[1] random_holdout_set_from_training_data's score is: -0.166\n",
      "[2] random_holdout_set_from_training_data's score is: -0.164\n"
     ]
    },
    {
     "name": "stderr",
     "output_type": "stream",
     "text": [
      "/Users/tomas/miniconda3/envs/py36/lib/python3.6/site-packages/sklearn/ensemble/_gb.py:1342: FutureWarning: The parameter 'presort' is deprecated and has no effect. It will be removed in v0.24. You can suppress this warning by not passing any value to the 'presort' parameter. We also recommend using HistGradientBoosting models instead.\n",
      "  FutureWarning)\n",
      "/Users/tomas/miniconda3/envs/py36/lib/python3.6/site-packages/sklearn/ensemble/_gb.py:1342: FutureWarning: The parameter 'presort' is deprecated and has no effect. It will be removed in v0.24. You can suppress this warning by not passing any value to the 'presort' parameter. We also recommend using HistGradientBoosting models instead.\n",
      "  FutureWarning)\n"
     ]
    },
    {
     "name": "stdout",
     "output_type": "stream",
     "text": [
      "[3] random_holdout_set_from_training_data's score is: -0.163\n",
      "[4] random_holdout_set_from_training_data's score is: -0.162\n"
     ]
    },
    {
     "name": "stderr",
     "output_type": "stream",
     "text": [
      "/Users/tomas/miniconda3/envs/py36/lib/python3.6/site-packages/sklearn/ensemble/_gb.py:1342: FutureWarning: The parameter 'presort' is deprecated and has no effect. It will be removed in v0.24. You can suppress this warning by not passing any value to the 'presort' parameter. We also recommend using HistGradientBoosting models instead.\n",
      "  FutureWarning)\n",
      "/Users/tomas/miniconda3/envs/py36/lib/python3.6/site-packages/sklearn/ensemble/_gb.py:1342: FutureWarning: The parameter 'presort' is deprecated and has no effect. It will be removed in v0.24. You can suppress this warning by not passing any value to the 'presort' parameter. We also recommend using HistGradientBoosting models instead.\n",
      "  FutureWarning)\n"
     ]
    },
    {
     "name": "stdout",
     "output_type": "stream",
     "text": [
      "[5] random_holdout_set_from_training_data's score is: -0.161\n",
      "[6] random_holdout_set_from_training_data's score is: -0.161\n"
     ]
    },
    {
     "name": "stderr",
     "output_type": "stream",
     "text": [
      "/Users/tomas/miniconda3/envs/py36/lib/python3.6/site-packages/sklearn/ensemble/_gb.py:1342: FutureWarning: The parameter 'presort' is deprecated and has no effect. It will be removed in v0.24. You can suppress this warning by not passing any value to the 'presort' parameter. We also recommend using HistGradientBoosting models instead.\n",
      "  FutureWarning)\n",
      "/Users/tomas/miniconda3/envs/py36/lib/python3.6/site-packages/sklearn/ensemble/_gb.py:1342: FutureWarning: The parameter 'presort' is deprecated and has no effect. It will be removed in v0.24. You can suppress this warning by not passing any value to the 'presort' parameter. We also recommend using HistGradientBoosting models instead.\n",
      "  FutureWarning)\n"
     ]
    },
    {
     "name": "stdout",
     "output_type": "stream",
     "text": [
      "[7] random_holdout_set_from_training_data's score is: -0.16\n",
      "[8] random_holdout_set_from_training_data's score is: -0.159\n"
     ]
    },
    {
     "name": "stderr",
     "output_type": "stream",
     "text": [
      "/Users/tomas/miniconda3/envs/py36/lib/python3.6/site-packages/sklearn/ensemble/_gb.py:1342: FutureWarning: The parameter 'presort' is deprecated and has no effect. It will be removed in v0.24. You can suppress this warning by not passing any value to the 'presort' parameter. We also recommend using HistGradientBoosting models instead.\n",
      "  FutureWarning)\n",
      "/Users/tomas/miniconda3/envs/py36/lib/python3.6/site-packages/sklearn/ensemble/_gb.py:1342: FutureWarning: The parameter 'presort' is deprecated and has no effect. It will be removed in v0.24. You can suppress this warning by not passing any value to the 'presort' parameter. We also recommend using HistGradientBoosting models instead.\n",
      "  FutureWarning)\n"
     ]
    },
    {
     "name": "stdout",
     "output_type": "stream",
     "text": [
      "[9] random_holdout_set_from_training_data's score is: -0.159\n",
      "[10] random_holdout_set_from_training_data's score is: -0.159\n"
     ]
    },
    {
     "name": "stderr",
     "output_type": "stream",
     "text": [
      "/Users/tomas/miniconda3/envs/py36/lib/python3.6/site-packages/sklearn/ensemble/_gb.py:1342: FutureWarning: The parameter 'presort' is deprecated and has no effect. It will be removed in v0.24. You can suppress this warning by not passing any value to the 'presort' parameter. We also recommend using HistGradientBoosting models instead.\n",
      "  FutureWarning)\n",
      "/Users/tomas/miniconda3/envs/py36/lib/python3.6/site-packages/sklearn/ensemble/_gb.py:1342: FutureWarning: The parameter 'presort' is deprecated and has no effect. It will be removed in v0.24. You can suppress this warning by not passing any value to the 'presort' parameter. We also recommend using HistGradientBoosting models instead.\n",
      "  FutureWarning)\n"
     ]
    },
    {
     "name": "stdout",
     "output_type": "stream",
     "text": [
      "[11] random_holdout_set_from_training_data's score is: -0.158\n",
      "[12] random_holdout_set_from_training_data's score is: -0.158\n"
     ]
    },
    {
     "name": "stderr",
     "output_type": "stream",
     "text": [
      "/Users/tomas/miniconda3/envs/py36/lib/python3.6/site-packages/sklearn/ensemble/_gb.py:1342: FutureWarning: The parameter 'presort' is deprecated and has no effect. It will be removed in v0.24. You can suppress this warning by not passing any value to the 'presort' parameter. We also recommend using HistGradientBoosting models instead.\n",
      "  FutureWarning)\n",
      "/Users/tomas/miniconda3/envs/py36/lib/python3.6/site-packages/sklearn/ensemble/_gb.py:1342: FutureWarning: The parameter 'presort' is deprecated and has no effect. It will be removed in v0.24. You can suppress this warning by not passing any value to the 'presort' parameter. We also recommend using HistGradientBoosting models instead.\n",
      "  FutureWarning)\n"
     ]
    },
    {
     "name": "stdout",
     "output_type": "stream",
     "text": [
      "[13] random_holdout_set_from_training_data's score is: -0.158\n",
      "[14] random_holdout_set_from_training_data's score is: -0.157\n"
     ]
    },
    {
     "name": "stderr",
     "output_type": "stream",
     "text": [
      "/Users/tomas/miniconda3/envs/py36/lib/python3.6/site-packages/sklearn/ensemble/_gb.py:1342: FutureWarning: The parameter 'presort' is deprecated and has no effect. It will be removed in v0.24. You can suppress this warning by not passing any value to the 'presort' parameter. We also recommend using HistGradientBoosting models instead.\n",
      "  FutureWarning)\n",
      "/Users/tomas/miniconda3/envs/py36/lib/python3.6/site-packages/sklearn/ensemble/_gb.py:1342: FutureWarning: The parameter 'presort' is deprecated and has no effect. It will be removed in v0.24. You can suppress this warning by not passing any value to the 'presort' parameter. We also recommend using HistGradientBoosting models instead.\n",
      "  FutureWarning)\n"
     ]
    },
    {
     "name": "stdout",
     "output_type": "stream",
     "text": [
      "[15] random_holdout_set_from_training_data's score is: -0.156\n",
      "[16] random_holdout_set_from_training_data's score is: -0.156\n",
      "[17] random_holdout_set_from_training_data's score is: -0.155\n"
     ]
    },
    {
     "name": "stderr",
     "output_type": "stream",
     "text": [
      "/Users/tomas/miniconda3/envs/py36/lib/python3.6/site-packages/sklearn/ensemble/_gb.py:1342: FutureWarning: The parameter 'presort' is deprecated and has no effect. It will be removed in v0.24. You can suppress this warning by not passing any value to the 'presort' parameter. We also recommend using HistGradientBoosting models instead.\n",
      "  FutureWarning)\n",
      "/Users/tomas/miniconda3/envs/py36/lib/python3.6/site-packages/sklearn/ensemble/_gb.py:1342: FutureWarning: The parameter 'presort' is deprecated and has no effect. It will be removed in v0.24. You can suppress this warning by not passing any value to the 'presort' parameter. We also recommend using HistGradientBoosting models instead.\n",
      "  FutureWarning)\n"
     ]
    },
    {
     "name": "stdout",
     "output_type": "stream",
     "text": [
      "[18] random_holdout_set_from_training_data's score is: -0.156\n",
      "[19] random_holdout_set_from_training_data's score is: -0.156\n"
     ]
    },
    {
     "name": "stderr",
     "output_type": "stream",
     "text": [
      "/Users/tomas/miniconda3/envs/py36/lib/python3.6/site-packages/sklearn/ensemble/_gb.py:1342: FutureWarning: The parameter 'presort' is deprecated and has no effect. It will be removed in v0.24. You can suppress this warning by not passing any value to the 'presort' parameter. We also recommend using HistGradientBoosting models instead.\n",
      "  FutureWarning)\n",
      "/Users/tomas/miniconda3/envs/py36/lib/python3.6/site-packages/sklearn/ensemble/_gb.py:1342: FutureWarning: The parameter 'presort' is deprecated and has no effect. It will be removed in v0.24. You can suppress this warning by not passing any value to the 'presort' parameter. We also recommend using HistGradientBoosting models instead.\n",
      "  FutureWarning)\n"
     ]
    },
    {
     "name": "stdout",
     "output_type": "stream",
     "text": [
      "[20] random_holdout_set_from_training_data's score is: -0.155\n",
      "[21] random_holdout_set_from_training_data's score is: -0.155\n"
     ]
    },
    {
     "name": "stderr",
     "output_type": "stream",
     "text": [
      "/Users/tomas/miniconda3/envs/py36/lib/python3.6/site-packages/sklearn/ensemble/_gb.py:1342: FutureWarning: The parameter 'presort' is deprecated and has no effect. It will be removed in v0.24. You can suppress this warning by not passing any value to the 'presort' parameter. We also recommend using HistGradientBoosting models instead.\n",
      "  FutureWarning)\n",
      "/Users/tomas/miniconda3/envs/py36/lib/python3.6/site-packages/sklearn/ensemble/_gb.py:1342: FutureWarning: The parameter 'presort' is deprecated and has no effect. It will be removed in v0.24. You can suppress this warning by not passing any value to the 'presort' parameter. We also recommend using HistGradientBoosting models instead.\n",
      "  FutureWarning)\n"
     ]
    },
    {
     "name": "stdout",
     "output_type": "stream",
     "text": [
      "[22] random_holdout_set_from_training_data's score is: -0.154\n",
      "[23] random_holdout_set_from_training_data's score is: -0.154\n"
     ]
    },
    {
     "name": "stderr",
     "output_type": "stream",
     "text": [
      "/Users/tomas/miniconda3/envs/py36/lib/python3.6/site-packages/sklearn/ensemble/_gb.py:1342: FutureWarning: The parameter 'presort' is deprecated and has no effect. It will be removed in v0.24. You can suppress this warning by not passing any value to the 'presort' parameter. We also recommend using HistGradientBoosting models instead.\n",
      "  FutureWarning)\n",
      "/Users/tomas/miniconda3/envs/py36/lib/python3.6/site-packages/sklearn/ensemble/_gb.py:1342: FutureWarning: The parameter 'presort' is deprecated and has no effect. It will be removed in v0.24. You can suppress this warning by not passing any value to the 'presort' parameter. We also recommend using HistGradientBoosting models instead.\n",
      "  FutureWarning)\n"
     ]
    },
    {
     "name": "stdout",
     "output_type": "stream",
     "text": [
      "[24] random_holdout_set_from_training_data's score is: -0.154\n",
      "[25] random_holdout_set_from_training_data's score is: -0.154\n"
     ]
    },
    {
     "name": "stderr",
     "output_type": "stream",
     "text": [
      "/Users/tomas/miniconda3/envs/py36/lib/python3.6/site-packages/sklearn/ensemble/_gb.py:1342: FutureWarning: The parameter 'presort' is deprecated and has no effect. It will be removed in v0.24. You can suppress this warning by not passing any value to the 'presort' parameter. We also recommend using HistGradientBoosting models instead.\n",
      "  FutureWarning)\n",
      "/Users/tomas/miniconda3/envs/py36/lib/python3.6/site-packages/sklearn/ensemble/_gb.py:1342: FutureWarning: The parameter 'presort' is deprecated and has no effect. It will be removed in v0.24. You can suppress this warning by not passing any value to the 'presort' parameter. We also recommend using HistGradientBoosting models instead.\n",
      "  FutureWarning)\n"
     ]
    },
    {
     "name": "stdout",
     "output_type": "stream",
     "text": [
      "[26] random_holdout_set_from_training_data's score is: -0.153\n",
      "[27] random_holdout_set_from_training_data's score is: -0.153\n"
     ]
    },
    {
     "name": "stderr",
     "output_type": "stream",
     "text": [
      "/Users/tomas/miniconda3/envs/py36/lib/python3.6/site-packages/sklearn/ensemble/_gb.py:1342: FutureWarning: The parameter 'presort' is deprecated and has no effect. It will be removed in v0.24. You can suppress this warning by not passing any value to the 'presort' parameter. We also recommend using HistGradientBoosting models instead.\n",
      "  FutureWarning)\n",
      "/Users/tomas/miniconda3/envs/py36/lib/python3.6/site-packages/sklearn/ensemble/_gb.py:1342: FutureWarning: The parameter 'presort' is deprecated and has no effect. It will be removed in v0.24. You can suppress this warning by not passing any value to the 'presort' parameter. We also recommend using HistGradientBoosting models instead.\n",
      "  FutureWarning)\n"
     ]
    },
    {
     "name": "stdout",
     "output_type": "stream",
     "text": [
      "[28] random_holdout_set_from_training_data's score is: -0.153\n",
      "[29] random_holdout_set_from_training_data's score is: -0.153\n"
     ]
    },
    {
     "name": "stderr",
     "output_type": "stream",
     "text": [
      "/Users/tomas/miniconda3/envs/py36/lib/python3.6/site-packages/sklearn/ensemble/_gb.py:1342: FutureWarning: The parameter 'presort' is deprecated and has no effect. It will be removed in v0.24. You can suppress this warning by not passing any value to the 'presort' parameter. We also recommend using HistGradientBoosting models instead.\n",
      "  FutureWarning)\n",
      "/Users/tomas/miniconda3/envs/py36/lib/python3.6/site-packages/sklearn/ensemble/_gb.py:1342: FutureWarning: The parameter 'presort' is deprecated and has no effect. It will be removed in v0.24. You can suppress this warning by not passing any value to the 'presort' parameter. We also recommend using HistGradientBoosting models instead.\n",
      "  FutureWarning)\n"
     ]
    },
    {
     "name": "stdout",
     "output_type": "stream",
     "text": [
      "[30] random_holdout_set_from_training_data's score is: -0.152\n",
      "[31] random_holdout_set_from_training_data's score is: -0.152\n"
     ]
    },
    {
     "name": "stderr",
     "output_type": "stream",
     "text": [
      "/Users/tomas/miniconda3/envs/py36/lib/python3.6/site-packages/sklearn/ensemble/_gb.py:1342: FutureWarning: The parameter 'presort' is deprecated and has no effect. It will be removed in v0.24. You can suppress this warning by not passing any value to the 'presort' parameter. We also recommend using HistGradientBoosting models instead.\n",
      "  FutureWarning)\n",
      "/Users/tomas/miniconda3/envs/py36/lib/python3.6/site-packages/sklearn/ensemble/_gb.py:1342: FutureWarning: The parameter 'presort' is deprecated and has no effect. It will be removed in v0.24. You can suppress this warning by not passing any value to the 'presort' parameter. We also recommend using HistGradientBoosting models instead.\n",
      "  FutureWarning)\n"
     ]
    },
    {
     "name": "stdout",
     "output_type": "stream",
     "text": [
      "[32] random_holdout_set_from_training_data's score is: -0.152\n",
      "[33] random_holdout_set_from_training_data's score is: -0.152\n"
     ]
    },
    {
     "name": "stderr",
     "output_type": "stream",
     "text": [
      "/Users/tomas/miniconda3/envs/py36/lib/python3.6/site-packages/sklearn/ensemble/_gb.py:1342: FutureWarning: The parameter 'presort' is deprecated and has no effect. It will be removed in v0.24. You can suppress this warning by not passing any value to the 'presort' parameter. We also recommend using HistGradientBoosting models instead.\n",
      "  FutureWarning)\n",
      "/Users/tomas/miniconda3/envs/py36/lib/python3.6/site-packages/sklearn/ensemble/_gb.py:1342: FutureWarning: The parameter 'presort' is deprecated and has no effect. It will be removed in v0.24. You can suppress this warning by not passing any value to the 'presort' parameter. We also recommend using HistGradientBoosting models instead.\n",
      "  FutureWarning)\n"
     ]
    },
    {
     "name": "stdout",
     "output_type": "stream",
     "text": [
      "[34] random_holdout_set_from_training_data's score is: -0.152\n",
      "[35] random_holdout_set_from_training_data's score is: -0.152\n"
     ]
    },
    {
     "name": "stderr",
     "output_type": "stream",
     "text": [
      "/Users/tomas/miniconda3/envs/py36/lib/python3.6/site-packages/sklearn/ensemble/_gb.py:1342: FutureWarning: The parameter 'presort' is deprecated and has no effect. It will be removed in v0.24. You can suppress this warning by not passing any value to the 'presort' parameter. We also recommend using HistGradientBoosting models instead.\n",
      "  FutureWarning)\n",
      "/Users/tomas/miniconda3/envs/py36/lib/python3.6/site-packages/sklearn/ensemble/_gb.py:1342: FutureWarning: The parameter 'presort' is deprecated and has no effect. It will be removed in v0.24. You can suppress this warning by not passing any value to the 'presort' parameter. We also recommend using HistGradientBoosting models instead.\n",
      "  FutureWarning)\n"
     ]
    },
    {
     "name": "stdout",
     "output_type": "stream",
     "text": [
      "[36] random_holdout_set_from_training_data's score is: -0.151\n",
      "[37] random_holdout_set_from_training_data's score is: -0.152\n"
     ]
    },
    {
     "name": "stderr",
     "output_type": "stream",
     "text": [
      "/Users/tomas/miniconda3/envs/py36/lib/python3.6/site-packages/sklearn/ensemble/_gb.py:1342: FutureWarning: The parameter 'presort' is deprecated and has no effect. It will be removed in v0.24. You can suppress this warning by not passing any value to the 'presort' parameter. We also recommend using HistGradientBoosting models instead.\n",
      "  FutureWarning)\n",
      "/Users/tomas/miniconda3/envs/py36/lib/python3.6/site-packages/sklearn/ensemble/_gb.py:1342: FutureWarning: The parameter 'presort' is deprecated and has no effect. It will be removed in v0.24. You can suppress this warning by not passing any value to the 'presort' parameter. We also recommend using HistGradientBoosting models instead.\n",
      "  FutureWarning)\n"
     ]
    },
    {
     "name": "stdout",
     "output_type": "stream",
     "text": [
      "[38] random_holdout_set_from_training_data's score is: -0.152\n",
      "[39] random_holdout_set_from_training_data's score is: -0.152\n"
     ]
    },
    {
     "name": "stderr",
     "output_type": "stream",
     "text": [
      "/Users/tomas/miniconda3/envs/py36/lib/python3.6/site-packages/sklearn/ensemble/_gb.py:1342: FutureWarning: The parameter 'presort' is deprecated and has no effect. It will be removed in v0.24. You can suppress this warning by not passing any value to the 'presort' parameter. We also recommend using HistGradientBoosting models instead.\n",
      "  FutureWarning)\n",
      "/Users/tomas/miniconda3/envs/py36/lib/python3.6/site-packages/sklearn/ensemble/_gb.py:1342: FutureWarning: The parameter 'presort' is deprecated and has no effect. It will be removed in v0.24. You can suppress this warning by not passing any value to the 'presort' parameter. We also recommend using HistGradientBoosting models instead.\n",
      "  FutureWarning)\n"
     ]
    },
    {
     "name": "stdout",
     "output_type": "stream",
     "text": [
      "[40] random_holdout_set_from_training_data's score is: -0.152\n",
      "[41] random_holdout_set_from_training_data's score is: -0.152\n"
     ]
    },
    {
     "name": "stderr",
     "output_type": "stream",
     "text": [
      "/Users/tomas/miniconda3/envs/py36/lib/python3.6/site-packages/sklearn/ensemble/_gb.py:1342: FutureWarning: The parameter 'presort' is deprecated and has no effect. It will be removed in v0.24. You can suppress this warning by not passing any value to the 'presort' parameter. We also recommend using HistGradientBoosting models instead.\n",
      "  FutureWarning)\n",
      "/Users/tomas/miniconda3/envs/py36/lib/python3.6/site-packages/sklearn/ensemble/_gb.py:1342: FutureWarning: The parameter 'presort' is deprecated and has no effect. It will be removed in v0.24. You can suppress this warning by not passing any value to the 'presort' parameter. We also recommend using HistGradientBoosting models instead.\n",
      "  FutureWarning)\n"
     ]
    },
    {
     "name": "stdout",
     "output_type": "stream",
     "text": [
      "[42] random_holdout_set_from_training_data's score is: -0.152\n",
      "[43] random_holdout_set_from_training_data's score is: -0.151\n"
     ]
    },
    {
     "name": "stderr",
     "output_type": "stream",
     "text": [
      "/Users/tomas/miniconda3/envs/py36/lib/python3.6/site-packages/sklearn/ensemble/_gb.py:1342: FutureWarning: The parameter 'presort' is deprecated and has no effect. It will be removed in v0.24. You can suppress this warning by not passing any value to the 'presort' parameter. We also recommend using HistGradientBoosting models instead.\n",
      "  FutureWarning)\n",
      "/Users/tomas/miniconda3/envs/py36/lib/python3.6/site-packages/sklearn/ensemble/_gb.py:1342: FutureWarning: The parameter 'presort' is deprecated and has no effect. It will be removed in v0.24. You can suppress this warning by not passing any value to the 'presort' parameter. We also recommend using HistGradientBoosting models instead.\n",
      "  FutureWarning)\n"
     ]
    },
    {
     "name": "stdout",
     "output_type": "stream",
     "text": [
      "[44] random_holdout_set_from_training_data's score is: -0.151\n",
      "[45] random_holdout_set_from_training_data's score is: -0.151\n"
     ]
    },
    {
     "name": "stderr",
     "output_type": "stream",
     "text": [
      "/Users/tomas/miniconda3/envs/py36/lib/python3.6/site-packages/sklearn/ensemble/_gb.py:1342: FutureWarning: The parameter 'presort' is deprecated and has no effect. It will be removed in v0.24. You can suppress this warning by not passing any value to the 'presort' parameter. We also recommend using HistGradientBoosting models instead.\n",
      "  FutureWarning)\n",
      "/Users/tomas/miniconda3/envs/py36/lib/python3.6/site-packages/sklearn/ensemble/_gb.py:1342: FutureWarning: The parameter 'presort' is deprecated and has no effect. It will be removed in v0.24. You can suppress this warning by not passing any value to the 'presort' parameter. We also recommend using HistGradientBoosting models instead.\n",
      "  FutureWarning)\n"
     ]
    },
    {
     "name": "stdout",
     "output_type": "stream",
     "text": [
      "[46] random_holdout_set_from_training_data's score is: -0.151\n",
      "[47] random_holdout_set_from_training_data's score is: -0.15\n"
     ]
    },
    {
     "name": "stderr",
     "output_type": "stream",
     "text": [
      "/Users/tomas/miniconda3/envs/py36/lib/python3.6/site-packages/sklearn/ensemble/_gb.py:1342: FutureWarning: The parameter 'presort' is deprecated and has no effect. It will be removed in v0.24. You can suppress this warning by not passing any value to the 'presort' parameter. We also recommend using HistGradientBoosting models instead.\n",
      "  FutureWarning)\n",
      "/Users/tomas/miniconda3/envs/py36/lib/python3.6/site-packages/sklearn/ensemble/_gb.py:1342: FutureWarning: The parameter 'presort' is deprecated and has no effect. It will be removed in v0.24. You can suppress this warning by not passing any value to the 'presort' parameter. We also recommend using HistGradientBoosting models instead.\n",
      "  FutureWarning)\n"
     ]
    },
    {
     "name": "stdout",
     "output_type": "stream",
     "text": [
      "[48] random_holdout_set_from_training_data's score is: -0.151\n",
      "[49] random_holdout_set_from_training_data's score is: -0.151\n"
     ]
    },
    {
     "name": "stderr",
     "output_type": "stream",
     "text": [
      "/Users/tomas/miniconda3/envs/py36/lib/python3.6/site-packages/sklearn/ensemble/_gb.py:1342: FutureWarning: The parameter 'presort' is deprecated and has no effect. It will be removed in v0.24. You can suppress this warning by not passing any value to the 'presort' parameter. We also recommend using HistGradientBoosting models instead.\n",
      "  FutureWarning)\n",
      "/Users/tomas/miniconda3/envs/py36/lib/python3.6/site-packages/sklearn/ensemble/_gb.py:1342: FutureWarning: The parameter 'presort' is deprecated and has no effect. It will be removed in v0.24. You can suppress this warning by not passing any value to the 'presort' parameter. We also recommend using HistGradientBoosting models instead.\n",
      "  FutureWarning)\n"
     ]
    },
    {
     "name": "stdout",
     "output_type": "stream",
     "text": [
      "[50] random_holdout_set_from_training_data's score is: -0.151\n"
     ]
    },
    {
     "name": "stderr",
     "output_type": "stream",
     "text": [
      "/Users/tomas/miniconda3/envs/py36/lib/python3.6/site-packages/sklearn/ensemble/_gb.py:1342: FutureWarning: The parameter 'presort' is deprecated and has no effect. It will be removed in v0.24. You can suppress this warning by not passing any value to the 'presort' parameter. We also recommend using HistGradientBoosting models instead.\n",
      "  FutureWarning)\n"
     ]
    },
    {
     "name": "stdout",
     "output_type": "stream",
     "text": [
      "[52] random_holdout_set_from_training_data's score is: -0.151\n"
     ]
    },
    {
     "name": "stderr",
     "output_type": "stream",
     "text": [
      "/Users/tomas/miniconda3/envs/py36/lib/python3.6/site-packages/sklearn/ensemble/_gb.py:1342: FutureWarning: The parameter 'presort' is deprecated and has no effect. It will be removed in v0.24. You can suppress this warning by not passing any value to the 'presort' parameter. We also recommend using HistGradientBoosting models instead.\n",
      "  FutureWarning)\n"
     ]
    },
    {
     "name": "stdout",
     "output_type": "stream",
     "text": [
      "[54] random_holdout_set_from_training_data's score is: -0.151\n"
     ]
    },
    {
     "name": "stderr",
     "output_type": "stream",
     "text": [
      "/Users/tomas/miniconda3/envs/py36/lib/python3.6/site-packages/sklearn/ensemble/_gb.py:1342: FutureWarning: The parameter 'presort' is deprecated and has no effect. It will be removed in v0.24. You can suppress this warning by not passing any value to the 'presort' parameter. We also recommend using HistGradientBoosting models instead.\n",
      "  FutureWarning)\n"
     ]
    },
    {
     "name": "stdout",
     "output_type": "stream",
     "text": [
      "[56] random_holdout_set_from_training_data's score is: -0.151\n"
     ]
    },
    {
     "name": "stderr",
     "output_type": "stream",
     "text": [
      "/Users/tomas/miniconda3/envs/py36/lib/python3.6/site-packages/sklearn/ensemble/_gb.py:1342: FutureWarning: The parameter 'presort' is deprecated and has no effect. It will be removed in v0.24. You can suppress this warning by not passing any value to the 'presort' parameter. We also recommend using HistGradientBoosting models instead.\n",
      "  FutureWarning)\n"
     ]
    },
    {
     "name": "stdout",
     "output_type": "stream",
     "text": [
      "[58] random_holdout_set_from_training_data's score is: -0.151\n"
     ]
    },
    {
     "name": "stderr",
     "output_type": "stream",
     "text": [
      "/Users/tomas/miniconda3/envs/py36/lib/python3.6/site-packages/sklearn/ensemble/_gb.py:1342: FutureWarning: The parameter 'presort' is deprecated and has no effect. It will be removed in v0.24. You can suppress this warning by not passing any value to the 'presort' parameter. We also recommend using HistGradientBoosting models instead.\n",
      "  FutureWarning)\n"
     ]
    },
    {
     "name": "stdout",
     "output_type": "stream",
     "text": [
      "[60] random_holdout_set_from_training_data's score is: -0.151\n"
     ]
    },
    {
     "name": "stderr",
     "output_type": "stream",
     "text": [
      "/Users/tomas/miniconda3/envs/py36/lib/python3.6/site-packages/sklearn/ensemble/_gb.py:1342: FutureWarning: The parameter 'presort' is deprecated and has no effect. It will be removed in v0.24. You can suppress this warning by not passing any value to the 'presort' parameter. We also recommend using HistGradientBoosting models instead.\n",
      "  FutureWarning)\n"
     ]
    },
    {
     "name": "stdout",
     "output_type": "stream",
     "text": [
      "[62] random_holdout_set_from_training_data's score is: -0.152\n"
     ]
    },
    {
     "name": "stderr",
     "output_type": "stream",
     "text": [
      "/Users/tomas/miniconda3/envs/py36/lib/python3.6/site-packages/sklearn/ensemble/_gb.py:1342: FutureWarning: The parameter 'presort' is deprecated and has no effect. It will be removed in v0.24. You can suppress this warning by not passing any value to the 'presort' parameter. We also recommend using HistGradientBoosting models instead.\n",
      "  FutureWarning)\n"
     ]
    },
    {
     "name": "stdout",
     "output_type": "stream",
     "text": [
      "[64] random_holdout_set_from_training_data's score is: -0.152\n"
     ]
    },
    {
     "name": "stderr",
     "output_type": "stream",
     "text": [
      "/Users/tomas/miniconda3/envs/py36/lib/python3.6/site-packages/sklearn/ensemble/_gb.py:1342: FutureWarning: The parameter 'presort' is deprecated and has no effect. It will be removed in v0.24. You can suppress this warning by not passing any value to the 'presort' parameter. We also recommend using HistGradientBoosting models instead.\n",
      "  FutureWarning)\n"
     ]
    },
    {
     "name": "stdout",
     "output_type": "stream",
     "text": [
      "[66] random_holdout_set_from_training_data's score is: -0.152\n"
     ]
    },
    {
     "name": "stderr",
     "output_type": "stream",
     "text": [
      "/Users/tomas/miniconda3/envs/py36/lib/python3.6/site-packages/sklearn/ensemble/_gb.py:1342: FutureWarning: The parameter 'presort' is deprecated and has no effect. It will be removed in v0.24. You can suppress this warning by not passing any value to the 'presort' parameter. We also recommend using HistGradientBoosting models instead.\n",
      "  FutureWarning)\n"
     ]
    },
    {
     "name": "stdout",
     "output_type": "stream",
     "text": [
      "[68] random_holdout_set_from_training_data's score is: -0.152\n"
     ]
    },
    {
     "name": "stderr",
     "output_type": "stream",
     "text": [
      "/Users/tomas/miniconda3/envs/py36/lib/python3.6/site-packages/sklearn/ensemble/_gb.py:1342: FutureWarning: The parameter 'presort' is deprecated and has no effect. It will be removed in v0.24. You can suppress this warning by not passing any value to the 'presort' parameter. We also recommend using HistGradientBoosting models instead.\n",
      "  FutureWarning)\n"
     ]
    },
    {
     "name": "stdout",
     "output_type": "stream",
     "text": [
      "[70] random_holdout_set_from_training_data's score is: -0.152\n"
     ]
    },
    {
     "name": "stderr",
     "output_type": "stream",
     "text": [
      "/Users/tomas/miniconda3/envs/py36/lib/python3.6/site-packages/sklearn/ensemble/_gb.py:1342: FutureWarning: The parameter 'presort' is deprecated and has no effect. It will be removed in v0.24. You can suppress this warning by not passing any value to the 'presort' parameter. We also recommend using HistGradientBoosting models instead.\n",
      "  FutureWarning)\n"
     ]
    },
    {
     "name": "stdout",
     "output_type": "stream",
     "text": [
      "[72] random_holdout_set_from_training_data's score is: -0.152\n"
     ]
    },
    {
     "name": "stderr",
     "output_type": "stream",
     "text": [
      "/Users/tomas/miniconda3/envs/py36/lib/python3.6/site-packages/sklearn/ensemble/_gb.py:1342: FutureWarning: The parameter 'presort' is deprecated and has no effect. It will be removed in v0.24. You can suppress this warning by not passing any value to the 'presort' parameter. We also recommend using HistGradientBoosting models instead.\n",
      "  FutureWarning)\n"
     ]
    },
    {
     "name": "stdout",
     "output_type": "stream",
     "text": [
      "[74] random_holdout_set_from_training_data's score is: -0.152\n"
     ]
    },
    {
     "name": "stderr",
     "output_type": "stream",
     "text": [
      "/Users/tomas/miniconda3/envs/py36/lib/python3.6/site-packages/sklearn/ensemble/_gb.py:1342: FutureWarning: The parameter 'presort' is deprecated and has no effect. It will be removed in v0.24. You can suppress this warning by not passing any value to the 'presort' parameter. We also recommend using HistGradientBoosting models instead.\n",
      "  FutureWarning)\n"
     ]
    },
    {
     "name": "stdout",
     "output_type": "stream",
     "text": [
      "[76] random_holdout_set_from_training_data's score is: -0.153\n"
     ]
    },
    {
     "name": "stderr",
     "output_type": "stream",
     "text": [
      "/Users/tomas/miniconda3/envs/py36/lib/python3.6/site-packages/sklearn/ensemble/_gb.py:1342: FutureWarning: The parameter 'presort' is deprecated and has no effect. It will be removed in v0.24. You can suppress this warning by not passing any value to the 'presort' parameter. We also recommend using HistGradientBoosting models instead.\n",
      "  FutureWarning)\n"
     ]
    },
    {
     "name": "stdout",
     "output_type": "stream",
     "text": [
      "[78] random_holdout_set_from_training_data's score is: -0.152\n"
     ]
    },
    {
     "name": "stderr",
     "output_type": "stream",
     "text": [
      "/Users/tomas/miniconda3/envs/py36/lib/python3.6/site-packages/sklearn/ensemble/_gb.py:1342: FutureWarning: The parameter 'presort' is deprecated and has no effect. It will be removed in v0.24. You can suppress this warning by not passing any value to the 'presort' parameter. We also recommend using HistGradientBoosting models instead.\n",
      "  FutureWarning)\n"
     ]
    },
    {
     "name": "stdout",
     "output_type": "stream",
     "text": [
      "[80] random_holdout_set_from_training_data's score is: -0.152\n"
     ]
    },
    {
     "name": "stderr",
     "output_type": "stream",
     "text": [
      "/Users/tomas/miniconda3/envs/py36/lib/python3.6/site-packages/sklearn/ensemble/_gb.py:1342: FutureWarning: The parameter 'presort' is deprecated and has no effect. It will be removed in v0.24. You can suppress this warning by not passing any value to the 'presort' parameter. We also recommend using HistGradientBoosting models instead.\n",
      "  FutureWarning)\n"
     ]
    },
    {
     "name": "stdout",
     "output_type": "stream",
     "text": [
      "[82] random_holdout_set_from_training_data's score is: -0.152\n"
     ]
    },
    {
     "name": "stderr",
     "output_type": "stream",
     "text": [
      "/Users/tomas/miniconda3/envs/py36/lib/python3.6/site-packages/sklearn/ensemble/_gb.py:1342: FutureWarning: The parameter 'presort' is deprecated and has no effect. It will be removed in v0.24. You can suppress this warning by not passing any value to the 'presort' parameter. We also recommend using HistGradientBoosting models instead.\n",
      "  FutureWarning)\n"
     ]
    },
    {
     "name": "stdout",
     "output_type": "stream",
     "text": [
      "[84] random_holdout_set_from_training_data's score is: -0.153\n",
      "The number of estimators that were the best for this training dataset: 47\n",
      "The best score on the holdout set: -0.15048986474036247\n",
      "Finished training the pipeline!\n",
      "Total training time:\n",
      "0:00:14\n",
      "\n",
      "\n",
      "Here are the results from our GradientBoostingClassifier\n",
      "predicting is_NP\n",
      "Calculating feature responses, for advanced analytics.\n",
      "The printed list will only contain at most the top 100 features.\n",
      "+----+---------------------------------------------------------------------------+--------------+-------------+-------------------+-------------------+-----------+-----------+-----------+-----------+\n",
      "|    | Feature Name                                                              |   Importance |       Delta |   FR_Decrementing |   FR_Incrementing |   FRD_abs |   FRI_abs |   FRD_MAD |   FRI_MAD |\n",
      "|----+---------------------------------------------------------------------------+--------------+-------------+-------------------+-------------------+-----------+-----------+-----------+-----------|\n",
      "| 57 | insightsRiskFeatures__spendingDistribution__trend(10000 to 20000)         |       0.0026 |      0.4789 |            0.0001 |           -0.0001 |    0.0001 |    0.0001 |    0.0000 |    0.0000 |\n",
      "| 49 | insightsRiskFeatures__spendingDistribution__trend(-200 to -100)           |       0.0028 |      0.7989 |            0.0002 |           -0.0001 |    0.0002 |    0.0001 |    0.0000 |    0.0000 |\n",
      "| 68 | insightsRiskFeatures__transactionStats__sumAmounts3M                      |       0.0028 |  12777.0595 |           -0.0005 |            0.0019 |    0.0005 |    0.0019 |    0.0000 |    0.0000 |\n",
      "| 78 | insightsRiskFeatures__transactionStats__numUniqueOutTrns3M                |       0.0028 |     85.9864 |            0.0002 |           -0.0004 |    0.0002 |    0.0004 |    0.0000 |    0.0000 |\n",
      "| 19 | first180d_new_cat__mac__[Alcohol]_outgoing_count                          |       0.0028 |      6.7512 |           -0.0002 |            0.0014 |    0.0002 |    0.0014 |    0.0000 |    0.0000 |\n",
      "| 81 | insightsRiskFeatures__transactionStats__sumAmounts1M                      |       0.0029 |  14929.8148 |           -0.0012 |            0.0013 |    0.0012 |    0.0013 |    0.0000 |    0.0000 |\n",
      "| 98 | insightsRiskFeatures__monthlyPaymentVariance__maxStdTiming                |       0.0029 |      0.1434 |           -0.0001 |            0.0000 |    0.0001 |    0.0000 |    0.0000 |    0.0000 |\n",
      "| 54 | insightsRiskFeatures__spendingDistribution__lastMonthSum(-5000 to -2000)  |       0.0029 |  10769.2896 |           -0.0004 |            0.0005 |    0.0004 |    0.0005 |    0.0000 |    0.0000 |\n",
      "| 25 | insightsRiskFeatures__accountActivity__activityInc1W                      |       0.0030 |      0.1206 |            0.0003 |           -0.0001 |    0.0003 |    0.0001 |    0.0000 |    0.0000 |\n",
      "| 88 | insightsRiskFeatures__gamblingVsIncome__sumGambling6M                     |       0.0031 |  25339.0620 |            0.0000 |            0.0002 |    0.0000 |    0.0002 |    0.0000 |    0.0000 |\n",
      "|  5 | first30d_new_cat__mac__[McDonalds]_outgoing_count                         |       0.0031 |      0.9369 |            0.0000 |            0.0000 |    0.0000 |    0.0000 |    0.0000 |    0.0000 |\n",
      "| 85 | insightsRiskFeatures__transactionStats__maxOutAmount6M                    |       0.0031 |  34204.1421 |           -0.0008 |            0.0011 |    0.0008 |    0.0011 |    0.0000 |    0.0000 |\n",
      "|  7 | first90d_new_cat__mac__[Circle-K]_outgoing_sum                            |       0.0032 |   1037.3187 |            0.0000 |           -0.0003 |    0.0000 |    0.0003 |    0.0000 |    0.0000 |\n",
      "| 43 | insightsRiskFeatures__loans__repaymentLoanRatio3M                         |       0.0032 |     35.0079 |            0.0003 |           -0.0004 |    0.0003 |    0.0004 |    0.0000 |    0.0000 |\n",
      "| 27 | insightsRiskFeatures__accountActivity__activity1M                         |       0.0032 |      0.0838 |            0.0001 |           -0.0001 |    0.0001 |    0.0001 |    0.0000 |    0.0000 |\n",
      "| 56 | insightsRiskFeatures__spendingDistribution__lastMonthSum(2000 to 5000)    |       0.0033 |   6084.6956 |            0.0010 |           -0.0008 |    0.0010 |    0.0008 |    0.0000 |    0.0000 |\n",
      "| 22 | insightsRiskFeatures__cashFlow__negativeCashflow3M                        |       0.0033 | 120244.3742 |            0.0000 |            0.0006 |    0.0000 |    0.0006 |    0.0000 |    0.0000 |\n",
      "| 67 | insightsRiskFeatures__transactionStats__numUniqueTrns3M                   |       0.0033 |     96.5028 |            0.0001 |            0.0000 |    0.0001 |    0.0000 |    0.0000 |    0.0000 |\n",
      "|  9 | first90d_new_cat__mac__[LIDL]_outgoing_sum                                |       0.0034 |    436.0021 |            0.0003 |           -0.0003 |    0.0003 |    0.0003 |    0.0000 |    0.0000 |\n",
      "| 18 | first180d_new_cat__nk__[mostly collection but not only]_outgoing_sum      |       0.0034 |   4843.5586 |           -0.0005 |            0.0001 |    0.0005 |    0.0001 |    0.0000 |    0.0000 |\n",
      "| 76 | insightsRiskFeatures__transactionStats__maxIncAmount3M                    |       0.0035 |  30081.3924 |            0.0001 |            0.0000 |    0.0001 |    0.0000 |    0.0000 |    0.0000 |\n",
      "| 59 | insightsRiskFeatures__balances__meanBalance6M                             |       0.0035 |  14003.6479 |           -0.0004 |            0.0040 |    0.0004 |    0.0040 |    0.0000 |    0.0000 |\n",
      "|  6 | first90d_new_cat__mac__[Byggnads]_outgoing_sum                            |       0.0037 |    192.0607 |            0.0000 |            0.0000 |    0.0000 |    0.0000 |    0.0000 |    0.0000 |\n",
      "| 20 | first180d_new_cat__mac__[Hypermat]_outgoing_count                         |       0.0037 |      0.0744 |            0.0000 |            0.0000 |    0.0000 |    0.0000 |    0.0000 |    0.0000 |\n",
      "| 73 | insightsRiskFeatures__transactionStats__numTrns3M                         |       0.0037 |    167.7714 |           -0.0006 |            0.0018 |    0.0006 |    0.0018 |    0.0000 |    0.0000 |\n",
      "| 86 | insightsRiskFeatures__transactionStats__numIncTrns6M                      |       0.0037 |     89.5378 |           -0.0003 |            0.0005 |    0.0003 |    0.0005 |    0.0000 |    0.0000 |\n",
      "| 35 | insightsRiskFeatures__accountActivity__activity6M                         |       0.0039 |      0.0673 |            0.0001 |           -0.0001 |    0.0001 |    0.0001 |    0.0000 |    0.0000 |\n",
      "| 36 | insightsRiskFeatures__collections__sumCollections3M                       |       0.0039 |   2938.0615 |           -0.0002 |            0.0005 |    0.0002 |    0.0005 |    0.0000 |    0.0000 |\n",
      "| 82 | insightsRiskFeatures__transactionStats__numUniqueTrns1M                   |       0.0039 |     35.3250 |            0.0049 |           -0.0005 |    0.0049 |    0.0005 |    0.0000 |    0.0000 |\n",
      "| 70 | insightsRiskFeatures__transactionStats__meanAmount1W                      |       0.0040 |    400.6709 |           -0.0005 |            0.0029 |    0.0005 |    0.0029 |    0.0000 |    0.0000 |\n",
      "| 96 | insightsRiskFeatures__monthlyPaymentVariance__avgStdMonthlyExpenseStreams |       0.0040 |    579.3826 |           -0.0006 |            0.0026 |    0.0009 |    0.0029 |    0.0000 |    0.0000 |\n",
      "| 63 | insightsRiskFeatures__balances__minBalance6M                              |       0.0041 |  53290.8778 |            0.0024 |           -0.0039 |    0.0026 |    0.0039 |    0.0000 |    0.0044 |\n",
      "| 74 | insightsRiskFeatures__transactionStats__sumOutAmounts12M                  |       0.0042 | 288398.6449 |           -0.0003 |            0.0009 |    0.0003 |    0.0009 |    0.0000 |    0.0000 |\n",
      "| 71 | insightsRiskFeatures__transactionStats__sumOutAmounts3M                   |       0.0042 | 149041.6723 |            0.0002 |           -0.0006 |    0.0002 |    0.0006 |    0.0000 |    0.0000 |\n",
      "| 23 | insightsRiskFeatures__cashFlow__positiveNegativeRatio6M                   |       0.0042 |      0.2205 |           -0.0015 |            0.0000 |    0.0015 |    0.0010 |    0.0000 |    0.0000 |\n",
      "| 39 | insightsRiskFeatures__overdrafts__numDaysInOverdraft3M                    |       0.0043 |      7.0265 |           -0.0003 |            0.0007 |    0.0003 |    0.0007 |    0.0000 |    0.0000 |\n",
      "|  4 | first7d_new_cat__mac__[ICA Supermarket]_outgoing_count                    |       0.0045 |      0.4960 |            0.0000 |            0.0000 |    0.0000 |    0.0000 |    0.0000 |    0.0000 |\n",
      "| 50 | insightsRiskFeatures__spendingDistribution__trend(50 to 100)              |       0.0047 |      0.5234 |           -0.0001 |            0.0001 |    0.0001 |    0.0001 |    0.0000 |    0.0000 |\n",
      "| 40 | insightsRiskFeatures__overdrafts__numDaysInOverdraft6M                    |       0.0047 |     14.0152 |           -0.0006 |            0.0003 |    0.0006 |    0.0003 |    0.0000 |    0.0000 |\n",
      "| 99 | brand_name=Meddelandelån-ST                                               |       0.0047 |    nan      |          nan      |          nan      |  nan      |  nan      |  nan      |  nan      |\n",
      "| 79 | insightsRiskFeatures__transactionStats__numOutTrns1M                      |       0.0048 |     45.9700 |            0.0005 |            0.0000 |    0.0007 |    0.0001 |    0.0000 |    0.0000 |\n",
      "| 34 | insightsRiskFeatures__accountActivity__activityOutTotal                   |       0.0049 |      0.0659 |           -0.0000 |            0.0003 |    0.0000 |    0.0003 |    0.0000 |    0.0000 |\n",
      "| 33 | insightsRiskFeatures__accountActivity__daysSinceFirstTrn                  |       0.0049 |      6.2198 |            0.0046 |           -0.0008 |    0.0046 |    0.0008 |    0.0050 |    0.0000 |\n",
      "| 42 | insightsRiskFeatures__lowBalances__daysBalanceBelow70_6M                  |       0.0049 |     13.0128 |           -0.0002 |            0.0004 |    0.0002 |    0.0004 |    0.0000 |    0.0000 |\n",
      "| 87 | insightsRiskFeatures__gamblingVsIncome__gamblingIncomeRatio1M             |       0.0051 |      0.1078 |           -0.0001 |            0.0011 |    0.0001 |    0.0012 |    0.0000 |    0.0000 |\n",
      "| 32 | insightsRiskFeatures__accountActivity__daysOfTrns                         |       0.0051 |     12.3940 |            0.0018 |           -0.0001 |    0.0030 |    0.0014 |    0.0000 |    0.0000 |\n",
      "|  2 | first7d_new_cat__mac__[Tempo]_outgoing_sum                                |       0.0051 |     22.9180 |           -0.0000 |           -0.0004 |    0.0000 |    0.0004 |    0.0000 |    0.0000 |\n",
      "| 28 | insightsRiskFeatures__accountActivity__trnsPerDay                         |       0.0052 |      1.6863 |           -0.0013 |            0.0004 |    0.0013 |    0.0004 |    0.0000 |    0.0000 |\n",
      "| 72 | insightsRiskFeatures__transactionStats__maxIncAmount1W                    |       0.0053 |  11918.4323 |           -0.0009 |            0.0001 |    0.0012 |    0.0033 |    0.0000 |    0.0000 |\n",
      "| 14 | first90d_new_cat__mac__[Netto]_outgoing_count                             |       0.0054 |      2.3276 |            0.0000 |            0.0000 |    0.0000 |    0.0000 |    0.0000 |    0.0000 |\n",
      "| 53 | insightsRiskFeatures__spendingDistribution__lastMonthSum(-50 to 0)        |       0.0055 |    180.7155 |            0.0003 |           -0.0002 |    0.0003 |    0.0002 |    0.0000 |    0.0000 |\n",
      "| 29 | insightsRiskFeatures__accountActivity__daysSinceLastTrn                   |       0.0055 |      1.3707 |            0.0100 |            0.0000 |    0.0103 |    0.0006 |    0.0000 |    0.0000 |\n",
      "| 84 | insightsRiskFeatures__transactionStats__meanIncAmountTotal                |       0.0055 |   2953.4200 |           -0.0002 |            0.0003 |    0.0002 |    0.0003 |    0.0000 |    0.0000 |\n",
      "| 97 | insightsRiskFeatures__monthlyPaymentVariance__avgStdTiming                |       0.0055 |      0.0684 |           -0.0004 |            0.0007 |    0.0004 |    0.0007 |    0.0000 |    0.0000 |\n",
      "| 24 | insightsRiskFeatures__accountActivity__activityIncTotal                   |       0.0056 |      0.0822 |            0.0008 |           -0.0011 |    0.0008 |    0.0011 |    0.0000 |    0.0000 |\n",
      "| 77 | insightsRiskFeatures__transactionStats__meanOutAmount1W                   |       0.0057 |   1991.9172 |           -0.0028 |            0.0007 |    0.0028 |    0.0007 |    0.0000 |    0.0000 |\n",
      "| 13 | first90d_new_cat__mac__[LIDL]_outgoing_count                              |       0.0060 |      2.5044 |            0.0000 |            0.0008 |    0.0003 |    0.0012 |    0.0000 |    0.0000 |\n",
      "| 38 | insightsRiskFeatures__collections__sumCollections1M                       |       0.0061 |   1531.6077 |           -0.0001 |           -0.0007 |    0.0004 |    0.0034 |    0.0000 |    0.0000 |\n",
      "| 41 | insightsRiskFeatures__lowBalances__daysBalanceBelow70_3M                  |       0.0062 |      6.7986 |            0.0005 |           -0.0003 |    0.0013 |    0.0023 |    0.0000 |    0.0000 |\n",
      "| 47 | insightsRiskFeatures__loans__sumRepayments6M                              |       0.0064 |  25290.9627 |            0.0025 |           -0.0037 |    0.0028 |    0.0037 |    0.0000 |    0.0000 |\n",
      "| 10 | first90d_new_cat__mac__[McDonalds]_outgoing_sum                           |       0.0064 |    197.8124 |           -0.0033 |            0.0004 |    0.0033 |    0.0004 |    0.0000 |    0.0000 |\n",
      "| 61 | insightsRiskFeatures__balances__maxBalance3M                              |       0.0065 |  41406.9591 |            0.0051 |            0.0018 |    0.0081 |    0.0018 |    0.0000 |    0.0000 |\n",
      "|  8 | first90d_new_cat__mac__[EnforcementAgency]_outgoing_sum                   |       0.0066 |    780.6506 |            0.0227 |           -0.0002 |    0.0227 |    0.0002 |    0.0191 |    0.0000 |\n",
      "| 92 | insightsRiskFeatures__atmWithdrawals__atmExpensesRatio6M                  |       0.0066 |      0.0369 |           -0.0007 |            0.0017 |    0.0008 |    0.0018 |    0.0000 |    0.0000 |\n",
      "| 16 | first180d_new_cat__mac__[ICA Supermarket]_outgoing_sum                    |       0.0069 |   2019.4437 |           -0.0023 |            0.0011 |    0.0029 |    0.0015 |    0.0000 |    0.0000 |\n",
      "| 30 | insightsRiskFeatures__accountActivity__activityOut3M                      |       0.0076 |      0.0755 |            0.0023 |           -0.0011 |    0.0025 |    0.0011 |    0.0000 |    0.0000 |\n",
      "| 17 | first180d_new_cat__mac__[Östenssons]_outgoing_sum                         |       0.0079 |    219.2718 |            0.0000 |            0.0000 |    0.0000 |    0.0000 |    0.0000 |    0.0000 |\n",
      "| 26 | insightsRiskFeatures__accountActivity__activity3M                         |       0.0081 |      0.0736 |            0.0006 |           -0.0001 |    0.0012 |    0.0011 |    0.0000 |    0.0000 |\n",
      "| 58 | insightsRiskFeatures__balances__stdBalance3M                              |       0.0085 |  11964.2485 |           -0.0003 |            0.0004 |    0.0003 |    0.0004 |    0.0000 |    0.0000 |\n",
      "| 91 | insightsRiskFeatures__atmWithdrawals__sumAtmWithdrawals6M                 |       0.0087 |  10765.0493 |           -0.0004 |            0.0007 |    0.0005 |    0.0010 |    0.0000 |    0.0000 |\n",
      "| 15 | first90d_new_cat__nk__[loan turnover]_outgoing_count                      |       0.0087 |      0.3353 |            0.0000 |            0.0000 |    0.0000 |    0.0000 |    0.0000 |    0.0000 |\n",
      "| 21 | insightsRiskFeatures__incomeTrends__avgRollingTrend                       |       0.0089 |      0.4641 |           -0.0014 |            0.0036 |    0.0014 |    0.0037 |    0.0000 |    0.0000 |\n",
      "| 89 | insightsRiskFeatures__gamblingVsIncome__gamblingIncomeRatio6M             |       0.0089 |      0.0442 |           -0.0004 |            0.0003 |    0.0004 |    0.0003 |    0.0000 |    0.0000 |\n",
      "| 90 | insightsRiskFeatures__atmWithdrawals__atmExpensesRatioTotal               |       0.0091 |      0.0369 |           -0.0014 |            0.0041 |    0.0016 |    0.0051 |    0.0000 |    0.0000 |\n",
      "|  3 | first7d_new_cat__nk__[transfer via internet]_outgoing_sum                 |       0.0096 |  12789.2597 |            0.0065 |           -0.0006 |    0.0068 |    0.0006 |    0.0000 |    0.0000 |\n",
      "| 94 | insightsRiskFeatures__atmWithdrawals__sumAtmWithdrawals1W                 |       0.0102 |   1178.6567 |           -0.0004 |            0.0001 |    0.0004 |    0.0001 |    0.0000 |    0.0000 |\n",
      "| 80 | insightsRiskFeatures__transactionStats__numUniqueTrns6M                   |       0.0106 |    164.4417 |            0.0014 |           -0.0040 |    0.0017 |    0.0040 |    0.0000 |    0.0000 |\n",
      "| 12 | first90d_new_cat__mac__[Circle-K]_outgoing_count                          |       0.0112 |      5.6163 |           -0.0004 |            0.0004 |    0.0004 |    0.0005 |    0.0000 |    0.0000 |\n",
      "| 95 | insightsRiskFeatures__atmWithdrawals__sumAtmWithdrawals1M                 |       0.0123 |   3050.6159 |           -0.0008 |            0.0021 |    0.0008 |    0.0021 |    0.0000 |    0.0000 |\n",
      "| 65 | insightsRiskFeatures__transactionStats__meanAmount1M                      |       0.0123 |    203.5173 |            0.0113 |           -0.0014 |    0.0113 |    0.0014 |    0.0000 |    0.0000 |\n",
      "|  1 | first7d_new_cat__mac__[Jula]_outgoing_sum                                 |       0.0126 |     61.0549 |            0.0000 |           -0.0003 |    0.0000 |    0.0003 |    0.0000 |    0.0000 |\n",
      "| 48 | insightsRiskFeatures__loans__sumLoans6M                                   |       0.0137 |  34930.6604 |           -0.0071 |            0.0106 |    0.0075 |    0.0111 |    0.0000 |    0.0000 |\n",
      "| 31 | insightsRiskFeatures__accountActivity__daysOfOutTrns                      |       0.0139 |     12.5645 |            0.0050 |           -0.0025 |    0.0069 |    0.0033 |    0.0000 |    0.0000 |\n",
      "| 55 | insightsRiskFeatures__spendingDistribution__lastMonthSum(-inf to -20000)  |       0.0146 |  59101.5084 |            0.0005 |           -0.0001 |    0.0006 |    0.0002 |    0.0000 |    0.0000 |\n",
      "| 66 | insightsRiskFeatures__transactionStats__meanIncAmount1M                   |       0.0151 |   4530.6345 |            0.0207 |            0.0003 |    0.0207 |    0.0007 |    0.0210 |    0.0000 |\n",
      "| 45 | insightsRiskFeatures__loans__repaymentLoanRatio1M                         |       0.0161 |      2.1739 |            0.0072 |           -0.0191 |    0.0072 |    0.0191 |    0.0000 |    0.0191 |\n",
      "| 64 | insightsRiskFeatures__balances__minBalance1W                              |       0.0169 |  52732.5846 |            0.0036 |           -0.0080 |    0.0036 |    0.0080 |    0.0000 |    0.0000 |\n",
      "| 62 | insightsRiskFeatures__balances__stdBalance1M                              |       0.0170 |  11746.6259 |            0.0087 |           -0.0015 |    0.0288 |    0.0024 |    0.0241 |    0.0000 |\n",
      "| 69 | insightsRiskFeatures__transactionStats__maxIncAmount1M                    |       0.0171 |  20396.4447 |            0.0131 |           -0.0057 |    0.0188 |    0.0069 |    0.0125 |    0.0000 |\n",
      "| 83 | insightsRiskFeatures__transactionStats__meanIncAmount3M                   |       0.0180 |   3438.2684 |            0.0303 |           -0.0016 |    0.0312 |    0.0017 |    0.0163 |    0.0000 |\n",
      "| 37 | insightsRiskFeatures__collections__sumCollections6M                       |       0.0208 |   7261.1184 |           -0.0105 |            0.0142 |    0.0107 |    0.0158 |    0.0000 |    0.0015 |\n",
      "| 11 | first90d_new_cat__nk__[mostly collection but not only]_outgoing_sum       |       0.0210 |   3159.3090 |           -0.0069 |            0.0021 |    0.0075 |    0.0021 |    0.0000 |    0.0000 |\n",
      "| 93 | insightsRiskFeatures__atmWithdrawals__sumAtmWithdrawals3M                 |       0.0221 |   6373.2679 |           -0.0047 |            0.0173 |    0.0049 |    0.0187 |    0.0000 |    0.0153 |\n",
      "| 75 | insightsRiskFeatures__transactionStats__maxOutAmount1M                    |       0.0229 |  16898.2716 |           -0.0010 |            0.0028 |    0.0011 |    0.0028 |    0.0000 |    0.0000 |\n",
      "| 60 | insightsRiskFeatures__balances__maxBalance1M                              |       0.0249 |  30148.6553 |           -0.0009 |            0.0035 |    0.0009 |    0.0035 |    0.0000 |    0.0000 |\n",
      "| 44 | insightsRiskFeatures__loans__sumRepayments3M                              |       0.0251 |  12713.1814 |            0.0064 |           -0.0090 |    0.0067 |    0.0096 |    0.0000 |    0.0074 |\n",
      "|  0 | application_appliedloanamount                                             |       0.0300 |   3921.8621 |           -0.0105 |            0.0098 |    0.0127 |    0.0114 |    0.0056 |    0.0000 |\n",
      "| 51 | insightsRiskFeatures__spendingDistribution__trend(-500 to -200)           |       0.0428 |      0.5394 |            0.0225 |           -0.0067 |    0.0250 |    0.0072 |    0.0031 |    0.0000 |\n",
      "| 46 | insightsRiskFeatures__loans__sumRepayments1M                              |       0.0557 |   9101.6355 |            0.0343 |           -0.0239 |    0.0345 |    0.0242 |    0.0313 |    0.0091 |\n",
      "| 52 | insightsRiskFeatures__spendingDistribution__lastMonthSum(-500 to -200)    |       0.0606 |   3600.3401 |           -0.0096 |            0.0368 |    0.0096 |    0.0370 |    0.0000 |    0.0163 |\n",
      "+----+---------------------------------------------------------------------------+--------------+-------------+-------------------+-------------------+-----------+-----------+-----------+-----------+\n",
      "\n",
      "\n",
      "*******\n",
      "Legend:\n",
      "Importance = Feature Importance\n",
      "     Explanation: A weighted measure of how much of the variance the model is able to explain is due to this column\n",
      "FR_delta = Feature Response Delta Amount\n",
      "     Explanation: Amount this column was incremented or decremented by to calculate the feature reponses\n",
      "FR_Decrementing = Feature Response From Decrementing Values In This Column By One FR_delta\n",
      "     Explanation: Represents how much the predicted output values respond to subtracting one FR_delta amount from every value in this column\n",
      "FR_Incrementing = Feature Response From Incrementing Values In This Column By One FR_delta\n",
      "     Explanation: Represents how much the predicted output values respond to adding one FR_delta amount to every value in this column\n",
      "FRD_MAD = Feature Response From Decrementing- Median Absolute Delta\n",
      "     Explanation: Takes the absolute value of all changes in predictions, then takes the median of those. Useful for seeing if decrementing this feature provokes strong changes that are both positive and negative\n",
      "FRI_MAD = Feature Response From Incrementing- Median Absolute Delta\n",
      "     Explanation: Takes the absolute value of all changes in predictions, then takes the median of those. Useful for seeing if incrementing this feature provokes strong changes that are both positive and negative\n",
      "FRD_abs = Feature Response From Decrementing Avg Absolute Change\n",
      "     Explanation: What is the average absolute change in predicted output values to subtracting one FR_delta amount to every value in this column. Useful for seeing if output is sensitive to a feature, but not in a uniformly positive or negative way\n",
      "FRI_abs = Feature Response From Incrementing Avg Absolute Change\n",
      "     Explanation: What is the average absolute change in predicted output values to adding one FR_delta amount to every value in this column. Useful for seeing if output is sensitive to a feature, but not in a uniformly positive or negative way\n",
      "*******\n",
      "\n"
     ]
    },
    {
     "name": "stderr",
     "output_type": "stream",
     "text": [
      "/Users/tomas/miniconda3/envs/py36/lib/python3.6/site-packages/sklearn/base.py:197: FutureWarning: From version 0.24, get_params will raise an AttributeError if a parameter cannot be retrieved as an instance attribute. Previously it would return None.\n",
      "  FutureWarning)\n"
     ]
    },
    {
     "data": {
      "text/plain": [
       "<auto_ml.predictor.Predictor at 0x12aa10128>"
      ]
     },
     "execution_count": 103,
     "metadata": {},
     "output_type": "execute_result"
    }
   ],
   "source": [
    "#ml_predictor.train(df_train, ml_for_analytics=True,verbose=False)\n",
    "ml_predictor.train(df_train, verbose=False)\n"
   ]
  },
  {
   "cell_type": "code",
   "execution_count": 100,
   "metadata": {},
   "outputs": [
    {
     "name": "stdout",
     "output_type": "stream",
     "text": [
      "Welcome to auto_ml! We're about to go through and make sense of your data using machine learning, and give you a production-ready pipeline to get predictions with.\n",
      "\n",
      "If you have any issues, or new feature ideas, let us know at http://auto.ml\n",
      "You are running on version 2.9.10\n",
      "Now using the model training_params that you passed in:\n",
      "{}\n",
      "After overwriting our defaults with your values, here are the final params that will be used to initialize the model:\n",
      "{'epochs': 1000, 'batch_size': 50, 'verbose': 2}\n",
      "Running basic data cleaning\n",
      "Performing feature scaling\n",
      "Fitting DataFrameVectorizer\n",
      "\n",
      "\n",
      "********************************************************************************************\n",
      "About to fit the pipeline for the model DeepLearningClassifier to predict is_NP\n",
      "Started at:\n",
      "2020-03-25 15:43:21\n",
      "\n",
      "We will stop training early if we have not seen an improvement in validation accuracy in 25 epochs\n",
      "To measure validation accuracy, we will split off a random 10 percent of your training data set\n",
      "Train on 1052 samples, validate on 186 samples\n",
      "Epoch 1/1000\n",
      " - 0s - loss: 1.0104 - accuracy: 0.7063 - poisson: 0.6852 - val_loss: 0.7867 - val_accuracy: 0.8011 - val_poisson: 0.5547\n",
      "Epoch 2/1000\n",
      " - 0s - loss: 0.8216 - accuracy: 0.7757 - poisson: 0.6124 - val_loss: 0.7345 - val_accuracy: 0.8065 - val_poisson: 0.5466\n",
      "Epoch 3/1000\n",
      " - 0s - loss: 0.7625 - accuracy: 0.7833 - poisson: 0.6002 - val_loss: 0.6766 - val_accuracy: 0.8172 - val_poisson: 0.5318\n",
      "Epoch 4/1000\n",
      " - 0s - loss: 0.6931 - accuracy: 0.7823 - poisson: 0.5716 - val_loss: 0.6354 - val_accuracy: 0.8172 - val_poisson: 0.5316\n",
      "Epoch 5/1000\n",
      " - 0s - loss: 0.6610 - accuracy: 0.7823 - poisson: 0.5683 - val_loss: 0.6001 - val_accuracy: 0.8172 - val_poisson: 0.5253\n",
      "Epoch 6/1000\n",
      " - 0s - loss: 0.6273 - accuracy: 0.7861 - poisson: 0.5681 - val_loss: 0.6536 - val_accuracy: 0.7957 - val_poisson: 0.5910\n",
      "Epoch 7/1000\n",
      " - 0s - loss: 0.6025 - accuracy: 0.7823 - poisson: 0.5626 - val_loss: 0.5761 - val_accuracy: 0.8118 - val_poisson: 0.5276\n",
      "Epoch 8/1000\n",
      " - 0s - loss: 0.5762 - accuracy: 0.7823 - poisson: 0.5510 - val_loss: 0.5411 - val_accuracy: 0.8172 - val_poisson: 0.5199\n",
      "Epoch 9/1000\n",
      " - 0s - loss: 0.5624 - accuracy: 0.7833 - poisson: 0.5497 - val_loss: 0.5414 - val_accuracy: 0.8118 - val_poisson: 0.5298\n",
      "Epoch 10/1000\n",
      " - 0s - loss: 0.5449 - accuracy: 0.7842 - poisson: 0.5415 - val_loss: 0.5213 - val_accuracy: 0.8118 - val_poisson: 0.5166\n",
      "Epoch 11/1000\n",
      " - 0s - loss: 0.5428 - accuracy: 0.7861 - poisson: 0.5463 - val_loss: 0.5113 - val_accuracy: 0.8226 - val_poisson: 0.5135\n",
      "Epoch 12/1000\n",
      " - 0s - loss: 0.5261 - accuracy: 0.7890 - poisson: 0.5378 - val_loss: 0.5059 - val_accuracy: 0.8118 - val_poisson: 0.5090\n",
      "Epoch 13/1000\n",
      " - 0s - loss: 0.5388 - accuracy: 0.7852 - poisson: 0.5488 - val_loss: 0.5250 - val_accuracy: 0.7957 - val_poisson: 0.5206\n",
      "Epoch 14/1000\n",
      " - 0s - loss: 0.5180 - accuracy: 0.7852 - poisson: 0.5334 - val_loss: 0.5156 - val_accuracy: 0.8011 - val_poisson: 0.5177\n",
      "Epoch 15/1000\n",
      " - 0s - loss: 0.5562 - accuracy: 0.7785 - poisson: 0.5556 - val_loss: 0.5040 - val_accuracy: 0.8172 - val_poisson: 0.5125\n",
      "Epoch 16/1000\n",
      " - 0s - loss: 0.5060 - accuracy: 0.7975 - poisson: 0.5275 - val_loss: 0.5028 - val_accuracy: 0.8118 - val_poisson: 0.5118\n",
      "Epoch 17/1000\n",
      " - 0s - loss: 0.5087 - accuracy: 0.7947 - poisson: 0.5326 - val_loss: 0.5204 - val_accuracy: 0.8065 - val_poisson: 0.5238\n",
      "Epoch 18/1000\n",
      " - 0s - loss: 0.5031 - accuracy: 0.8004 - poisson: 0.5257 - val_loss: 0.5683 - val_accuracy: 0.8065 - val_poisson: 0.5463\n",
      "Epoch 19/1000\n",
      " - 0s - loss: 0.5036 - accuracy: 0.8004 - poisson: 0.5255 - val_loss: 0.5473 - val_accuracy: 0.8011 - val_poisson: 0.5378\n",
      "Epoch 20/1000\n",
      " - 0s - loss: 0.4947 - accuracy: 0.7975 - poisson: 0.5228 - val_loss: 0.5614 - val_accuracy: 0.8172 - val_poisson: 0.5462\n",
      "Epoch 21/1000\n",
      " - 0s - loss: 0.4763 - accuracy: 0.8032 - poisson: 0.5084 - val_loss: 0.5716 - val_accuracy: 0.7903 - val_poisson: 0.5303\n",
      "Epoch 22/1000\n",
      " - 0s - loss: 0.4838 - accuracy: 0.7956 - poisson: 0.5125 - val_loss: 0.5888 - val_accuracy: 0.8011 - val_poisson: 0.5496\n",
      "Epoch 23/1000\n",
      " - 0s - loss: 0.4753 - accuracy: 0.8013 - poisson: 0.5086 - val_loss: 0.5635 - val_accuracy: 0.8065 - val_poisson: 0.5607\n",
      "Epoch 24/1000\n",
      " - 0s - loss: 0.4709 - accuracy: 0.7994 - poisson: 0.5048 - val_loss: 0.5769 - val_accuracy: 0.8011 - val_poisson: 0.5398\n",
      "Epoch 25/1000\n",
      " - 0s - loss: 0.4642 - accuracy: 0.8080 - poisson: 0.5008 - val_loss: 0.5982 - val_accuracy: 0.8011 - val_poisson: 0.5670\n",
      "Epoch 26/1000\n",
      " - 0s - loss: 0.4555 - accuracy: 0.8089 - poisson: 0.4947 - val_loss: 0.6553 - val_accuracy: 0.8011 - val_poisson: 0.6359\n",
      "Epoch 27/1000\n",
      " - 0s - loss: 0.4555 - accuracy: 0.8137 - poisson: 0.4931 - val_loss: 0.6164 - val_accuracy: 0.7849 - val_poisson: 0.5696\n",
      "Epoch 28/1000\n",
      " - 0s - loss: 0.4485 - accuracy: 0.8184 - poisson: 0.4909 - val_loss: 0.6285 - val_accuracy: 0.8011 - val_poisson: 0.5821\n",
      "Epoch 29/1000\n",
      " - 0s - loss: 0.4825 - accuracy: 0.8137 - poisson: 0.5226 - val_loss: 0.5671 - val_accuracy: 0.7957 - val_poisson: 0.5533\n",
      "Epoch 30/1000\n",
      " - 0s - loss: 0.4508 - accuracy: 0.8175 - poisson: 0.4853 - val_loss: 0.6405 - val_accuracy: 0.7796 - val_poisson: 0.5646\n",
      "Epoch 31/1000\n",
      " - 0s - loss: 0.4380 - accuracy: 0.8175 - poisson: 0.4800 - val_loss: 0.6704 - val_accuracy: 0.8011 - val_poisson: 0.6419\n",
      "Epoch 32/1000\n",
      " - 0s - loss: 0.4509 - accuracy: 0.8175 - poisson: 0.4915 - val_loss: 0.7136 - val_accuracy: 0.8011 - val_poisson: 0.7032\n",
      "Epoch 33/1000\n",
      " - 0s - loss: 0.4492 - accuracy: 0.8232 - poisson: 0.4919 - val_loss: 0.7140 - val_accuracy: 0.8011 - val_poisson: 0.6674\n",
      "Epoch 34/1000\n",
      " - 0s - loss: 0.4385 - accuracy: 0.8241 - poisson: 0.4845 - val_loss: 0.6941 - val_accuracy: 0.8065 - val_poisson: 0.6758\n",
      "Epoch 35/1000\n",
      " - 0s - loss: 0.4219 - accuracy: 0.8260 - poisson: 0.4717 - val_loss: 0.6805 - val_accuracy: 0.8065 - val_poisson: 0.6274\n",
      "Epoch 36/1000\n",
      " - 0s - loss: 0.4197 - accuracy: 0.8260 - poisson: 0.4707 - val_loss: 0.7093 - val_accuracy: 0.7903 - val_poisson: 0.6002\n",
      "Epoch 37/1000\n",
      " - 0s - loss: 0.4224 - accuracy: 0.8298 - poisson: 0.4739 - val_loss: 0.7107 - val_accuracy: 0.7688 - val_poisson: 0.6358\n",
      "Epoch 38/1000\n",
      " - 0s - loss: 0.4212 - accuracy: 0.8260 - poisson: 0.4719 - val_loss: 0.6494 - val_accuracy: 0.8011 - val_poisson: 0.6158\n",
      "Epoch 39/1000\n",
      " - 0s - loss: 0.4190 - accuracy: 0.8279 - poisson: 0.4668 - val_loss: 0.7565 - val_accuracy: 0.7903 - val_poisson: 0.6896\n",
      "Epoch 40/1000\n",
      " - 0s - loss: 0.4050 - accuracy: 0.8298 - poisson: 0.4590 - val_loss: 0.7198 - val_accuracy: 0.7688 - val_poisson: 0.6233\n",
      "Epoch 41/1000\n",
      " - 0s - loss: 0.3979 - accuracy: 0.8260 - poisson: 0.4515 - val_loss: 0.7508 - val_accuracy: 0.7903 - val_poisson: 0.7080\n",
      "Epoch 00041: early stopping\n",
      "Finished training the pipeline!\n",
      "Total training time:\n",
      "0:00:05\n"
     ]
    },
    {
     "name": "stderr",
     "output_type": "stream",
     "text": [
      "/Users/tomas/miniconda3/envs/py36/lib/python3.6/site-packages/keras/engine/sequential.py:111: UserWarning: `Sequential.model` is deprecated. `Sequential` is a subclass of `Model`, you can just use your `Sequential` instance directly.\n",
      "  warnings.warn('`Sequential.model` is deprecated. '\n",
      "/Users/tomas/miniconda3/envs/py36/lib/python3.6/site-packages/sklearn/base.py:197: FutureWarning: From version 0.24, get_params will raise an AttributeError if a parameter cannot be retrieved as an instance attribute. Previously it would return None.\n",
      "  FutureWarning)\n"
     ]
    },
    {
     "name": "stdout",
     "output_type": "stream",
     "text": [
      "Now using the model training_params that you passed in:\n",
      "{}\n",
      "After overwriting our defaults with your values, here are the final params that will be used to initialize the model:\n",
      "{'presort': False, 'learning_rate': 0.1, 'warm_start': True}\n",
      "\n",
      "\n",
      "********************************************************************************************\n",
      "About to fit the pipeline for the model GradientBoostingClassifier to predict is_NP\n",
      "Started at:\n",
      "2020-03-25 15:43:27\n"
     ]
    },
    {
     "name": "stderr",
     "output_type": "stream",
     "text": [
      "/Users/tomas/miniconda3/envs/py36/lib/python3.6/site-packages/sklearn/base.py:197: FutureWarning: From version 0.24, get_params will raise an AttributeError if a parameter cannot be retrieved as an instance attribute. Previously it would return None.\n",
      "  FutureWarning)\n",
      "/Users/tomas/miniconda3/envs/py36/lib/python3.6/site-packages/sklearn/ensemble/_gb.py:1342: FutureWarning: The parameter 'presort' is deprecated and has no effect. It will be removed in v0.24. You can suppress this warning by not passing any value to the 'presort' parameter. We also recommend using HistGradientBoosting models instead.\n",
      "  FutureWarning)\n"
     ]
    },
    {
     "name": "stdout",
     "output_type": "stream",
     "text": [
      "[1] random_holdout_set_from_training_data's score is: -0.177\n",
      "[2] random_holdout_set_from_training_data's score is: -0.175\n"
     ]
    },
    {
     "name": "stderr",
     "output_type": "stream",
     "text": [
      "/Users/tomas/miniconda3/envs/py36/lib/python3.6/site-packages/sklearn/ensemble/_gb.py:1342: FutureWarning: The parameter 'presort' is deprecated and has no effect. It will be removed in v0.24. You can suppress this warning by not passing any value to the 'presort' parameter. We also recommend using HistGradientBoosting models instead.\n",
      "  FutureWarning)\n",
      "/Users/tomas/miniconda3/envs/py36/lib/python3.6/site-packages/sklearn/ensemble/_gb.py:1342: FutureWarning: The parameter 'presort' is deprecated and has no effect. It will be removed in v0.24. You can suppress this warning by not passing any value to the 'presort' parameter. We also recommend using HistGradientBoosting models instead.\n",
      "  FutureWarning)\n"
     ]
    },
    {
     "name": "stdout",
     "output_type": "stream",
     "text": [
      "[3] random_holdout_set_from_training_data's score is: -0.173\n",
      "[4] random_holdout_set_from_training_data's score is: -0.172\n"
     ]
    },
    {
     "name": "stderr",
     "output_type": "stream",
     "text": [
      "/Users/tomas/miniconda3/envs/py36/lib/python3.6/site-packages/sklearn/ensemble/_gb.py:1342: FutureWarning: The parameter 'presort' is deprecated and has no effect. It will be removed in v0.24. You can suppress this warning by not passing any value to the 'presort' parameter. We also recommend using HistGradientBoosting models instead.\n",
      "  FutureWarning)\n",
      "/Users/tomas/miniconda3/envs/py36/lib/python3.6/site-packages/sklearn/ensemble/_gb.py:1342: FutureWarning: The parameter 'presort' is deprecated and has no effect. It will be removed in v0.24. You can suppress this warning by not passing any value to the 'presort' parameter. We also recommend using HistGradientBoosting models instead.\n",
      "  FutureWarning)\n"
     ]
    },
    {
     "name": "stdout",
     "output_type": "stream",
     "text": [
      "[5] random_holdout_set_from_training_data's score is: -0.171\n",
      "[6] random_holdout_set_from_training_data's score is: -0.17\n"
     ]
    },
    {
     "name": "stderr",
     "output_type": "stream",
     "text": [
      "/Users/tomas/miniconda3/envs/py36/lib/python3.6/site-packages/sklearn/ensemble/_gb.py:1342: FutureWarning: The parameter 'presort' is deprecated and has no effect. It will be removed in v0.24. You can suppress this warning by not passing any value to the 'presort' parameter. We also recommend using HistGradientBoosting models instead.\n",
      "  FutureWarning)\n",
      "/Users/tomas/miniconda3/envs/py36/lib/python3.6/site-packages/sklearn/ensemble/_gb.py:1342: FutureWarning: The parameter 'presort' is deprecated and has no effect. It will be removed in v0.24. You can suppress this warning by not passing any value to the 'presort' parameter. We also recommend using HistGradientBoosting models instead.\n",
      "  FutureWarning)\n"
     ]
    },
    {
     "name": "stdout",
     "output_type": "stream",
     "text": [
      "[7] random_holdout_set_from_training_data's score is: -0.169\n",
      "[8] random_holdout_set_from_training_data's score is: -0.169\n"
     ]
    },
    {
     "name": "stderr",
     "output_type": "stream",
     "text": [
      "/Users/tomas/miniconda3/envs/py36/lib/python3.6/site-packages/sklearn/ensemble/_gb.py:1342: FutureWarning: The parameter 'presort' is deprecated and has no effect. It will be removed in v0.24. You can suppress this warning by not passing any value to the 'presort' parameter. We also recommend using HistGradientBoosting models instead.\n",
      "  FutureWarning)\n",
      "/Users/tomas/miniconda3/envs/py36/lib/python3.6/site-packages/sklearn/ensemble/_gb.py:1342: FutureWarning: The parameter 'presort' is deprecated and has no effect. It will be removed in v0.24. You can suppress this warning by not passing any value to the 'presort' parameter. We also recommend using HistGradientBoosting models instead.\n",
      "  FutureWarning)\n"
     ]
    },
    {
     "name": "stdout",
     "output_type": "stream",
     "text": [
      "[9] random_holdout_set_from_training_data's score is: -0.168\n",
      "[10] random_holdout_set_from_training_data's score is: -0.168\n"
     ]
    },
    {
     "name": "stderr",
     "output_type": "stream",
     "text": [
      "/Users/tomas/miniconda3/envs/py36/lib/python3.6/site-packages/sklearn/ensemble/_gb.py:1342: FutureWarning: The parameter 'presort' is deprecated and has no effect. It will be removed in v0.24. You can suppress this warning by not passing any value to the 'presort' parameter. We also recommend using HistGradientBoosting models instead.\n",
      "  FutureWarning)\n",
      "/Users/tomas/miniconda3/envs/py36/lib/python3.6/site-packages/sklearn/ensemble/_gb.py:1342: FutureWarning: The parameter 'presort' is deprecated and has no effect. It will be removed in v0.24. You can suppress this warning by not passing any value to the 'presort' parameter. We also recommend using HistGradientBoosting models instead.\n",
      "  FutureWarning)\n"
     ]
    },
    {
     "name": "stdout",
     "output_type": "stream",
     "text": [
      "[11] random_holdout_set_from_training_data's score is: -0.168\n",
      "[12] random_holdout_set_from_training_data's score is: -0.167\n"
     ]
    },
    {
     "name": "stderr",
     "output_type": "stream",
     "text": [
      "/Users/tomas/miniconda3/envs/py36/lib/python3.6/site-packages/sklearn/ensemble/_gb.py:1342: FutureWarning: The parameter 'presort' is deprecated and has no effect. It will be removed in v0.24. You can suppress this warning by not passing any value to the 'presort' parameter. We also recommend using HistGradientBoosting models instead.\n",
      "  FutureWarning)\n",
      "/Users/tomas/miniconda3/envs/py36/lib/python3.6/site-packages/sklearn/ensemble/_gb.py:1342: FutureWarning: The parameter 'presort' is deprecated and has no effect. It will be removed in v0.24. You can suppress this warning by not passing any value to the 'presort' parameter. We also recommend using HistGradientBoosting models instead.\n",
      "  FutureWarning)\n"
     ]
    },
    {
     "name": "stdout",
     "output_type": "stream",
     "text": [
      "[13] random_holdout_set_from_training_data's score is: -0.167\n",
      "[14] random_holdout_set_from_training_data's score is: -0.167\n"
     ]
    },
    {
     "name": "stderr",
     "output_type": "stream",
     "text": [
      "/Users/tomas/miniconda3/envs/py36/lib/python3.6/site-packages/sklearn/ensemble/_gb.py:1342: FutureWarning: The parameter 'presort' is deprecated and has no effect. It will be removed in v0.24. You can suppress this warning by not passing any value to the 'presort' parameter. We also recommend using HistGradientBoosting models instead.\n",
      "  FutureWarning)\n",
      "/Users/tomas/miniconda3/envs/py36/lib/python3.6/site-packages/sklearn/ensemble/_gb.py:1342: FutureWarning: The parameter 'presort' is deprecated and has no effect. It will be removed in v0.24. You can suppress this warning by not passing any value to the 'presort' parameter. We also recommend using HistGradientBoosting models instead.\n",
      "  FutureWarning)\n"
     ]
    },
    {
     "name": "stdout",
     "output_type": "stream",
     "text": [
      "[15] random_holdout_set_from_training_data's score is: -0.167\n",
      "[16] random_holdout_set_from_training_data's score is: -0.166\n"
     ]
    },
    {
     "name": "stderr",
     "output_type": "stream",
     "text": [
      "/Users/tomas/miniconda3/envs/py36/lib/python3.6/site-packages/sklearn/ensemble/_gb.py:1342: FutureWarning: The parameter 'presort' is deprecated and has no effect. It will be removed in v0.24. You can suppress this warning by not passing any value to the 'presort' parameter. We also recommend using HistGradientBoosting models instead.\n",
      "  FutureWarning)\n",
      "/Users/tomas/miniconda3/envs/py36/lib/python3.6/site-packages/sklearn/ensemble/_gb.py:1342: FutureWarning: The parameter 'presort' is deprecated and has no effect. It will be removed in v0.24. You can suppress this warning by not passing any value to the 'presort' parameter. We also recommend using HistGradientBoosting models instead.\n",
      "  FutureWarning)\n"
     ]
    },
    {
     "name": "stdout",
     "output_type": "stream",
     "text": [
      "[17] random_holdout_set_from_training_data's score is: -0.166\n",
      "[18] random_holdout_set_from_training_data's score is: -0.166\n"
     ]
    },
    {
     "name": "stderr",
     "output_type": "stream",
     "text": [
      "/Users/tomas/miniconda3/envs/py36/lib/python3.6/site-packages/sklearn/ensemble/_gb.py:1342: FutureWarning: The parameter 'presort' is deprecated and has no effect. It will be removed in v0.24. You can suppress this warning by not passing any value to the 'presort' parameter. We also recommend using HistGradientBoosting models instead.\n",
      "  FutureWarning)\n",
      "/Users/tomas/miniconda3/envs/py36/lib/python3.6/site-packages/sklearn/ensemble/_gb.py:1342: FutureWarning: The parameter 'presort' is deprecated and has no effect. It will be removed in v0.24. You can suppress this warning by not passing any value to the 'presort' parameter. We also recommend using HistGradientBoosting models instead.\n",
      "  FutureWarning)\n"
     ]
    },
    {
     "name": "stdout",
     "output_type": "stream",
     "text": [
      "[19] random_holdout_set_from_training_data's score is: -0.165\n",
      "[20] random_holdout_set_from_training_data's score is: -0.165\n"
     ]
    },
    {
     "name": "stderr",
     "output_type": "stream",
     "text": [
      "/Users/tomas/miniconda3/envs/py36/lib/python3.6/site-packages/sklearn/ensemble/_gb.py:1342: FutureWarning: The parameter 'presort' is deprecated and has no effect. It will be removed in v0.24. You can suppress this warning by not passing any value to the 'presort' parameter. We also recommend using HistGradientBoosting models instead.\n",
      "  FutureWarning)\n",
      "/Users/tomas/miniconda3/envs/py36/lib/python3.6/site-packages/sklearn/ensemble/_gb.py:1342: FutureWarning: The parameter 'presort' is deprecated and has no effect. It will be removed in v0.24. You can suppress this warning by not passing any value to the 'presort' parameter. We also recommend using HistGradientBoosting models instead.\n",
      "  FutureWarning)\n"
     ]
    },
    {
     "name": "stdout",
     "output_type": "stream",
     "text": [
      "[21] random_holdout_set_from_training_data's score is: -0.165\n",
      "[22] random_holdout_set_from_training_data's score is: -0.165\n"
     ]
    },
    {
     "name": "stderr",
     "output_type": "stream",
     "text": [
      "/Users/tomas/miniconda3/envs/py36/lib/python3.6/site-packages/sklearn/ensemble/_gb.py:1342: FutureWarning: The parameter 'presort' is deprecated and has no effect. It will be removed in v0.24. You can suppress this warning by not passing any value to the 'presort' parameter. We also recommend using HistGradientBoosting models instead.\n",
      "  FutureWarning)\n",
      "/Users/tomas/miniconda3/envs/py36/lib/python3.6/site-packages/sklearn/ensemble/_gb.py:1342: FutureWarning: The parameter 'presort' is deprecated and has no effect. It will be removed in v0.24. You can suppress this warning by not passing any value to the 'presort' parameter. We also recommend using HistGradientBoosting models instead.\n",
      "  FutureWarning)\n"
     ]
    },
    {
     "name": "stdout",
     "output_type": "stream",
     "text": [
      "[23] random_holdout_set_from_training_data's score is: -0.165\n",
      "[24] random_holdout_set_from_training_data's score is: -0.165\n"
     ]
    },
    {
     "name": "stderr",
     "output_type": "stream",
     "text": [
      "/Users/tomas/miniconda3/envs/py36/lib/python3.6/site-packages/sklearn/ensemble/_gb.py:1342: FutureWarning: The parameter 'presort' is deprecated and has no effect. It will be removed in v0.24. You can suppress this warning by not passing any value to the 'presort' parameter. We also recommend using HistGradientBoosting models instead.\n",
      "  FutureWarning)\n",
      "/Users/tomas/miniconda3/envs/py36/lib/python3.6/site-packages/sklearn/ensemble/_gb.py:1342: FutureWarning: The parameter 'presort' is deprecated and has no effect. It will be removed in v0.24. You can suppress this warning by not passing any value to the 'presort' parameter. We also recommend using HistGradientBoosting models instead.\n",
      "  FutureWarning)\n"
     ]
    },
    {
     "name": "stdout",
     "output_type": "stream",
     "text": [
      "[25] random_holdout_set_from_training_data's score is: -0.165\n",
      "[26] random_holdout_set_from_training_data's score is: -0.165\n"
     ]
    },
    {
     "name": "stderr",
     "output_type": "stream",
     "text": [
      "/Users/tomas/miniconda3/envs/py36/lib/python3.6/site-packages/sklearn/ensemble/_gb.py:1342: FutureWarning: The parameter 'presort' is deprecated and has no effect. It will be removed in v0.24. You can suppress this warning by not passing any value to the 'presort' parameter. We also recommend using HistGradientBoosting models instead.\n",
      "  FutureWarning)\n",
      "/Users/tomas/miniconda3/envs/py36/lib/python3.6/site-packages/sklearn/ensemble/_gb.py:1342: FutureWarning: The parameter 'presort' is deprecated and has no effect. It will be removed in v0.24. You can suppress this warning by not passing any value to the 'presort' parameter. We also recommend using HistGradientBoosting models instead.\n",
      "  FutureWarning)\n"
     ]
    },
    {
     "name": "stdout",
     "output_type": "stream",
     "text": [
      "[27] random_holdout_set_from_training_data's score is: -0.165\n",
      "[28] random_holdout_set_from_training_data's score is: -0.165\n"
     ]
    },
    {
     "name": "stderr",
     "output_type": "stream",
     "text": [
      "/Users/tomas/miniconda3/envs/py36/lib/python3.6/site-packages/sklearn/ensemble/_gb.py:1342: FutureWarning: The parameter 'presort' is deprecated and has no effect. It will be removed in v0.24. You can suppress this warning by not passing any value to the 'presort' parameter. We also recommend using HistGradientBoosting models instead.\n",
      "  FutureWarning)\n",
      "/Users/tomas/miniconda3/envs/py36/lib/python3.6/site-packages/sklearn/ensemble/_gb.py:1342: FutureWarning: The parameter 'presort' is deprecated and has no effect. It will be removed in v0.24. You can suppress this warning by not passing any value to the 'presort' parameter. We also recommend using HistGradientBoosting models instead.\n",
      "  FutureWarning)\n"
     ]
    },
    {
     "name": "stdout",
     "output_type": "stream",
     "text": [
      "[29] random_holdout_set_from_training_data's score is: -0.166\n",
      "[30] random_holdout_set_from_training_data's score is: -0.165\n"
     ]
    },
    {
     "name": "stderr",
     "output_type": "stream",
     "text": [
      "/Users/tomas/miniconda3/envs/py36/lib/python3.6/site-packages/sklearn/ensemble/_gb.py:1342: FutureWarning: The parameter 'presort' is deprecated and has no effect. It will be removed in v0.24. You can suppress this warning by not passing any value to the 'presort' parameter. We also recommend using HistGradientBoosting models instead.\n",
      "  FutureWarning)\n",
      "/Users/tomas/miniconda3/envs/py36/lib/python3.6/site-packages/sklearn/ensemble/_gb.py:1342: FutureWarning: The parameter 'presort' is deprecated and has no effect. It will be removed in v0.24. You can suppress this warning by not passing any value to the 'presort' parameter. We also recommend using HistGradientBoosting models instead.\n",
      "  FutureWarning)\n"
     ]
    },
    {
     "name": "stdout",
     "output_type": "stream",
     "text": [
      "[31] random_holdout_set_from_training_data's score is: -0.165\n",
      "[32] random_holdout_set_from_training_data's score is: -0.165\n"
     ]
    },
    {
     "name": "stderr",
     "output_type": "stream",
     "text": [
      "/Users/tomas/miniconda3/envs/py36/lib/python3.6/site-packages/sklearn/ensemble/_gb.py:1342: FutureWarning: The parameter 'presort' is deprecated and has no effect. It will be removed in v0.24. You can suppress this warning by not passing any value to the 'presort' parameter. We also recommend using HistGradientBoosting models instead.\n",
      "  FutureWarning)\n",
      "/Users/tomas/miniconda3/envs/py36/lib/python3.6/site-packages/sklearn/ensemble/_gb.py:1342: FutureWarning: The parameter 'presort' is deprecated and has no effect. It will be removed in v0.24. You can suppress this warning by not passing any value to the 'presort' parameter. We also recommend using HistGradientBoosting models instead.\n",
      "  FutureWarning)\n"
     ]
    },
    {
     "name": "stdout",
     "output_type": "stream",
     "text": [
      "[33] random_holdout_set_from_training_data's score is: -0.165\n",
      "[34] random_holdout_set_from_training_data's score is: -0.165\n"
     ]
    },
    {
     "name": "stderr",
     "output_type": "stream",
     "text": [
      "/Users/tomas/miniconda3/envs/py36/lib/python3.6/site-packages/sklearn/ensemble/_gb.py:1342: FutureWarning: The parameter 'presort' is deprecated and has no effect. It will be removed in v0.24. You can suppress this warning by not passing any value to the 'presort' parameter. We also recommend using HistGradientBoosting models instead.\n",
      "  FutureWarning)\n",
      "/Users/tomas/miniconda3/envs/py36/lib/python3.6/site-packages/sklearn/ensemble/_gb.py:1342: FutureWarning: The parameter 'presort' is deprecated and has no effect. It will be removed in v0.24. You can suppress this warning by not passing any value to the 'presort' parameter. We also recommend using HistGradientBoosting models instead.\n",
      "  FutureWarning)\n"
     ]
    },
    {
     "name": "stdout",
     "output_type": "stream",
     "text": [
      "[35] random_holdout_set_from_training_data's score is: -0.165\n",
      "[36] random_holdout_set_from_training_data's score is: -0.165\n"
     ]
    },
    {
     "name": "stderr",
     "output_type": "stream",
     "text": [
      "/Users/tomas/miniconda3/envs/py36/lib/python3.6/site-packages/sklearn/ensemble/_gb.py:1342: FutureWarning: The parameter 'presort' is deprecated and has no effect. It will be removed in v0.24. You can suppress this warning by not passing any value to the 'presort' parameter. We also recommend using HistGradientBoosting models instead.\n",
      "  FutureWarning)\n",
      "/Users/tomas/miniconda3/envs/py36/lib/python3.6/site-packages/sklearn/ensemble/_gb.py:1342: FutureWarning: The parameter 'presort' is deprecated and has no effect. It will be removed in v0.24. You can suppress this warning by not passing any value to the 'presort' parameter. We also recommend using HistGradientBoosting models instead.\n",
      "  FutureWarning)\n"
     ]
    },
    {
     "name": "stdout",
     "output_type": "stream",
     "text": [
      "[37] random_holdout_set_from_training_data's score is: -0.165\n",
      "[38] random_holdout_set_from_training_data's score is: -0.165\n"
     ]
    },
    {
     "name": "stderr",
     "output_type": "stream",
     "text": [
      "/Users/tomas/miniconda3/envs/py36/lib/python3.6/site-packages/sklearn/ensemble/_gb.py:1342: FutureWarning: The parameter 'presort' is deprecated and has no effect. It will be removed in v0.24. You can suppress this warning by not passing any value to the 'presort' parameter. We also recommend using HistGradientBoosting models instead.\n",
      "  FutureWarning)\n",
      "/Users/tomas/miniconda3/envs/py36/lib/python3.6/site-packages/sklearn/ensemble/_gb.py:1342: FutureWarning: The parameter 'presort' is deprecated and has no effect. It will be removed in v0.24. You can suppress this warning by not passing any value to the 'presort' parameter. We also recommend using HistGradientBoosting models instead.\n",
      "  FutureWarning)\n"
     ]
    },
    {
     "name": "stdout",
     "output_type": "stream",
     "text": [
      "[39] random_holdout_set_from_training_data's score is: -0.165\n",
      "[40] random_holdout_set_from_training_data's score is: -0.165\n"
     ]
    },
    {
     "name": "stderr",
     "output_type": "stream",
     "text": [
      "/Users/tomas/miniconda3/envs/py36/lib/python3.6/site-packages/sklearn/ensemble/_gb.py:1342: FutureWarning: The parameter 'presort' is deprecated and has no effect. It will be removed in v0.24. You can suppress this warning by not passing any value to the 'presort' parameter. We also recommend using HistGradientBoosting models instead.\n",
      "  FutureWarning)\n",
      "/Users/tomas/miniconda3/envs/py36/lib/python3.6/site-packages/sklearn/ensemble/_gb.py:1342: FutureWarning: The parameter 'presort' is deprecated and has no effect. It will be removed in v0.24. You can suppress this warning by not passing any value to the 'presort' parameter. We also recommend using HistGradientBoosting models instead.\n",
      "  FutureWarning)\n"
     ]
    },
    {
     "name": "stdout",
     "output_type": "stream",
     "text": [
      "[41] random_holdout_set_from_training_data's score is: -0.165\n"
     ]
    },
    {
     "name": "stderr",
     "output_type": "stream",
     "text": [
      "/Users/tomas/miniconda3/envs/py36/lib/python3.6/site-packages/sklearn/ensemble/_gb.py:1342: FutureWarning: The parameter 'presort' is deprecated and has no effect. It will be removed in v0.24. You can suppress this warning by not passing any value to the 'presort' parameter. We also recommend using HistGradientBoosting models instead.\n",
      "  FutureWarning)\n"
     ]
    },
    {
     "name": "stdout",
     "output_type": "stream",
     "text": [
      "[42] random_holdout_set_from_training_data's score is: -0.165\n",
      "[43] random_holdout_set_from_training_data's score is: -0.165\n"
     ]
    },
    {
     "name": "stderr",
     "output_type": "stream",
     "text": [
      "/Users/tomas/miniconda3/envs/py36/lib/python3.6/site-packages/sklearn/ensemble/_gb.py:1342: FutureWarning: The parameter 'presort' is deprecated and has no effect. It will be removed in v0.24. You can suppress this warning by not passing any value to the 'presort' parameter. We also recommend using HistGradientBoosting models instead.\n",
      "  FutureWarning)\n",
      "/Users/tomas/miniconda3/envs/py36/lib/python3.6/site-packages/sklearn/ensemble/_gb.py:1342: FutureWarning: The parameter 'presort' is deprecated and has no effect. It will be removed in v0.24. You can suppress this warning by not passing any value to the 'presort' parameter. We also recommend using HistGradientBoosting models instead.\n",
      "  FutureWarning)\n"
     ]
    },
    {
     "name": "stdout",
     "output_type": "stream",
     "text": [
      "[44] random_holdout_set_from_training_data's score is: -0.165\n"
     ]
    },
    {
     "name": "stderr",
     "output_type": "stream",
     "text": [
      "/Users/tomas/miniconda3/envs/py36/lib/python3.6/site-packages/sklearn/ensemble/_gb.py:1342: FutureWarning: The parameter 'presort' is deprecated and has no effect. It will be removed in v0.24. You can suppress this warning by not passing any value to the 'presort' parameter. We also recommend using HistGradientBoosting models instead.\n",
      "  FutureWarning)\n"
     ]
    },
    {
     "name": "stdout",
     "output_type": "stream",
     "text": [
      "[45] random_holdout_set_from_training_data's score is: -0.165\n",
      "[46] random_holdout_set_from_training_data's score is: -0.166\n"
     ]
    },
    {
     "name": "stderr",
     "output_type": "stream",
     "text": [
      "/Users/tomas/miniconda3/envs/py36/lib/python3.6/site-packages/sklearn/ensemble/_gb.py:1342: FutureWarning: The parameter 'presort' is deprecated and has no effect. It will be removed in v0.24. You can suppress this warning by not passing any value to the 'presort' parameter. We also recommend using HistGradientBoosting models instead.\n",
      "  FutureWarning)\n",
      "/Users/tomas/miniconda3/envs/py36/lib/python3.6/site-packages/sklearn/ensemble/_gb.py:1342: FutureWarning: The parameter 'presort' is deprecated and has no effect. It will be removed in v0.24. You can suppress this warning by not passing any value to the 'presort' parameter. We also recommend using HistGradientBoosting models instead.\n",
      "  FutureWarning)\n"
     ]
    },
    {
     "name": "stdout",
     "output_type": "stream",
     "text": [
      "[47] random_holdout_set_from_training_data's score is: -0.166\n",
      "The number of estimators that were the best for this training dataset: 27\n",
      "The best score on the holdout set: -0.16479659079660774\n",
      "Finished training the pipeline!\n",
      "Total training time:\n",
      "0:00:07\n",
      "\n",
      "\n",
      "Here are the results from our GradientBoostingClassifier\n",
      "predicting is_NP\n",
      "Calculating feature responses, for advanced analytics.\n",
      "The printed list will only contain at most the top 100 features.\n",
      "+----+-------------------------------------------------------------------------------+--------------+------------+-------------------+-------------------+-----------+-----------+-----------+-----------+\n",
      "|    | Feature Name                                                                  |   Importance |      Delta |   FR_Decrementing |   FR_Incrementing |   FRD_abs |   FRI_abs |   FRD_MAD |   FRI_MAD |\n",
      "|----+-------------------------------------------------------------------------------+--------------+------------+-------------------+-------------------+-----------+-----------+-----------+-----------|\n",
      "| 88 | insightsRiskFeatures__atmWithdrawals__atmExpensesRatio1M                      |       0.0001 |     0.0431 |            0.0000 |            0.0000 |    0.0000 |    0.0000 |    0.0000 |    0.0000 |\n",
      "| 64 | insightsRiskFeatures__balances__changeInFirstLastBalance                      |       0.0001 |     0.1294 |            0.0000 |            0.0000 |    0.0000 |    0.0000 |    0.0000 |    0.0000 |\n",
      "| 94 | insightsRiskFeatures__monthlyPaymentVariance__maxNormStdMonthlyExpenseStreams |       0.0012 |     0.1363 |            0.0000 |            0.0001 |    0.0000 |    0.0001 |    0.0000 |    0.0000 |\n",
      "| 41 | insightsRiskFeatures__overdrafts__numDaysInOverdraft6M                        |       0.0015 |    14.6878 |            0.0000 |            0.0000 |    0.0000 |    0.0000 |    0.0000 |    0.0000 |\n",
      "|  6 | first30d_new_cat__mac__[Circle-K]_outgoing_sum                                |       0.0018 |   464.9334 |            0.0000 |            0.0000 |    0.0000 |    0.0000 |    0.0000 |    0.0000 |\n",
      "| 45 | insightsRiskFeatures__loans__repaymentLoanRatio3M                             |       0.0020 |    32.3053 |            0.0000 |           -0.0001 |    0.0000 |    0.0001 |    0.0000 |    0.0000 |\n",
      "| 10 | first30d_new_cat__nk__[mostly collection but not only]_outgoing_count         |       0.0021 |     0.4102 |            0.0000 |            0.0000 |    0.0000 |    0.0000 |    0.0000 |    0.0000 |\n",
      "| 86 | insightsRiskFeatures__gamblingVsIncome__gamblingIncomeRatio1M                 |       0.0024 |     0.0685 |            0.0000 |            0.0001 |    0.0000 |    0.0001 |    0.0000 |    0.0000 |\n",
      "| 13 | first90d_new_cat__mac__[ICA]_outgoing_sum                                     |       0.0026 |   446.8372 |           -0.0012 |            0.0000 |    0.0012 |    0.0000 |    0.0000 |    0.0000 |\n",
      "| 44 | insightsRiskFeatures__lowBalances__daysBalanceBelow70_6M                      |       0.0026 |    13.2981 |            0.0005 |           -0.0001 |    0.0005 |    0.0001 |    0.0000 |    0.0000 |\n",
      "| 66 | insightsRiskFeatures__balances__meanBalance3M                                 |       0.0027 |     0.1243 |            0.0000 |            0.0002 |    0.0000 |    0.0002 |    0.0000 |    0.0000 |\n",
      "|  3 | first7d_new_cat__mac__[QStar]_outgoing_sum                                    |       0.0028 |    52.4410 |            0.0000 |            0.0000 |    0.0000 |    0.0000 |    0.0000 |    0.0000 |\n",
      "| 42 | insightsRiskFeatures__lowBalances__daysBalanceBelow0_6M                       |       0.0028 |    10.8940 |           -0.0002 |            0.0006 |    0.0002 |    0.0006 |    0.0000 |    0.0000 |\n",
      "|  7 | first30d_new_cat__mac__[LIDL]_outgoing_count                                  |       0.0030 |     0.8910 |           -0.0001 |            0.0002 |    0.0001 |    0.0002 |    0.0000 |    0.0000 |\n",
      "| 68 | insightsRiskFeatures__balances__stdBalanceTotal                               |       0.0030 |     0.1234 |            0.0006 |           -0.0002 |    0.0007 |    0.0003 |    0.0000 |    0.0000 |\n",
      "| 48 | insightsRiskFeatures__loans__sumLoans1M                                       |       0.0031 | 32308.5072 |           -0.0004 |            0.0032 |    0.0004 |    0.0032 |    0.0000 |    0.0000 |\n",
      "| 74 | insightsRiskFeatures__transactionStats__numOutTrns6M                          |       0.0031 |     0.1295 |            0.0005 |           -0.0003 |    0.0005 |    0.0003 |    0.0000 |    0.0000 |\n",
      "| 87 | insightsRiskFeatures__gamblingVsIncome__sumGambling1M                         |       0.0031 |  4948.6512 |            0.0001 |           -0.0025 |    0.0001 |    0.0028 |    0.0000 |    0.0000 |\n",
      "| 59 | insightsRiskFeatures__spendingDistribution__lastMonthSum(-20000 to -10000)    |       0.0031 |  7398.4840 |            0.0000 |           -0.0001 |    0.0000 |    0.0001 |    0.0000 |    0.0000 |\n",
      "| 23 | first90d_new_cat__nk__[e-commerce]_outgoing_count                             |       0.0033 |     1.3546 |            0.0008 |           -0.0005 |    0.0009 |    0.0007 |    0.0000 |    0.0000 |\n",
      "| 98 | feature_learning_7                                                            |       0.0033 |    10.5729 |            0.0006 |           -0.0002 |    0.0006 |    0.0002 |    0.0000 |    0.0000 |\n",
      "| 56 | insightsRiskFeatures__spendingDistribution__trend(50 to 100)                  |       0.0033 |     0.4680 |            0.0000 |           -0.0002 |    0.0000 |    0.0002 |    0.0000 |    0.0000 |\n",
      "| 17 | first90d_new_cat__mac__[QStar]_outgoing_sum                                   |       0.0034 |   363.7551 |            0.0000 |            0.0000 |    0.0000 |    0.0000 |    0.0000 |    0.0000 |\n",
      "| 27 | first180d_new_cat__mac__[OKQ]_outgoing_sum                                    |       0.0035 |  1189.2020 |           -0.0015 |            0.0007 |    0.0015 |    0.0007 |    0.0000 |    0.0000 |\n",
      "|  5 | first7d_new_cat__nk__[transfer via internet]_incoming_count                   |       0.0036 |     2.5697 |           -0.0002 |            0.0002 |    0.0002 |    0.0002 |    0.0000 |    0.0000 |\n",
      "| 60 | insightsRiskFeatures__spendingDistribution__lastMonthSum(10000 to 20000)      |       0.0036 | 10749.1634 |           -0.0001 |            0.0006 |    0.0001 |    0.0006 |    0.0000 |    0.0000 |\n",
      "| 54 | insightsRiskFeatures__spendingDistribution__lastMonthSum(-200 to -100)        |       0.0036 |     0.1333 |           -0.0004 |            0.0002 |    0.0004 |    0.0002 |    0.0000 |    0.0000 |\n",
      "| 18 | first90d_new_cat__nk__[mostly collection but not only]_outgoing_sum           |       0.0037 |  3570.3948 |           -0.0017 |            0.0006 |    0.0034 |    0.0007 |    0.0000 |    0.0000 |\n",
      "| 12 | first90d_new_cat__mac__[Circle-K]_outgoing_sum                                |       0.0038 |  1005.2634 |            0.0017 |           -0.0001 |    0.0017 |    0.0001 |    0.0000 |    0.0000 |\n",
      "| 92 | insightsRiskFeatures__atmWithdrawals__atmExpensesRatio12M                     |       0.0039 |     0.0380 |           -0.0004 |            0.0004 |    0.0004 |    0.0004 |    0.0000 |    0.0000 |\n",
      "| 67 | insightsRiskFeatures__balances__maxBalance3M                                  |       0.0039 |     0.1220 |           -0.0004 |            0.0004 |    0.0004 |    0.0004 |    0.0000 |    0.0000 |\n",
      "| 53 | insightsRiskFeatures__spendingDistribution__trend(500 to 1000)                |       0.0040 |     0.5427 |            0.0000 |           -0.0003 |    0.0000 |    0.0003 |    0.0000 |    0.0000 |\n",
      "| 51 | insightsRiskFeatures__loans__sumRepayments6M                                  |       0.0040 | 48567.0061 |            0.0035 |           -0.0021 |    0.0035 |    0.0024 |    0.0000 |    0.0000 |\n",
      "| 22 | first90d_new_cat__mac__[Stora Coop]_outgoing_count                            |       0.0042 |     2.6574 |           -0.0001 |            0.0001 |    0.0001 |    0.0001 |    0.0000 |    0.0000 |\n",
      "|  8 | first30d_new_cat__mac__[Stora Coop]_outgoing_count                            |       0.0042 |     1.1317 |           -0.0001 |            0.0003 |    0.0001 |    0.0003 |    0.0000 |    0.0000 |\n",
      "| 26 | first180d_new_cat__mac__[ICA Supermarket]_outgoing_sum                        |       0.0043 |  2385.2479 |           -0.0027 |            0.0006 |    0.0027 |    0.0006 |    0.0000 |    0.0000 |\n",
      "| 79 | insightsRiskFeatures__transactionStats__meanIncAmount6M                       |       0.0044 |     0.1276 |            0.0006 |           -0.0005 |    0.0006 |    0.0005 |    0.0000 |    0.0000 |\n",
      "| 31 | insightsRiskFeatures__cashFlow__positiveNegativeRatio1M                       |       0.0044 |     0.1308 |            0.0002 |           -0.0004 |    0.0002 |    0.0005 |    0.0000 |    0.0000 |\n",
      "| 24 | first180d_new_cat__mac__[Byggmax]_outgoing_sum                                |       0.0044 |   796.7206 |            0.0103 |            0.0000 |    0.0103 |    0.0000 |    0.0000 |    0.0000 |\n",
      "| 55 | insightsRiskFeatures__spendingDistribution__trend(1000 to 2000)               |       0.0045 |     0.6065 |            0.0001 |           -0.0007 |    0.0001 |    0.0007 |    0.0000 |    0.0000 |\n",
      "| 36 | insightsRiskFeatures__accountActivity__activityOutTotal                       |       0.0045 |     0.1295 |            0.0003 |           -0.0003 |    0.0003 |    0.0003 |    0.0000 |    0.0000 |\n",
      "| 33 | insightsRiskFeatures__accountActivity__activityInc1M                          |       0.0047 |     0.1519 |            0.0000 |           -0.0001 |    0.0000 |    0.0001 |    0.0000 |    0.0000 |\n",
      "| 76 | insightsRiskFeatures__transactionStats__meanAmount12M                         |       0.0048 |     0.1078 |           -0.0003 |            0.0015 |    0.0003 |    0.0015 |    0.0000 |    0.0000 |\n",
      "| 32 | insightsRiskFeatures__cashFlow__negativeCashflow6M                            |       0.0049 |     0.1238 |            0.0001 |           -0.0002 |    0.0001 |    0.0002 |    0.0000 |    0.0000 |\n",
      "| 25 | first180d_new_cat__mac__[Frendo]_outgoing_sum                                 |       0.0049 |   116.8010 |            0.0003 |           -0.0001 |    0.0003 |    0.0001 |    0.0000 |    0.0000 |\n",
      "| 49 | insightsRiskFeatures__loans__repaymentLoanRatio1M                             |       0.0051 |     1.8540 |            0.0010 |           -0.0068 |    0.0015 |    0.0094 |    0.0000 |    0.0079 |\n",
      "| 70 | insightsRiskFeatures__transactionStats__meanIncAmount1W                       |       0.0052 |     0.1349 |           -0.0004 |            0.0001 |    0.0004 |    0.0001 |    0.0000 |    0.0000 |\n",
      "| 11 | first30d_new_cat__nk__[transfer via internet]_incoming_count                  |       0.0052 |    10.0348 |           -0.0001 |            0.0001 |    0.0001 |    0.0001 |    0.0000 |    0.0000 |\n",
      "| 69 | insightsRiskFeatures__balances__minBalance1W                                  |       0.0052 |     0.0972 |            0.0011 |           -0.0022 |    0.0011 |    0.0022 |    0.0000 |    0.0000 |\n",
      "| 43 | insightsRiskFeatures__lowBalances__daysBalanceBelow0_1M                       |       0.0052 |     2.0156 |            0.0004 |           -0.0001 |    0.0004 |    0.0001 |    0.0000 |    0.0000 |\n",
      "| 77 | insightsRiskFeatures__transactionStats__meanAmount6M                          |       0.0052 |     0.1070 |            0.0006 |           -0.0007 |    0.0006 |    0.0007 |    0.0000 |    0.0000 |\n",
      "| 91 | insightsRiskFeatures__atmWithdrawals__sumAtmWithdrawals1M                     |       0.0053 |  3551.7643 |            0.0000 |            0.0002 |    0.0000 |    0.0002 |    0.0000 |    0.0000 |\n",
      "| 61 | insightsRiskFeatures__spendingDistribution__lastMonthSum(2000 to 5000)        |       0.0053 |  5763.0760 |            0.0000 |           -0.0003 |    0.0000 |    0.0003 |    0.0000 |    0.0000 |\n",
      "| 93 | insightsRiskFeatures__monthlyPaymentVariance__numMonthlyExpenseStreams        |       0.0055 |     0.1335 |            0.0001 |           -0.0002 |    0.0002 |    0.0002 |    0.0000 |    0.0000 |\n",
      "| 34 | insightsRiskFeatures__accountActivity__activityOut3M                          |       0.0055 |     0.1297 |            0.0005 |           -0.0003 |    0.0005 |    0.0003 |    0.0000 |    0.0000 |\n",
      "| 30 | insightsRiskFeatures__cashFlow__positiveNegativeRatio3M                       |       0.0056 |     0.1309 |            0.0003 |           -0.0004 |    0.0003 |    0.0007 |    0.0000 |    0.0000 |\n",
      "| 90 | insightsRiskFeatures__atmWithdrawals__sumAtmWithdrawals1W                     |       0.0056 |  1251.2083 |           -0.0007 |            0.0048 |    0.0007 |    0.0048 |    0.0000 |    0.0000 |\n",
      "| 46 | insightsRiskFeatures__loans__sumLoans3M                                       |       0.0057 | 37503.7641 |           -0.0013 |            0.0025 |    0.0013 |    0.0025 |    0.0000 |    0.0000 |\n",
      "| 40 | insightsRiskFeatures__collections__sumCollectionsTotal                        |       0.0058 |  4896.5179 |           -0.0004 |            0.0074 |    0.0004 |    0.0074 |    0.0000 |    0.0000 |\n",
      "| 73 | insightsRiskFeatures__transactionStats__meanAmount1W                          |       0.0059 |     0.1035 |           -0.0009 |            0.0003 |    0.0009 |    0.0003 |    0.0000 |    0.0000 |\n",
      "| 80 | insightsRiskFeatures__transactionStats__sumAmounts1M                          |       0.0060 |     0.1194 |           -0.0013 |            0.0011 |    0.0013 |    0.0011 |    0.0000 |    0.0000 |\n",
      "| 14 | first90d_new_cat__mac__[LIDL]_outgoing_sum                                    |       0.0061 |   396.0938 |            0.0011 |           -0.0002 |    0.0011 |    0.0002 |    0.0000 |    0.0000 |\n",
      "| 16 | first90d_new_cat__mac__[Netto]_outgoing_sum                                   |       0.0061 |   459.7732 |            0.0001 |           -0.0002 |    0.0001 |    0.0002 |    0.0000 |    0.0000 |\n",
      "|  4 | first7d_new_cat__mac__[Stora Coop]_outgoing_sum                               |       0.0061 |    81.4269 |           -0.0002 |            0.0001 |    0.0002 |    0.0001 |    0.0000 |    0.0000 |\n",
      "| 37 | insightsRiskFeatures__accountActivity__activityTotal                          |       0.0063 |     0.1295 |            0.0002 |           -0.0002 |    0.0002 |    0.0002 |    0.0000 |    0.0000 |\n",
      "|  1 | first7d_new_cat__mac__[ICA Kvantum]_outgoing_sum                              |       0.0063 |    98.3829 |            0.0019 |            0.0000 |    0.0019 |    0.0000 |    0.0000 |    0.0000 |\n",
      "| 82 | insightsRiskFeatures__transactionStats__numUniqueOutTrns1M                    |       0.0067 |     0.1362 |            0.0005 |           -0.0015 |    0.0005 |    0.0015 |    0.0000 |    0.0000 |\n",
      "| 20 | first90d_new_cat__mac__[Circle-K]_outgoing_count                              |       0.0069 |     5.0343 |            0.0000 |            0.0001 |    0.0000 |    0.0001 |    0.0000 |    0.0000 |\n",
      "|  9 | first30d_new_cat__mac__[Östenssons]_outgoing_count                            |       0.0070 |     0.1762 |            0.0000 |            0.0000 |    0.0000 |    0.0000 |    0.0000 |    0.0000 |\n",
      "| 65 | insightsRiskFeatures__balances__meanBalance1M                                 |       0.0072 |     0.1252 |           -0.0002 |            0.0001 |    0.0002 |    0.0001 |    0.0000 |    0.0000 |\n",
      "| 28 | insightsRiskFeatures__incomeTrends__avg30dRollingRecent                       |       0.0073 | 47088.4622 |            0.0006 |           -0.0008 |    0.0006 |    0.0008 |    0.0000 |    0.0000 |\n",
      "| 62 | insightsRiskFeatures__balances__minBalance1M                                  |       0.0073 |     0.1146 |            0.0012 |           -0.0015 |    0.0012 |    0.0015 |    0.0000 |    0.0000 |\n",
      "| 84 | insightsRiskFeatures__transactionStats__maxOutAmount6M                        |       0.0075 |     0.1346 |           -0.0012 |            0.0013 |    0.0012 |    0.0015 |    0.0000 |    0.0000 |\n",
      "| 38 | insightsRiskFeatures__collections__sumCollections3M                           |       0.0076 |  3826.5733 |           -0.0005 |            0.0013 |    0.0005 |    0.0013 |    0.0000 |    0.0000 |\n",
      "| 63 | insightsRiskFeatures__balances__maxBalance1M                                  |       0.0088 |     0.1219 |           -0.0009 |            0.0001 |    0.0009 |    0.0001 |    0.0000 |    0.0000 |\n",
      "| 35 | insightsRiskFeatures__accountActivity__activityOut1M                          |       0.0092 |     0.1357 |            0.0017 |           -0.0007 |    0.0017 |    0.0007 |    0.0000 |    0.0000 |\n",
      "| 96 | brand_name=Meddelandelån-ST                                                   |       0.0094 |   nan      |          nan      |          nan      |  nan      |  nan      |  nan      |  nan      |\n",
      "| 78 | insightsRiskFeatures__transactionStats__maxOutAmount1W                        |       0.0103 |     0.1325 |           -0.0005 |            0.0003 |    0.0005 |    0.0005 |    0.0000 |    0.0000 |\n",
      "| 95 | insightsRiskFeatures__monthlyPaymentVariance__maxStdMonthlyExpenseStreams     |       0.0106 |     0.1306 |           -0.0004 |            0.0013 |    0.0004 |    0.0013 |    0.0000 |    0.0000 |\n",
      "| 47 | insightsRiskFeatures__loans__sumRepayments3M                                  |       0.0115 | 18822.4783 |            0.0054 |           -0.0062 |    0.0057 |    0.0062 |    0.0000 |    0.0000 |\n",
      "| 21 | first90d_new_cat__mac__[LIDL]_outgoing_count                                  |       0.0117 |     2.4216 |           -0.0005 |            0.0009 |    0.0005 |    0.0009 |    0.0000 |    0.0000 |\n",
      "| 72 | insightsRiskFeatures__transactionStats__maxIncAmount1M                        |       0.0120 |     0.1209 |            0.0056 |           -0.0047 |    0.0057 |    0.0047 |    0.0000 |    0.0000 |\n",
      "| 85 | insightsRiskFeatures__transactionStats__sumAmounts1W                          |       0.0126 |     0.1150 |           -0.0058 |            0.0037 |    0.0060 |    0.0038 |    0.0000 |    0.0000 |\n",
      "| 52 | insightsRiskFeatures__spendingDistribution__lastMonthSum(50 to 100)           |       0.0135 |   102.7044 |            0.0001 |           -0.0003 |    0.0003 |    0.0013 |    0.0000 |    0.0000 |\n",
      "| 39 | insightsRiskFeatures__collections__sumCollections6M                           |       0.0138 |  7764.4043 |           -0.0059 |            0.0072 |    0.0062 |    0.0078 |    0.0000 |    0.0000 |\n",
      "| 83 | insightsRiskFeatures__transactionStats__maxOutAmount3M                        |       0.0143 |     0.1289 |           -0.0012 |            0.0011 |    0.0012 |    0.0011 |    0.0000 |    0.0000 |\n",
      "| 99 | feature_learning_8                                                            |       0.0147 |     6.6426 |            0.0022 |           -0.0027 |    0.0023 |    0.0028 |    0.0000 |    0.0000 |\n",
      "| 19 | first90d_new_cat__nk__[transfer via internet]_incoming_sum                    |       0.0164 | 42052.4292 |           -0.0003 |            0.0006 |    0.0003 |    0.0006 |    0.0000 |    0.0000 |\n",
      "|  2 | first7d_new_cat__mac__[Jula]_outgoing_sum                                     |       0.0177 |    21.3115 |            0.0001 |           -0.0002 |    0.0001 |    0.0002 |    0.0000 |    0.0000 |\n",
      "| 71 | insightsRiskFeatures__transactionStats__meanAmount1M                          |       0.0200 |     0.1146 |            0.0003 |           -0.0031 |    0.0003 |    0.0032 |    0.0000 |    0.0000 |\n",
      "| 75 | insightsRiskFeatures__transactionStats__maxOutAmount1M                        |       0.0215 |     0.1243 |           -0.0018 |            0.0010 |    0.0019 |    0.0011 |    0.0000 |    0.0000 |\n",
      "| 29 | insightsRiskFeatures__incomeTrends__avgRollingTrend                           |       0.0256 |     0.1263 |           -0.0021 |            0.0017 |    0.0022 |    0.0018 |    0.0000 |    0.0000 |\n",
      "| 81 | insightsRiskFeatures__transactionStats__meanIncAmount3M                       |       0.0282 |     0.1292 |            0.0034 |            0.0000 |    0.0054 |    0.0018 |    0.0000 |    0.0000 |\n",
      "| 15 | first90d_new_cat__mac__[McDonalds]_outgoing_sum                               |       0.0294 |   207.8745 |            0.0005 |           -0.0006 |    0.0005 |    0.0006 |    0.0000 |    0.0000 |\n",
      "| 89 | insightsRiskFeatures__atmWithdrawals__sumAtmWithdrawals3M                     |       0.0295 |  7992.7272 |           -0.0050 |            0.0183 |    0.0054 |    0.0192 |    0.0000 |    0.0172 |\n",
      "| 57 | insightsRiskFeatures__spendingDistribution__trend(-500 to -200)               |       0.0438 |     0.1237 |            0.0079 |           -0.0047 |    0.0095 |    0.0050 |    0.0000 |    0.0000 |\n",
      "|  0 | application_appliedloanamount                                                 |       0.0520 |     0.1638 |           -0.0080 |            0.0133 |    0.0099 |    0.0143 |    0.0000 |    0.0000 |\n",
      "| 97 | feature_learning_1                                                            |       0.0659 |    16.6989 |           -0.0010 |            0.0050 |    0.0011 |    0.0060 |    0.0000 |    0.0000 |\n",
      "| 50 | insightsRiskFeatures__loans__sumRepayments1M                                  |       0.0739 | 15909.0732 |            0.0455 |           -0.0267 |    0.0455 |    0.0267 |    0.0497 |    0.0000 |\n",
      "| 58 | insightsRiskFeatures__spendingDistribution__lastMonthSum(-500 to -200)        |       0.1000 |     0.1328 |           -0.0114 |            0.0145 |    0.0120 |    0.0150 |    0.0000 |    0.0000 |\n",
      "+----+-------------------------------------------------------------------------------+--------------+------------+-------------------+-------------------+-----------+-----------+-----------+-----------+\n",
      "\n",
      "\n",
      "*******\n",
      "Legend:\n",
      "Importance = Feature Importance\n",
      "     Explanation: A weighted measure of how much of the variance the model is able to explain is due to this column\n",
      "FR_delta = Feature Response Delta Amount\n",
      "     Explanation: Amount this column was incremented or decremented by to calculate the feature reponses\n",
      "FR_Decrementing = Feature Response From Decrementing Values In This Column By One FR_delta\n",
      "     Explanation: Represents how much the predicted output values respond to subtracting one FR_delta amount from every value in this column\n",
      "FR_Incrementing = Feature Response From Incrementing Values In This Column By One FR_delta\n",
      "     Explanation: Represents how much the predicted output values respond to adding one FR_delta amount to every value in this column\n",
      "FRD_MAD = Feature Response From Decrementing- Median Absolute Delta\n",
      "     Explanation: Takes the absolute value of all changes in predictions, then takes the median of those. Useful for seeing if decrementing this feature provokes strong changes that are both positive and negative\n",
      "FRI_MAD = Feature Response From Incrementing- Median Absolute Delta\n",
      "     Explanation: Takes the absolute value of all changes in predictions, then takes the median of those. Useful for seeing if incrementing this feature provokes strong changes that are both positive and negative\n",
      "FRD_abs = Feature Response From Decrementing Avg Absolute Change\n",
      "     Explanation: What is the average absolute change in predicted output values to subtracting one FR_delta amount to every value in this column. Useful for seeing if output is sensitive to a feature, but not in a uniformly positive or negative way\n",
      "FRI_abs = Feature Response From Incrementing Avg Absolute Change\n",
      "     Explanation: What is the average absolute change in predicted output values to adding one FR_delta amount to every value in this column. Useful for seeing if output is sensitive to a feature, but not in a uniformly positive or negative way\n",
      "*******\n",
      "\n"
     ]
    },
    {
     "name": "stderr",
     "output_type": "stream",
     "text": [
      "/Users/tomas/miniconda3/envs/py36/lib/python3.6/site-packages/sklearn/base.py:197: FutureWarning: From version 0.24, get_params will raise an AttributeError if a parameter cannot be retrieved as an instance attribute. Previously it would return None.\n",
      "  FutureWarning)\n"
     ]
    },
    {
     "data": {
      "text/plain": [
       "<auto_ml.predictor.Predictor at 0x12aa10128>"
      ]
     },
     "execution_count": 100,
     "metadata": {},
     "output_type": "execute_result"
    }
   ],
   "source": [
    "ml_predictor.train(df_train, feature_learning=True, fl_data=df_test)"
   ]
  },
  {
   "cell_type": "code",
   "execution_count": 104,
   "metadata": {},
   "outputs": [
    {
     "data": {
      "text/plain": [
       "<matplotlib.legend.Legend at 0x1a57c34dd8>"
      ]
     },
     "execution_count": 104,
     "metadata": {},
     "output_type": "execute_result"
    },
    {
     "data": {
      "image/png": "[encoded data removed]",
      "text/plain": [
       "<Figure size 432x288 with 1 Axes>"
      ]
     },
     "metadata": {
      "needs_background": "light"
     },
     "output_type": "display_data"
    }
   ],
   "source": [
    "from sklearn.metrics import roc_curve, roc_auc_score\n",
    "import matplotlib.pyplot as plt\n",
    "\n",
    "y_pred = ml_predictor.predict_proba(df_test)[:, 1]\n",
    "fpr, tpr, _ = roc_curve(df_test.is_NP, y_pred)\n",
    "auc = roc_auc_score(df_test.is_NP, y_pred)\n",
    "        \n",
    "label = 'AUC = {:.2f}'.format(auc)\n",
    "\n",
    "plt.plot([0, 1], [0, 1], 'k--')\n",
    "plt.plot(fpr, tpr, label=label)\n",
    "plt.xlabel('False positive rate')\n",
    "plt.ylabel('True positive rate')\n",
    "plt.title('ROC curve')\n",
    "plt.legend(loc='best')"
   ]
  },
  {
   "cell_type": "code",
   "execution_count": 108,
   "metadata": {},
   "outputs": [
    {
     "data": {
      "text/plain": [
       "<matplotlib.axes._subplots.AxesSubplot at 0x126db0518>"
      ]
     },
     "execution_count": 108,
     "metadata": {},
     "output_type": "execute_result"
    },
    {
     "data": {
      "image/png": "[encoded data removed]",
      "text/plain": [
       "<Figure size 432x288 with 1 Axes>"
      ]
     },
     "metadata": {
      "needs_background": "light"
     },
     "output_type": "display_data"
    }
   ],
   "source": [
    "pd.Series(y_pred).plot.hist()"
   ]
  },
  {
   "cell_type": "code",
   "execution_count": 84,
   "metadata": {},
   "outputs": [
    {
     "data": {
      "text/plain": [
       "Index(['app_applied_amount', 'nibc_original_principal_amount',\n",
       "       'app_granted_amount', 'cus_last_approved_amount_ml',\n",
       "       'cus_last_approved_amount_fl'],\n",
       "      dtype='object')"
      ]
     },
     "execution_count": 84,
     "metadata": {},
     "output_type": "execute_result"
    }
   ],
   "source": [
    "df.columns[df.columns.str.contains('amount')] "
   ]
  },
  {
   "cell_type": "code",
   "execution_count": 85,
   "metadata": {},
   "outputs": [
    {
     "data": {
      "text/plain": [
       "<matplotlib.axes._subplots.AxesSubplot at 0x1a523f6c88>"
      ]
     },
     "execution_count": 85,
     "metadata": {},
     "output_type": "execute_result"
    },
    {
     "data": {
      "image/png": "[encoded data removed]",
      "text/plain": [
       "<Figure size 432x288 with 1 Axes>"
      ]
     },
     "metadata": {
      "needs_background": "light"
     },
     "output_type": "display_data"
    }
   ],
   "source": [
    "df_train.nibc_c_finance_credit_score.plot(kind='hist',bins=100)"
   ]
  },
  {
   "cell_type": "code",
   "execution_count": 86,
   "metadata": {},
   "outputs": [
    {
     "data": {
      "text/html": [
       "<div>\n",
       "<style scoped>\n",
       "    .dataframe tbody tr th:only-of-type {\n",
       "        vertical-align: middle;\n",
       "    }\n",
       "\n",
       "    .dataframe tbody tr th {\n",
       "        vertical-align: top;\n",
       "    }\n",
       "\n",
       "    .dataframe thead tr th {\n",
       "        text-align: left;\n",
       "    }\n",
       "\n",
       "    .dataframe thead tr:last-of-type th {\n",
       "        text-align: right;\n",
       "    }\n",
       "</style>\n",
       "<table border=\"1\" class=\"dataframe\">\n",
       "  <thead>\n",
       "    <tr>\n",
       "      <th></th>\n",
       "      <th colspan=\"3\" halign=\"left\">target</th>\n",
       "    </tr>\n",
       "    <tr>\n",
       "      <th></th>\n",
       "      <th>mean</th>\n",
       "      <th>count</th>\n",
       "      <th>sum</th>\n",
       "    </tr>\n",
       "    <tr>\n",
       "      <th>nibc_c_finance_credit_score</th>\n",
       "      <th></th>\n",
       "      <th></th>\n",
       "      <th></th>\n",
       "    </tr>\n",
       "  </thead>\n",
       "  <tbody>\n",
       "    <tr>\n",
       "      <th>(-0.001, 14.237]</th>\n",
       "      <td>0.000000</td>\n",
       "      <td>28</td>\n",
       "      <td>0.0</td>\n",
       "    </tr>\n",
       "    <tr>\n",
       "      <th>(14.237, 16.005]</th>\n",
       "      <td>0.107143</td>\n",
       "      <td>28</td>\n",
       "      <td>3.0</td>\n",
       "    </tr>\n",
       "    <tr>\n",
       "      <th>(16.005, 17.418]</th>\n",
       "      <td>0.035714</td>\n",
       "      <td>28</td>\n",
       "      <td>1.0</td>\n",
       "    </tr>\n",
       "    <tr>\n",
       "      <th>(17.418, 18.843]</th>\n",
       "      <td>0.071429</td>\n",
       "      <td>28</td>\n",
       "      <td>2.0</td>\n",
       "    </tr>\n",
       "    <tr>\n",
       "      <th>(18.843, 19.992]</th>\n",
       "      <td>0.035714</td>\n",
       "      <td>28</td>\n",
       "      <td>1.0</td>\n",
       "    </tr>\n",
       "  </tbody>\n",
       "</table>\n",
       "</div>"
      ],
      "text/plain": [
       "                               target           \n",
       "                                 mean count  sum\n",
       "nibc_c_finance_credit_score                     \n",
       "(-0.001, 14.237]             0.000000    28  0.0\n",
       "(14.237, 16.005]             0.107143    28  3.0\n",
       "(16.005, 17.418]             0.035714    28  1.0\n",
       "(17.418, 18.843]             0.071429    28  2.0\n",
       "(18.843, 19.992]             0.035714    28  1.0"
      ]
     },
     "execution_count": 86,
     "metadata": {},
     "output_type": "execute_result"
    }
   ],
   "source": [
    "df_train.groupby(\n",
    "pd.qcut(df_train.nibc_c_finance_credit_score, 5)\n",
    ").agg({'target':['mean','count','sum']})"
   ]
  },
  {
   "cell_type": "code",
   "execution_count": 79,
   "metadata": {},
   "outputs": [
    {
     "data": {
      "text/plain": [
       "5000    3\n",
       "Name: app_granted_amount, dtype: int64"
      ]
     },
     "execution_count": 79,
     "metadata": {},
     "output_type": "execute_result"
    }
   ],
   "source": [
    "df_train.app_granted_amount.value_counts()"
   ]
  },
  {
   "cell_type": "code",
   "execution_count": 49,
   "metadata": {},
   "outputs": [
    {
     "data": {
      "text/plain": [
       "app_type\n",
       "fl       0.076011\n",
       "ml_lt    0.067616\n",
       "ml_st    0.219975\n",
       "Name: target, dtype: float64"
      ]
     },
     "execution_count": 49,
     "metadata": {},
     "output_type": "execute_result"
    }
   ],
   "source": [
    "df.groupby('app_type')['target'].mean()"
   ]
  },
  {
   "cell_type": "code",
   "execution_count": 56,
   "metadata": {},
   "outputs": [
    {
     "data": {
      "text/plain": [
       "0"
      ]
     },
     "execution_count": 56,
     "metadata": {},
     "output_type": "execute_result"
    }
   ],
   "source": [
    "df['cus_oldapps_transferred_ml'].sum()"
   ]
  },
  {
   "cell_type": "code",
   "execution_count": 57,
   "metadata": {},
   "outputs": [
    {
     "data": {
      "text/plain": [
       "0"
      ]
     },
     "execution_count": 57,
     "metadata": {},
     "output_type": "execute_result"
    }
   ],
   "source": [
    "df['cus_oldapps_accepted_fl'].sum()"
   ]
  },
  {
   "cell_type": "code",
   "execution_count": 60,
   "metadata": {},
   "outputs": [],
   "source": []
  },
  {
   "cell_type": "code",
   "execution_count": null,
   "metadata": {},
   "outputs": [],
   "source": []
  }
 ],
 "metadata": {
  "kernelspec": {
   "display_name": "Python 3",
   "language": "python",
   "name": "python3"
  },
  "language_info": {
   "codemirror_mode": {
    "name": "ipython",
    "version": 3
   },
   "file_extension": ".py",
   "mimetype": "text/x-python",
   "name": "python",
   "nbconvert_exporter": "python",
   "pygments_lexer": "ipython3",
   "version": "3.6.10"
  }
 },
 "nbformat": 4,
 "nbformat_minor": 4
}
